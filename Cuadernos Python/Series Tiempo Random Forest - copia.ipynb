{
 "cells": [
  {
   "cell_type": "markdown",
   "metadata": {
    "cell_id": "382f6b07398942fe8065317cc953459f",
    "deepnote_cell_type": "markdown"
   },
   "source": [
    "## Introducción \n",
    "\n",
    "\n",
    "Una serie de tiempo es una sucesión de datos ordenados cronológicamente espaciados en intervalos iguales o desiguales. El proceso de pronóstico consiste en predecir el valor futuro de una serie de tiempo, ya sea modelando la serie únicamente en función de su comportamiento pasado (autoregresivo) o utilizando otras variables externas.\n",
    "\n",
    "![](https://www.cienciadedatos.net/images/forecasting_multi-step_en.gif)\n",
    "\n",
    "Skforecast , una biblioteca simple que contiene las clases y funciones necesarias para adaptar cualquier modelo de regresión Scikit-learn a problemas de pronóstico."
   ]
  },
  {
   "cell_type": "markdown",
   "metadata": {
    "cell_id": "2bc5074dc38748d9a990dc2851009d8e",
    "deepnote_cell_type": "markdown"
   },
   "source": [
    "## Aprendizaje automático para pronósticos \n",
    "\n",
    "\n",
    "Para aplicar modelos de aprendizaje automático a problemas de pronóstico, la serie de tiempo debe transformarse en una matriz en la que cada valor esté relacionado con la ventana de tiempo (retrasos) que lo precede.\n",
    "\n",
    "En un contexto de serie de tiempo, un retraso con respecto a un paso de tiempo t\n",
    " se define como los valores de la serie en pasos de tiempo anteriores. Por ejemplo, lag 1 es el valor en el paso de tiempo $t-1$\n",
    "\n",
    " ![](https://www.cienciadedatos.net/images/transform_timeseries.gif)\n",
    " "
   ]
  },
  {
   "cell_type": "markdown",
   "metadata": {
    "cell_id": "9247da8bdd27492cb1b7a32f93d397ce",
    "deepnote_cell_type": "markdown"
   },
   "source": [
    "Este tipo de transformación también permite incluir variables adicionales.\n",
    "\n",
    "![](https://www.cienciadedatos.net/images/matrix_transformation_with_exog_variable.png)\n",
    "\n",
    "Una vez que los datos se han reorganizado en la nueva forma, se puede entrenar cualquier modelo de regresión para predecir el siguiente valor (paso) de la serie. Durante el entrenamiento del modelo, cada fila se considera una instancia de datos separada, donde los valores en los retrasos $1, 2, ... p$  se consideran predictores de la cantidad objetivo de la serie de tiempo en el paso de tiempo $p+ 1$\n",
    " ."
   ]
  },
  {
   "cell_type": "markdown",
   "metadata": {
    "cell_id": "872e2fbafbaa483292f04891bb232c83",
    "deepnote_cell_type": "markdown"
   },
   "source": [
    "## Pronóstico recursivo de varios pasos \n",
    "\n",
    "\n",
    "Dado que el valor $t_{n-1}$  se requiere para predecir $t_n$  y $t_{n-1}$ se desconoce, se aplica un proceso recursivo en el que, cada nueva predicción, se basa en la anterior. Este proceso se conoce como pronóstico recursivo o pronóstico recursivo de varios pasos y se puede generar fácilmente con las clases `ForecasterAutoreg` y `ForecasterAutoregCustom`\n",
    "\n",
    "![](https://www.cienciadedatos.net/images/diagram-recursive-mutistep-forecasting.png)\n",
    "\n",
    "Diagrama recursivo del proceso de predicción de varios pasos para predecir 3 pasos hacia el futuro utilizando los últimos 4 retrasos de la serie como predictores."
   ]
  },
  {
   "cell_type": "markdown",
   "metadata": {
    "cell_id": "3efdb92ddf0e4ca486b9e9e3116e3e02",
    "deepnote_cell_type": "markdown"
   },
   "source": [
    "## Pronóstico directo de varios pasos \n",
    "El pronóstico directo de varios pasos consiste en entrenar un modelo diferente para cada paso del horizonte de pronóstico. Por ejemplo, para predecir los siguientes 5 valores de una serie temporal, se entrenan 5 modelos diferentes, uno para cada paso. Como resultado, las predicciones son independientes entre sí\n",
    "\n",
    "![](https://www.cienciadedatos.net/images/diagram-direct-multi-step-forecasting.png)\n",
    "\n",
    "Diagrama directo del proceso de predicción de varios pasos para predecir 3 pasos hacia el futuro utilizando los últimos 4 retrasos de la serie como predictores."
   ]
  },
  {
   "cell_type": "markdown",
   "metadata": {
    "cell_id": "f7c27587781f40aca057c33dd5705dad",
    "deepnote_cell_type": "markdown"
   },
   "source": [
    "La principal complejidad de este enfoque es generar las matrices de entrenamiento correctas para cada modelo. La ForecasterAutoregDirectclase de la biblioteca skforecast automatiza este proceso. También es importante tener en cuenta que esta estrategia tiene un mayor costo computacional ya que requiere el tren de múltiples modelos. El siguiente diagrama muestra el proceso para un caso en el que se dispone de la variable de respuesta y dos variables exógenas.\n",
    "\n",
    "![](https://www.cienciadedatos.net/images/diagram_skforecast_multioutput.png)"
   ]
  },
  {
   "cell_type": "code",
   "execution_count": null,
   "metadata": {
    "cell_id": "56af5a1baf3b479993d024c89efa59c1",
    "deepnote_cell_type": "code"
   },
   "outputs": [],
   "source": []
  },
  {
   "cell_type": "markdown",
   "metadata": {
    "cell_id": "91938a17fc5e417ba2e8ede71423c3fb",
    "deepnote_cell_type": "markdown"
   },
   "source": [
    "## Pronóstico autorregresivo recursivo \n",
    "\n",
    "\n",
    "Se dispone de una serie temporal con el gasto mensual (millones de dólares) en corticoides que tuvo el sistema sanitario australiano entre 1991 y 2008. Se pretende crear un modelo autorregresivo capaz de predecir los futuros gastos mensuales.\n",
    "\n",
    "Bibliotecas \n",
    "\n",
    "\n",
    "Las bibliotecas utilizadas en este documento son:"
   ]
  },
  {
   "cell_type": "code",
   "execution_count": null,
   "metadata": {},
   "outputs": [
    {
     "name": "stdout",
     "output_type": "stream",
     "text": [
      "Collecting skforecast==0.12.1\n",
      "  Using cached skforecast-0.12.1-py3-none-any.whl.metadata (22 kB)\n",
      "Requirement already satisfied: numpy<1.27,>=1.20 in c:\\users\\wsand\\anaconda3\\lib\\site-packages (from skforecast==0.12.1) (1.26.4)\n",
      "Requirement already satisfied: pandas<2.3,>=1.2 in c:\\users\\wsand\\anaconda3\\lib\\site-packages (from skforecast==0.12.1) (2.2.2)\n",
      "Requirement already satisfied: tqdm<4.67,>=4.57 in c:\\users\\wsand\\anaconda3\\lib\\site-packages (from skforecast==0.12.1) (4.66.4)\n",
      "Requirement already satisfied: scikit-learn<1.5,>=1.2 in c:\\users\\wsand\\anaconda3\\lib\\site-packages (from skforecast==0.12.1) (1.4.2)\n",
      "Collecting optuna<3.7,>=2.10 (from skforecast==0.12.1)\n",
      "  Downloading optuna-3.6.2-py3-none-any.whl.metadata (17 kB)\n",
      "Requirement already satisfied: joblib<1.5,>=1.1 in c:\\users\\wsand\\anaconda3\\lib\\site-packages (from skforecast==0.12.1) (1.4.2)\n",
      "Requirement already satisfied: alembic>=1.5.0 in c:\\users\\wsand\\anaconda3\\lib\\site-packages (from optuna<3.7,>=2.10->skforecast==0.12.1) (1.14.0)\n",
      "Requirement already satisfied: colorlog in c:\\users\\wsand\\anaconda3\\lib\\site-packages (from optuna<3.7,>=2.10->skforecast==0.12.1) (6.9.0)\n",
      "Requirement already satisfied: packaging>=20.0 in c:\\users\\wsand\\appdata\\roaming\\python\\python312\\site-packages (from optuna<3.7,>=2.10->skforecast==0.12.1) (24.0)\n",
      "Requirement already satisfied: sqlalchemy>=1.3.0 in c:\\users\\wsand\\anaconda3\\lib\\site-packages (from optuna<3.7,>=2.10->skforecast==0.12.1) (2.0.30)\n",
      "Requirement already satisfied: PyYAML in c:\\users\\wsand\\anaconda3\\lib\\site-packages (from optuna<3.7,>=2.10->skforecast==0.12.1) (6.0.1)\n",
      "Requirement already satisfied: python-dateutil>=2.8.2 in c:\\users\\wsand\\appdata\\roaming\\python\\python312\\site-packages (from pandas<2.3,>=1.2->skforecast==0.12.1) (2.9.0.post0)\n",
      "Requirement already satisfied: pytz>=2020.1 in c:\\users\\wsand\\anaconda3\\lib\\site-packages (from pandas<2.3,>=1.2->skforecast==0.12.1) (2024.1)\n",
      "Requirement already satisfied: tzdata>=2022.7 in c:\\users\\wsand\\anaconda3\\lib\\site-packages (from pandas<2.3,>=1.2->skforecast==0.12.1) (2023.3)\n",
      "Requirement already satisfied: scipy>=1.6.0 in c:\\users\\wsand\\anaconda3\\lib\\site-packages (from scikit-learn<1.5,>=1.2->skforecast==0.12.1) (1.13.1)\n",
      "Requirement already satisfied: threadpoolctl>=2.0.0 in c:\\users\\wsand\\anaconda3\\lib\\site-packages (from scikit-learn<1.5,>=1.2->skforecast==0.12.1) (3.5.0)\n",
      "Requirement already satisfied: colorama in c:\\users\\wsand\\appdata\\roaming\\python\\python312\\site-packages (from tqdm<4.67,>=4.57->skforecast==0.12.1) (0.4.6)\n",
      "Requirement already satisfied: Mako in c:\\users\\wsand\\anaconda3\\lib\\site-packages (from alembic>=1.5.0->optuna<3.7,>=2.10->skforecast==0.12.1) (1.3.6)\n",
      "Requirement already satisfied: typing-extensions>=4 in c:\\users\\wsand\\anaconda3\\lib\\site-packages (from alembic>=1.5.0->optuna<3.7,>=2.10->skforecast==0.12.1) (4.11.0)\n",
      "Requirement already satisfied: six>=1.5 in c:\\users\\wsand\\appdata\\roaming\\python\\python312\\site-packages (from python-dateutil>=2.8.2->pandas<2.3,>=1.2->skforecast==0.12.1) (1.16.0)\n",
      "Requirement already satisfied: greenlet!=0.4.17 in c:\\users\\wsand\\anaconda3\\lib\\site-packages (from sqlalchemy>=1.3.0->optuna<3.7,>=2.10->skforecast==0.12.1) (3.0.1)\n",
      "Requirement already satisfied: MarkupSafe>=0.9.2 in c:\\users\\wsand\\anaconda3\\lib\\site-packages (from Mako->alembic>=1.5.0->optuna<3.7,>=2.10->skforecast==0.12.1) (2.1.3)\n",
      "Downloading skforecast-0.12.1-py3-none-any.whl (560 kB)\n",
      "   ---------------------------------------- 0.0/560.6 kB ? eta -:--:--\n",
      "   ---------------------------------------- 560.6/560.6 kB 9.3 MB/s eta 0:00:00\n",
      "Downloading optuna-3.6.2-py3-none-any.whl (380 kB)\n",
      "Installing collected packages: optuna, skforecast\n",
      "  Attempting uninstall: optuna\n",
      "    Found existing installation: optuna 4.1.0\n",
      "    Uninstalling optuna-4.1.0:\n",
      "      Successfully uninstalled optuna-4.1.0\n",
      "  Attempting uninstall: skforecast\n",
      "    Found existing installation: skforecast 0.14.0\n",
      "    Uninstalling skforecast-0.14.0:\n",
      "      Successfully uninstalled skforecast-0.14.0\n",
      "Successfully installed optuna-3.6.2 skforecast-0.12.1\n",
      "Note: you may need to restart the kernel to use updated packages.\n"
     ]
    }
   ],
   "source": [
    "#%pip install skforecast==0.12.1"
   ]
  },
  {
   "cell_type": "code",
   "execution_count": 3,
   "metadata": {},
   "outputs": [
    {
     "name": "stdout",
     "output_type": "stream",
     "text": [
      "0.12.1\n"
     ]
    }
   ],
   "source": [
    "import skforecast\n",
    "print(skforecast.__version__)\n"
   ]
  },
  {
   "cell_type": "code",
   "execution_count": 5,
   "metadata": {},
   "outputs": [
    {
     "name": "stdout",
     "output_type": "stream",
     "text": [
      "['datasets', 'exceptions', 'ForecasterAutoreg', 'ForecasterAutoregCustom', 'ForecasterAutoregDirect', 'ForecasterAutoregMultiSeries', 'ForecasterAutoregMultiSeriesCustom', 'ForecasterAutoregMultiVariate', 'ForecasterBase', 'ForecasterBaseline', 'ForecasterRnn', 'ForecasterSarimax', 'model_selection', 'model_selection_multiseries', 'model_selection_sarimax', 'plot', 'preprocessing', 'Sarimax', 'utils', '__init__.py', '__pycache__']\n"
     ]
    }
   ],
   "source": [
    "import skforecast\n",
    "import os\n",
    "print(os.listdir(skforecast.__path__[0]))"
   ]
  },
  {
   "cell_type": "code",
   "execution_count": 6,
   "metadata": {
    "cell_id": "6b78123219d94daeb8946f12e9b707c5",
    "deepnote_cell_type": "code",
    "deepnote_to_be_reexecuted": false,
    "execution_millis": 623,
    "execution_start": 1683351944068,
    "source_hash": "8ac232f4"
   },
   "outputs": [],
   "source": [
    "\n",
    "# ==============================================================================\n",
    "import numpy as np\n",
    "import pandas as pd\n",
    "\n",
    "\n",
    "# ==============================================================================\n",
    "import matplotlib.pyplot as plt\n",
    "plt.style.use('fivethirtyeight')\n",
    "plt.rcParams['lines.linewidth'] = 1.5\n",
    "%matplotlib inline\n",
    "\n",
    "\n",
    "# ==============================================================================\n",
    "from sklearn.linear_model import LinearRegression\n",
    "from sklearn.linear_model import Lasso\n",
    "from sklearn.ensemble import RandomForestRegressor\n",
    "from sklearn.tree import DecisionTreeRegressor\n",
    "from sklearn.metrics import mean_squared_error, root_mean_squared_error, mean_absolute_percentage_error\n",
    "from sklearn.preprocessing import StandardScaler\n",
    "from sklearn.pipeline import make_pipeline\n",
    "\n",
    "\n",
    "from skforecast.ForecasterAutoreg import ForecasterAutoreg\n",
    "from skforecast.ForecasterAutoregCustom import ForecasterAutoregCustom\n",
    "from skforecast.ForecasterAutoregDirect import ForecasterAutoregDirect\n",
    "from skforecast.model_selection import grid_search_forecaster\n",
    "from skforecast.model_selection import backtesting_forecaster\n",
    "from skforecast.utils import save_forecaster\n",
    "from skforecast.utils import load_forecaster\n",
    "\n",
    "# Warnings configuration\n",
    "# ==============================================================================\n",
    "import warnings\n",
    "\n",
    "# warnings.filterwarnings('ignore')"
   ]
  },
  {
   "cell_type": "code",
   "execution_count": 8,
   "metadata": {
    "cell_id": "60fefdcd4ecd47d4a54f64eed1a4d583",
    "deepnote_cell_type": "code",
    "deepnote_to_be_reexecuted": false,
    "execution_millis": 268,
    "execution_start": 1683352340017,
    "source_hash": "c6aa89d9"
   },
   "outputs": [
    {
     "data": {
      "application/vnd.microsoft.datawrangler.viewer.v0+json": {
       "columns": [
        {
         "name": "index",
         "rawType": "int64",
         "type": "integer"
        },
        {
         "name": "fecha",
         "rawType": "object",
         "type": "string"
        },
        {
         "name": "y",
         "rawType": "float64",
         "type": "float"
        },
        {
         "name": "exog_1",
         "rawType": "float64",
         "type": "float"
        },
        {
         "name": "exog_2",
         "rawType": "float64",
         "type": "float"
        }
       ],
       "conversionMethod": "pd.DataFrame",
       "ref": "5f155158-503a-4992-8831-c08f24ce6bfb",
       "rows": [
        [
         "0",
         "1992-04-01",
         "0.379808",
         "0.9587919",
         "1.1660294"
        ],
        [
         "1",
         "1992-05-01",
         "0.361801",
         "0.9519925",
         "1.1178592"
        ],
        [
         "2",
         "1992-06-01",
         "0.410534",
         "0.9529553",
         "1.0679422"
        ],
        [
         "3",
         "1992-07-01",
         "0.48338867",
         "0.958078267",
         "1.097375934"
        ],
        [
         "4",
         "1992-08-01",
         "0.47546342",
         "0.956370309",
         "1.122199018"
        ],
        [
         "5",
         "1992-09-01",
         "0.53476104",
         "0.959609513",
         "1.153189626"
        ],
        [
         "6",
         "1992-10-01",
         "0.56860613",
         "0.956204926",
         "1.194550652"
        ],
        [
         "7",
         "1992-11-01",
         "0.59522329",
         "0.949715355",
         "1.23148851"
        ],
        [
         "8",
         "1992-12-01",
         "0.77125778",
         "0.993219133",
         "1.289062332"
        ],
        [
         "9",
         "1993-01-01",
         "0.7515028",
         "1.033234613",
         "1.344270208"
        ],
        [
         "10",
         "1993-02-01",
         "0.38755434",
         "1.034009247",
         "1.314828868"
        ],
        [
         "11",
         "1993-03-01",
         "0.42728322",
         "1.040557469",
         "1.286564286"
        ],
        [
         "12",
         "1993-04-01",
         "0.41389018",
         "1.040893087",
         "1.250297664"
        ],
        [
         "13",
         "1993-05-01",
         "0.42885882",
         "1.035440102",
         "1.181817872"
        ],
        [
         "14",
         "1993-06-01",
         "0.47012642",
         "1.034906402",
         "1.125542596"
        ],
        [
         "15",
         "1993-07-01",
         "0.50920969",
         "1.032351267",
         "1.149873666"
        ],
        [
         "16",
         "1993-08-01",
         "0.558443",
         "1.031334954",
         "1.176105622"
        ],
        [
         "17",
         "1993-09-01",
         "0.60151406",
         "1.031964031",
         "1.213630398"
        ],
        [
         "18",
         "1993-10-01",
         "0.6329471",
         "1.018132963",
         "1.254448054"
        ],
        [
         "19",
         "1993-11-01",
         "0.69960539",
         "1.012943222",
         "1.300343848"
        ],
        [
         "20",
         "1993-12-01",
         "0.96308051",
         "1.070495839",
         "1.391118012"
        ],
        [
         "21",
         "1994-01-01",
         "0.81932534",
         "1.109700051",
         "1.44329448"
        ],
        [
         "22",
         "1994-02-01",
         "0.4376698",
         "1.112078013",
         "1.410525628"
        ],
        [
         "23",
         "1994-03-01",
         "0.50612127",
         "1.119804258",
         "1.385160462"
        ],
        [
         "24",
         "1994-04-01",
         "0.47049117",
         "1.119840733",
         "1.339337618"
        ],
        [
         "25",
         "1994-05-01",
         "0.51069626",
         "1.11998939",
         "1.248860768"
        ],
        [
         "26",
         "1994-06-01",
         "0.54051379",
         "1.118196469",
         "1.193098458"
        ],
        [
         "27",
         "1994-07-01",
         "0.55811892",
         "1.113856955",
         "1.217188282"
        ],
        [
         "28",
         "1994-08-01",
         "0.67285206",
         "1.117847451",
         "1.25053444"
        ],
        [
         "29",
         "1994-09-01",
         "0.68589738",
         "1.11647665",
         "1.293615682"
        ],
        [
         "30",
         "1994-10-01",
         "0.68969198",
         "1.089137797",
         "1.329414826"
        ],
        [
         "31",
         "1994-11-01",
         "0.74130358",
         "1.081335621",
         "1.369572784"
        ],
        [
         "32",
         "1994-12-01",
         "0.81330763",
         "1.118899404",
         "1.420610526"
        ],
        [
         "33",
         "1995-01-01",
         "0.80311257",
         "1.148598534",
         "1.446662628"
        ],
        [
         "34",
         "1995-02-01",
         "0.47525824",
         "1.149075241",
         "1.4045348"
        ],
        [
         "35",
         "1995-03-01",
         "0.5525723",
         "1.153262845",
         "1.377110864"
        ],
        [
         "36",
         "1995-04-01",
         "0.52710782",
         "1.151922248",
         "1.334271712"
        ],
        [
         "37",
         "1995-05-01",
         "0.56124982",
         "1.152235338",
         "1.28386015"
        ],
        [
         "38",
         "1995-06-01",
         "0.58897764",
         "1.143847896",
         "1.241033164"
        ],
        [
         "39",
         "1995-07-01",
         "0.62313362",
         "1.13757152",
         "1.27060824"
        ],
        [
         "40",
         "1995-08-01",
         "0.74083723",
         "1.142686045",
         "1.308261226"
        ],
        [
         "41",
         "1995-09-01",
         "0.72537176",
         "1.141092863",
         "1.347914014"
        ],
        [
         "42",
         "1995-10-01",
         "0.81580302",
         "1.141342402",
         "1.398824654"
        ],
        [
         "43",
         "1995-11-01",
         "0.81400947",
         "1.142432092",
         "1.44383102"
        ],
        [
         "44",
         "1995-12-01",
         "0.92665305",
         "1.187571573",
         "1.504534906"
        ],
        [
         "45",
         "1996-01-01",
         "0.93727594",
         "1.226041937",
         "1.543822648"
        ],
        [
         "46",
         "1996-02-01",
         "0.52876165",
         "1.22620732",
         "1.504500626"
        ],
        [
         "47",
         "1996-03-01",
         "0.55933994",
         "1.226016332",
         "1.45320801"
        ],
        [
         "48",
         "1996-04-01",
         "0.57787166",
         "1.224905734",
         "1.405980448"
        ],
        [
         "49",
         "1996-05-01",
         "0.61492741",
         "1.224085113",
         "1.34363532"
        ]
       ],
       "shape": {
        "columns": 4,
        "rows": 195
       }
      },
      "text/html": [
       "<div>\n",
       "<style scoped>\n",
       "    .dataframe tbody tr th:only-of-type {\n",
       "        vertical-align: middle;\n",
       "    }\n",
       "\n",
       "    .dataframe tbody tr th {\n",
       "        vertical-align: top;\n",
       "    }\n",
       "\n",
       "    .dataframe thead th {\n",
       "        text-align: right;\n",
       "    }\n",
       "</style>\n",
       "<table border=\"1\" class=\"dataframe\">\n",
       "  <thead>\n",
       "    <tr style=\"text-align: right;\">\n",
       "      <th></th>\n",
       "      <th>fecha</th>\n",
       "      <th>y</th>\n",
       "      <th>exog_1</th>\n",
       "      <th>exog_2</th>\n",
       "    </tr>\n",
       "  </thead>\n",
       "  <tbody>\n",
       "    <tr>\n",
       "      <th>0</th>\n",
       "      <td>1992-04-01</td>\n",
       "      <td>0.379808</td>\n",
       "      <td>0.958792</td>\n",
       "      <td>1.166029</td>\n",
       "    </tr>\n",
       "    <tr>\n",
       "      <th>1</th>\n",
       "      <td>1992-05-01</td>\n",
       "      <td>0.361801</td>\n",
       "      <td>0.951993</td>\n",
       "      <td>1.117859</td>\n",
       "    </tr>\n",
       "    <tr>\n",
       "      <th>2</th>\n",
       "      <td>1992-06-01</td>\n",
       "      <td>0.410534</td>\n",
       "      <td>0.952955</td>\n",
       "      <td>1.067942</td>\n",
       "    </tr>\n",
       "    <tr>\n",
       "      <th>3</th>\n",
       "      <td>1992-07-01</td>\n",
       "      <td>0.483389</td>\n",
       "      <td>0.958078</td>\n",
       "      <td>1.097376</td>\n",
       "    </tr>\n",
       "    <tr>\n",
       "      <th>4</th>\n",
       "      <td>1992-08-01</td>\n",
       "      <td>0.475463</td>\n",
       "      <td>0.956370</td>\n",
       "      <td>1.122199</td>\n",
       "    </tr>\n",
       "    <tr>\n",
       "      <th>...</th>\n",
       "      <td>...</td>\n",
       "      <td>...</td>\n",
       "      <td>...</td>\n",
       "      <td>...</td>\n",
       "    </tr>\n",
       "    <tr>\n",
       "      <th>190</th>\n",
       "      <td>2008-02-01</td>\n",
       "      <td>0.761822</td>\n",
       "      <td>1.515840</td>\n",
       "      <td>1.786373</td>\n",
       "    </tr>\n",
       "    <tr>\n",
       "      <th>191</th>\n",
       "      <td>2008-03-01</td>\n",
       "      <td>0.649435</td>\n",
       "      <td>1.506258</td>\n",
       "      <td>1.694264</td>\n",
       "    </tr>\n",
       "    <tr>\n",
       "      <th>192</th>\n",
       "      <td>2008-04-01</td>\n",
       "      <td>0.827887</td>\n",
       "      <td>1.505253</td>\n",
       "      <td>1.627135</td>\n",
       "    </tr>\n",
       "    <tr>\n",
       "      <th>193</th>\n",
       "      <td>2008-05-01</td>\n",
       "      <td>0.816255</td>\n",
       "      <td>1.491464</td>\n",
       "      <td>1.555068</td>\n",
       "    </tr>\n",
       "    <tr>\n",
       "      <th>194</th>\n",
       "      <td>2008-06-01</td>\n",
       "      <td>0.762137</td>\n",
       "      <td>1.459856</td>\n",
       "      <td>1.463507</td>\n",
       "    </tr>\n",
       "  </tbody>\n",
       "</table>\n",
       "<p>195 rows × 4 columns</p>\n",
       "</div>"
      ],
      "text/plain": [
       "          fecha         y    exog_1    exog_2\n",
       "0    1992-04-01  0.379808  0.958792  1.166029\n",
       "1    1992-05-01  0.361801  0.951993  1.117859\n",
       "2    1992-06-01  0.410534  0.952955  1.067942\n",
       "3    1992-07-01  0.483389  0.958078  1.097376\n",
       "4    1992-08-01  0.475463  0.956370  1.122199\n",
       "..          ...       ...       ...       ...\n",
       "190  2008-02-01  0.761822  1.515840  1.786373\n",
       "191  2008-03-01  0.649435  1.506258  1.694264\n",
       "192  2008-04-01  0.827887  1.505253  1.627135\n",
       "193  2008-05-01  0.816255  1.491464  1.555068\n",
       "194  2008-06-01  0.762137  1.459856  1.463507\n",
       "\n",
       "[195 rows x 4 columns]"
      ]
     },
     "execution_count": 8,
     "metadata": {},
     "output_type": "execute_result"
    }
   ],
   "source": [
    "data=pd.read_excel(\"https://github.com/Wilsonsr/Series-de-Tiempo/raw/main/Data/data.xlsx\")\n",
    "data=data.drop(columns='Unnamed: 0')\n",
    "data"
   ]
  },
  {
   "cell_type": "code",
   "execution_count": 9,
   "metadata": {},
   "outputs": [
    {
     "name": "stdout",
     "output_type": "stream",
     "text": [
      "<class 'pandas.core.frame.DataFrame'>\n",
      "RangeIndex: 195 entries, 0 to 194\n",
      "Data columns (total 4 columns):\n",
      " #   Column  Non-Null Count  Dtype  \n",
      "---  ------  --------------  -----  \n",
      " 0   fecha   195 non-null    object \n",
      " 1   y       195 non-null    float64\n",
      " 2   exog_1  195 non-null    float64\n",
      " 3   exog_2  195 non-null    float64\n",
      "dtypes: float64(3), object(1)\n",
      "memory usage: 6.2+ KB\n"
     ]
    }
   ],
   "source": [
    "data.info()"
   ]
  },
  {
   "cell_type": "code",
   "execution_count": 10,
   "metadata": {
    "cell_id": "49381ccde36849f9be171205470bae62",
    "deepnote_cell_type": "code",
    "deepnote_to_be_reexecuted": false,
    "execution_millis": 67,
    "execution_start": 1683352344014,
    "source_hash": "85d12094"
   },
   "outputs": [
    {
     "data": {
      "application/vnd.microsoft.datawrangler.viewer.v0+json": {
       "columns": [
        {
         "name": "date",
         "rawType": "datetime64[ns]",
         "type": "datetime"
        },
        {
         "name": "y",
         "rawType": "float64",
         "type": "float"
        },
        {
         "name": "exog_1",
         "rawType": "float64",
         "type": "float"
        },
        {
         "name": "exog_2",
         "rawType": "float64",
         "type": "float"
        }
       ],
       "conversionMethod": "pd.DataFrame",
       "ref": "af259701-0f0d-456b-bfef-9a15d8f96eba",
       "rows": [
        [
         "1992-04-01 00:00:00",
         "0.379808",
         "0.9587919",
         "1.1660294"
        ],
        [
         "1992-05-01 00:00:00",
         "0.361801",
         "0.9519925",
         "1.1178592"
        ],
        [
         "1992-06-01 00:00:00",
         "0.410534",
         "0.9529553",
         "1.0679422"
        ],
        [
         "1992-07-01 00:00:00",
         "0.48338867",
         "0.958078267",
         "1.097375934"
        ],
        [
         "1992-08-01 00:00:00",
         "0.47546342",
         "0.956370309",
         "1.122199018"
        ]
       ],
       "shape": {
        "columns": 3,
        "rows": 5
       }
      },
      "text/html": [
       "<div>\n",
       "<style scoped>\n",
       "    .dataframe tbody tr th:only-of-type {\n",
       "        vertical-align: middle;\n",
       "    }\n",
       "\n",
       "    .dataframe tbody tr th {\n",
       "        vertical-align: top;\n",
       "    }\n",
       "\n",
       "    .dataframe thead th {\n",
       "        text-align: right;\n",
       "    }\n",
       "</style>\n",
       "<table border=\"1\" class=\"dataframe\">\n",
       "  <thead>\n",
       "    <tr style=\"text-align: right;\">\n",
       "      <th></th>\n",
       "      <th>y</th>\n",
       "      <th>exog_1</th>\n",
       "      <th>exog_2</th>\n",
       "    </tr>\n",
       "    <tr>\n",
       "      <th>date</th>\n",
       "      <th></th>\n",
       "      <th></th>\n",
       "      <th></th>\n",
       "    </tr>\n",
       "  </thead>\n",
       "  <tbody>\n",
       "    <tr>\n",
       "      <th>1992-04-01</th>\n",
       "      <td>0.379808</td>\n",
       "      <td>0.958792</td>\n",
       "      <td>1.166029</td>\n",
       "    </tr>\n",
       "    <tr>\n",
       "      <th>1992-05-01</th>\n",
       "      <td>0.361801</td>\n",
       "      <td>0.951993</td>\n",
       "      <td>1.117859</td>\n",
       "    </tr>\n",
       "    <tr>\n",
       "      <th>1992-06-01</th>\n",
       "      <td>0.410534</td>\n",
       "      <td>0.952955</td>\n",
       "      <td>1.067942</td>\n",
       "    </tr>\n",
       "    <tr>\n",
       "      <th>1992-07-01</th>\n",
       "      <td>0.483389</td>\n",
       "      <td>0.958078</td>\n",
       "      <td>1.097376</td>\n",
       "    </tr>\n",
       "    <tr>\n",
       "      <th>1992-08-01</th>\n",
       "      <td>0.475463</td>\n",
       "      <td>0.956370</td>\n",
       "      <td>1.122199</td>\n",
       "    </tr>\n",
       "  </tbody>\n",
       "</table>\n",
       "</div>"
      ],
      "text/plain": [
       "                   y    exog_1    exog_2\n",
       "date                                    \n",
       "1992-04-01  0.379808  0.958792  1.166029\n",
       "1992-05-01  0.361801  0.951993  1.117859\n",
       "1992-06-01  0.410534  0.952955  1.067942\n",
       "1992-07-01  0.483389  0.958078  1.097376\n",
       "1992-08-01  0.475463  0.956370  1.122199"
      ]
     },
     "execution_count": 10,
     "metadata": {},
     "output_type": "execute_result"
    }
   ],
   "source": [
    "data = data.rename(columns={'fecha': 'date'})\n",
    "data['date'] = pd.to_datetime(data['date'])\n",
    "data = data.set_index('date')\n",
    "data = data.rename(columns={'x': 'y'})\n",
    "data = data.asfreq('MS')\n",
    "data = data.sort_index()\n",
    "data.head()"
   ]
  },
  {
   "cell_type": "code",
   "execution_count": 11,
   "metadata": {
    "cell_id": "7fa341db00fa4f9eaa6784139bb9b741",
    "deepnote_cell_type": "code",
    "deepnote_to_be_reexecuted": false,
    "execution_millis": 9,
    "execution_start": 1683352413581,
    "source_hash": "673a5a63"
   },
   "outputs": [
    {
     "name": "stdout",
     "output_type": "stream",
     "text": [
      "Número de Filas con valores nulos: 0.0\n"
     ]
    }
   ],
   "source": [
    "print(f'Número de Filas con valores nulos: {data.isnull().any(axis=1).mean()}')\n"
   ]
  },
  {
   "cell_type": "code",
   "execution_count": 12,
   "metadata": {
    "cell_id": "4e9b69ec44e9445eac6dd049e7c5d8aa",
    "deepnote_cell_type": "code",
    "deepnote_to_be_reexecuted": false,
    "execution_millis": 1,
    "execution_start": 1683352453976,
    "source_hash": "c943175c"
   },
   "outputs": [
    {
     "data": {
      "text/plain": [
       "True"
      ]
     },
     "execution_count": 12,
     "metadata": {},
     "output_type": "execute_result"
    }
   ],
   "source": [
    "# Verifique que un índice temporal esté completo \n",
    "(data.index == pd.date_range(start=data.index.min(),\n",
    "                             end=data.index.max(),\n",
    "                             freq=data.index.freq)).all()\n"
   ]
  },
  {
   "cell_type": "code",
   "execution_count": 13,
   "metadata": {
    "cell_id": "9de740600c624fd589d15c86a4155176",
    "deepnote_cell_type": "code",
    "deepnote_to_be_reexecuted": false,
    "execution_millis": 616,
    "execution_start": 1683352527535,
    "source_hash": "82bd58a7"
   },
   "outputs": [],
   "source": [
    "#Train_test split# ==============================================================================\n",
    "steps = 24\n",
    "data_train = data[:-steps]\n",
    "data_test  = data[-steps:]\n"
   ]
  },
  {
   "cell_type": "code",
   "execution_count": 14,
   "metadata": {},
   "outputs": [
    {
     "name": "stdout",
     "output_type": "stream",
     "text": [
      "Train dates : 1992-04-01 00:00:00 --- 2006-06-01 00:00:00  (n=171)\n",
      "Test dates  : 2006-07-01 00:00:00 --- 2008-06-01 00:00:00  (n=24)\n"
     ]
    }
   ],
   "source": [
    "\n",
    "print(f\"Train dates : {data_train.index.min()} --- {data_train.index.max()}  (n={len(data_train)})\")\n",
    "print(f\"Test dates  : {data_test.index.min()} --- {data_test.index.max()}  (n={len(data_test)})\")\n"
   ]
  },
  {
   "cell_type": "code",
   "execution_count": 15,
   "metadata": {},
   "outputs": [
    {
     "data": {
      "image/png": "[encoded data removed]",
      "text/plain": [
       "<Figure size 700x300 with 1 Axes>"
      ]
     },
     "metadata": {},
     "output_type": "display_data"
    }
   ],
   "source": [
    "\n",
    "fig, ax = plt.subplots(figsize=(7, 3))\n",
    "data_train['y'].plot(ax=ax, label='train')\n",
    "data_test['y'].plot(ax=ax, label='test')\n",
    "ax.legend();"
   ]
  },
  {
   "cell_type": "markdown",
   "metadata": {
    "cell_id": "db91f0b98ae4478cb5c5c70a14927051",
    "deepnote_cell_type": "markdown"
   },
   "source": [
    "## Pronosticador Autoreg \n",
    "\n",
    "\n",
    "Con la ForecasterAutoregcla se se crea y entrena un modelo a partir de un RandomForestRegressorregresor con una ventana de tiempo de 6 rezagos. Esto significa que el modelo utiliza los 6 meses anteriores como predictores."
   ]
  },
  {
   "cell_type": "code",
   "execution_count": 16,
   "metadata": {
    "cell_id": "3a24ff64b5914b4abd133e4808765355",
    "deepnote_cell_type": "code",
    "deepnote_to_be_reexecuted": false,
    "execution_millis": 351,
    "execution_start": 1683352594043,
    "source_hash": "804e9ddc"
   },
   "outputs": [
    {
     "data": {
      "text/plain": [
       "================= \n",
       "ForecasterAutoreg \n",
       "================= \n",
       "Regressor: DecisionTreeRegressor(random_state=123) \n",
       "Lags: [ 1  2  3  4  5  6  7  8  9 10 11 12] \n",
       "Transformer for y: None \n",
       "Transformer for exog: None \n",
       "Window size: 12 \n",
       "Weight function included: False \n",
       "Differentiation order: None \n",
       "Exogenous included: False \n",
       "Type of exogenous variable: None \n",
       "Exogenous variables names: None \n",
       "Training range: [Timestamp('1992-04-01 00:00:00'), Timestamp('2006-06-01 00:00:00')] \n",
       "Training index type: DatetimeIndex \n",
       "Training index frequency: MS \n",
       "Regressor parameters: {'ccp_alpha': 0.0, 'criterion': 'squared_error', 'max_depth': None, 'max_features': None, 'max_leaf_nodes': None, 'min_impurity_decrease': 0.0, 'min_samples_leaf': 1, 'min_samples_split': 2, 'min_weight_fraction_leaf': 0.0, 'monotonic_cst': None, 'random_state': 123, 'splitter': 'best'} \n",
       "fit_kwargs: {} \n",
       "Creation date: 2025-03-28 22:24:39 \n",
       "Last fit date: 2025-03-28 22:24:39 \n",
       "Skforecast version: 0.12.1 \n",
       "Python version: 3.12.4 \n",
       "Forecaster id: None "
      ]
     },
     "execution_count": 16,
     "metadata": {},
     "output_type": "execute_result"
    }
   ],
   "source": [
    "forecaster = ForecasterAutoreg(\n",
    "                regressor = DecisionTreeRegressor(random_state=123,),\n",
    "                lags      = 12\n",
    "             )\n",
    "\n",
    "forecaster.fit(y=data_train['y'])\n",
    "forecaster"
   ]
  },
  {
   "cell_type": "markdown",
   "metadata": {
    "cell_id": "c866b356b24b4279be35efd8e06724f8",
    "deepnote_cell_type": "markdown"
   },
   "source": [
    "## Predicciones \n",
    "\n",
    "\n",
    "Una vez que se entrena el modelo, se predicen los datos de prueba (36 meses en el futuro)."
   ]
  },
  {
   "cell_type": "code",
   "execution_count": 17,
   "metadata": {
    "cell_id": "e5272c15bb6f4e5f8a01abfbe85f2922",
    "deepnote_cell_type": "code",
    "deepnote_to_be_reexecuted": false,
    "execution_millis": 571,
    "execution_start": 1683352668258,
    "source_hash": "336231c3"
   },
   "outputs": [
    {
     "data": {
      "text/plain": [
       "2006-07-01    0.856803\n",
       "2006-08-01    1.006497\n",
       "2006-09-01    0.916887\n",
       "2006-10-01    1.012313\n",
       "2006-11-01    1.181011\n",
       "2006-12-01    1.013024\n",
       "2007-01-01    1.257238\n",
       "2007-02-01    0.594189\n",
       "2007-03-01    0.652590\n",
       "2007-04-01    0.639641\n",
       "2007-05-01    0.851926\n",
       "2007-06-01    0.695248\n",
       "2007-07-01    0.851926\n",
       "2007-08-01    0.924368\n",
       "2007-09-01    0.916887\n",
       "2007-10-01    1.026976\n",
       "2007-11-01    1.109590\n",
       "2007-12-01    1.012313\n",
       "2008-01-01    1.102776\n",
       "2008-02-01    0.575584\n",
       "2008-03-01    0.641165\n",
       "2008-04-01    0.679862\n",
       "2008-05-01    0.851926\n",
       "2008-06-01    0.752096\n",
       "Freq: MS, Name: pred, dtype: float64"
      ]
     },
     "execution_count": 17,
     "metadata": {},
     "output_type": "execute_result"
    }
   ],
   "source": [
    "steps = 24\n",
    "predictions = forecaster.predict(steps=steps)\n",
    "predictions"
   ]
  },
  {
   "cell_type": "code",
   "execution_count": 18,
   "metadata": {
    "cell_id": "3647fc1f3fbd498c8a06237a78de86cb",
    "deepnote_cell_type": "code",
    "deepnote_to_be_reexecuted": false,
    "execution_millis": 782,
    "execution_start": 1683352685264,
    "source_hash": "1a74a530"
   },
   "outputs": [
    {
     "data": {
      "image/png": "[encoded data removed]",
      "text/plain": [
       "<Figure size 700x300 with 1 Axes>"
      ]
     },
     "metadata": {},
     "output_type": "display_data"
    }
   ],
   "source": [
    "fig, ax = plt.subplots(figsize=(7, 3))\n",
    "data_train['y'].plot(ax=ax, label='train')\n",
    "data_test['y'].plot(ax=ax, label='test')\n",
    "predictions.plot(ax=ax, label='predictions')\n",
    "ax.legend();"
   ]
  },
  {
   "cell_type": "markdown",
   "metadata": {
    "cell_id": "e7d443545a4e4a86a0f444be8a737866",
    "deepnote_cell_type": "markdown"
   },
   "source": [
    "## Error de predicción en el conjunto Test\n",
    "\n",
    "\n",
    "Se cuantifica el error que comete el modelo en sus predicciones. En este caso, la métrica utilizada es el error cuadrático medio (mse)."
   ]
  },
  {
   "cell_type": "code",
   "execution_count": 19,
   "metadata": {},
   "outputs": [
    {
     "data": {
      "text/plain": [
       "0.2645751311064591"
      ]
     },
     "execution_count": 19,
     "metadata": {},
     "output_type": "execute_result"
    }
   ],
   "source": [
    "np.sqrt(0.07)"
   ]
  },
  {
   "cell_type": "markdown",
   "metadata": {},
   "source": [
    "# MSE"
   ]
  },
  {
   "cell_type": "code",
   "execution_count": 20,
   "metadata": {
    "cell_id": "b8304f914731454caef7ba406bab1f7f",
    "deepnote_cell_type": "code",
    "deepnote_to_be_reexecuted": false,
    "execution_millis": 1,
    "execution_start": 1683352777711,
    "source_hash": "64c632ec"
   },
   "outputs": [
    {
     "name": "stdout",
     "output_type": "stream",
     "text": [
      "Test error (mse): 0.011330086376068048\n"
     ]
    }
   ],
   "source": [
    "error_mse = mean_squared_error(\n",
    "                y_true = data_test['y'],\n",
    "                y_pred = predictions\n",
    "            )\n",
    "\n",
    "print(f\"Test error (mse): {error_mse}\")"
   ]
  },
  {
   "cell_type": "markdown",
   "metadata": {},
   "source": [
    "## RMSE"
   ]
  },
  {
   "cell_type": "code",
   "execution_count": 21,
   "metadata": {},
   "outputs": [
    {
     "name": "stdout",
     "output_type": "stream",
     "text": [
      "Test error (Rmse): 0.10644287846572005\n"
     ]
    }
   ],
   "source": [
    "error_rmse = root_mean_squared_error(\n",
    "                y_true = data_test['y'],\n",
    "                y_pred = predictions\n",
    "            )\n",
    "\n",
    "print(f\"Test error (Rmse): {error_rmse}\")"
   ]
  },
  {
   "cell_type": "code",
   "execution_count": 22,
   "metadata": {},
   "outputs": [
    {
     "data": {
      "text/plain": [
       "0.06354568041332621"
      ]
     },
     "execution_count": 22,
     "metadata": {},
     "output_type": "execute_result"
    }
   ],
   "source": [
    "np.sqrt(0.004038053499192591)"
   ]
  },
  {
   "cell_type": "markdown",
   "metadata": {},
   "source": [
    "## MAPE"
   ]
  },
  {
   "cell_type": "code",
   "execution_count": 23,
   "metadata": {},
   "outputs": [
    {
     "name": "stdout",
     "output_type": "stream",
     "text": [
      "Test error (MAPE): 0.09499028057402938\n"
     ]
    }
   ],
   "source": [
    "error_MAPE = mean_absolute_percentage_error(\n",
    "                y_true = data_test['y'],\n",
    "                y_pred = predictions\n",
    "            )\n",
    "\n",
    "print(f\"Test error (MAPE): {error_MAPE}\")"
   ]
  },
  {
   "cell_type": "markdown",
   "metadata": {
    "cell_id": "3a4516430fe746e5a0414fba458e03a9",
    "deepnote_cell_type": "markdown"
   },
   "source": [
    "## Ajuste de hiperparámetros \n",
    "\n",
    "\n",
    "El entrenamiento `ForecasterAutoreg` usa una ventana de tiempo de retraso de 6 y un modelo Random Forest con los hiperparámetros predeterminados. Sin embargo, no hay ninguna razón por la que estos valores sean los más adecuados. Para identificar la mejor combinación de retrasos e hiperparámetros, la biblioteca Skforecast proporciona la grid_search_forecasterfunción. Compara los resultados obtenidos con cada configuración del modelo."
   ]
  },
  {
   "cell_type": "code",
   "execution_count": 24,
   "metadata": {
    "cell_id": "024ff8b9bce04c8bae52120216f91783",
    "deepnote_cell_type": "code",
    "deepnote_to_be_reexecuted": false,
    "execution_millis": 83655,
    "execution_start": 1683352860510,
    "source_hash": "d79bfe8e"
   },
   "outputs": [
    {
     "name": "stdout",
     "output_type": "stream",
     "text": [
      "Number of models compared: 12.\n"
     ]
    },
    {
     "data": {
      "application/vnd.jupyter.widget-view+json": {
       "model_id": "35302da266974b37b27d21e3800088b2",
       "version_major": 2,
       "version_minor": 0
      },
      "text/plain": [
       "lags grid:   0%|          | 0/4 [00:00<?, ?it/s]"
      ]
     },
     "metadata": {},
     "output_type": "display_data"
    },
    {
     "data": {
      "application/vnd.jupyter.widget-view+json": {
       "model_id": "302d9d94179a461eb3ef93c90e14cbb1",
       "version_major": 2,
       "version_minor": 0
      },
      "text/plain": [
       "params grid:   0%|          | 0/3 [00:00<?, ?it/s]"
      ]
     },
     "metadata": {},
     "output_type": "display_data"
    },
    {
     "name": "stdout",
     "output_type": "stream",
     "text": [
      "`Forecaster` refitted using the best-found lags and parameters, and the whole data set: \n",
      "  Lags: [ 1  2  3  4  5  6  7  8  9 10 11 12 13 14 15 16 17 18 19 20 21 22 23 24] \n",
      "  Parameters: {'max_depth': 10}\n",
      "  Backtesting metric: 0.10659607436105868\n",
      "\n"
     ]
    }
   ],
   "source": [
    "#Hyperparameter Grid search\n",
    "# ==============================================================================\n",
    "steps = 24\n",
    "forecaster = ForecasterAutoreg(\n",
    "                regressor = DecisionTreeRegressor(random_state=123),\n",
    "                lags      = 12 \n",
    "             )\n",
    "\n",
    "# Lags used as predictors\n",
    "lags_grid = [6,12, 18,24]\n",
    "\n",
    "# Regressor's hiperparametros\n",
    "param_grid = {'max_depth': [3, 5, 10]}\n",
    "\n",
    "results_grid = grid_search_forecaster(\n",
    "                        forecaster         = forecaster,\n",
    "                        y                  = data_train['y'],\n",
    "                        param_grid         = param_grid,\n",
    "                        lags_grid          = lags_grid,\n",
    "                        steps              = steps,\n",
    "                        refit              = True,\n",
    "                        metric             = 'mean_absolute_percentage_error',\n",
    "                        initial_train_size = int(len(data_train)*0.5),\n",
    "                        fixed_train_size   = False,\n",
    "                        return_best        = True,\n",
    "                        verbose            = False\n",
    "               )"
   ]
  },
  {
   "cell_type": "code",
   "execution_count": 25,
   "metadata": {
    "cell_id": "f09054de264447f09f3e4ba5b552109f",
    "deepnote_cell_type": "code",
    "deepnote_to_be_reexecuted": false,
    "execution_millis": 13,
    "execution_start": 1683352995302,
    "source_hash": "66a38fca"
   },
   "outputs": [
    {
     "data": {
      "application/vnd.microsoft.datawrangler.viewer.v0+json": {
       "columns": [
        {
         "name": "index",
         "rawType": "int64",
         "type": "integer"
        },
        {
         "name": "lags",
         "rawType": "object",
         "type": "unknown"
        },
        {
         "name": "lags_label",
         "rawType": "object",
         "type": "unknown"
        },
        {
         "name": "params",
         "rawType": "object",
         "type": "unknown"
        },
        {
         "name": "mean_absolute_percentage_error",
         "rawType": "float64",
         "type": "float"
        },
        {
         "name": "max_depth",
         "rawType": "int64",
         "type": "integer"
        }
       ],
       "conversionMethod": "pd.DataFrame",
       "ref": "883a4702-f03c-47b2-bf79-0d18205aafe5",
       "rows": [
        [
         "11",
         "[ 1  2  3  4  5  6  7  8  9 10 11 12 13 14 15 16 17 18 19 20 21 22 23 24]",
         "[ 1  2  3  4  5  6  7  8  9 10 11 12 13 14 15 16 17 18 19 20 21 22 23 24]",
         "{'max_depth': 10}",
         "0.10659607436105868",
         "10"
        ],
        [
         "5",
         "[ 1  2  3  4  5  6  7  8  9 10 11 12]",
         "[ 1  2  3  4  5  6  7  8  9 10 11 12]",
         "{'max_depth': 10}",
         "0.10716078756812106",
         "10"
        ],
        [
         "9",
         "[ 1  2  3  4  5  6  7  8  9 10 11 12 13 14 15 16 17 18 19 20 21 22 23 24]",
         "[ 1  2  3  4  5  6  7  8  9 10 11 12 13 14 15 16 17 18 19 20 21 22 23 24]",
         "{'max_depth': 3}",
         "0.10794739646272626",
         "3"
        ],
        [
         "3",
         "[ 1  2  3  4  5  6  7  8  9 10 11 12]",
         "[ 1  2  3  4  5  6  7  8  9 10 11 12]",
         "{'max_depth': 3}",
         "0.10990466709120539",
         "3"
        ],
        [
         "4",
         "[ 1  2  3  4  5  6  7  8  9 10 11 12]",
         "[ 1  2  3  4  5  6  7  8  9 10 11 12]",
         "{'max_depth': 5}",
         "0.11103001413550286",
         "5"
        ],
        [
         "7",
         "[ 1  2  3  4  5  6  7  8  9 10 11 12 13 14 15 16 17 18]",
         "[ 1  2  3  4  5  6  7  8  9 10 11 12 13 14 15 16 17 18]",
         "{'max_depth': 5}",
         "0.12010100843200461",
         "5"
        ],
        [
         "8",
         "[ 1  2  3  4  5  6  7  8  9 10 11 12 13 14 15 16 17 18]",
         "[ 1  2  3  4  5  6  7  8  9 10 11 12 13 14 15 16 17 18]",
         "{'max_depth': 10}",
         "0.12071916052244534",
         "10"
        ],
        [
         "10",
         "[ 1  2  3  4  5  6  7  8  9 10 11 12 13 14 15 16 17 18 19 20 21 22 23 24]",
         "[ 1  2  3  4  5  6  7  8  9 10 11 12 13 14 15 16 17 18 19 20 21 22 23 24]",
         "{'max_depth': 5}",
         "0.12257233703597206",
         "5"
        ],
        [
         "6",
         "[ 1  2  3  4  5  6  7  8  9 10 11 12 13 14 15 16 17 18]",
         "[ 1  2  3  4  5  6  7  8  9 10 11 12 13 14 15 16 17 18]",
         "{'max_depth': 3}",
         "0.12279336165748768",
         "3"
        ],
        [
         "2",
         "[1 2 3 4 5 6]",
         "[1 2 3 4 5 6]",
         "{'max_depth': 10}",
         "0.21276327472755377",
         "10"
        ],
        [
         "0",
         "[1 2 3 4 5 6]",
         "[1 2 3 4 5 6]",
         "{'max_depth': 3}",
         "0.22568169616043282",
         "3"
        ],
        [
         "1",
         "[1 2 3 4 5 6]",
         "[1 2 3 4 5 6]",
         "{'max_depth': 5}",
         "0.2626833684296485",
         "5"
        ]
       ],
       "shape": {
        "columns": 5,
        "rows": 12
       }
      },
      "text/html": [
       "<div>\n",
       "<style scoped>\n",
       "    .dataframe tbody tr th:only-of-type {\n",
       "        vertical-align: middle;\n",
       "    }\n",
       "\n",
       "    .dataframe tbody tr th {\n",
       "        vertical-align: top;\n",
       "    }\n",
       "\n",
       "    .dataframe thead th {\n",
       "        text-align: right;\n",
       "    }\n",
       "</style>\n",
       "<table border=\"1\" class=\"dataframe\">\n",
       "  <thead>\n",
       "    <tr style=\"text-align: right;\">\n",
       "      <th></th>\n",
       "      <th>lags</th>\n",
       "      <th>lags_label</th>\n",
       "      <th>params</th>\n",
       "      <th>mean_absolute_percentage_error</th>\n",
       "      <th>max_depth</th>\n",
       "    </tr>\n",
       "  </thead>\n",
       "  <tbody>\n",
       "    <tr>\n",
       "      <th>11</th>\n",
       "      <td>[1, 2, 3, 4, 5, 6, 7, 8, 9, 10, 11, 12, 13, 14...</td>\n",
       "      <td>[1, 2, 3, 4, 5, 6, 7, 8, 9, 10, 11, 12, 13, 14...</td>\n",
       "      <td>{'max_depth': 10}</td>\n",
       "      <td>0.106596</td>\n",
       "      <td>10</td>\n",
       "    </tr>\n",
       "    <tr>\n",
       "      <th>5</th>\n",
       "      <td>[1, 2, 3, 4, 5, 6, 7, 8, 9, 10, 11, 12]</td>\n",
       "      <td>[1, 2, 3, 4, 5, 6, 7, 8, 9, 10, 11, 12]</td>\n",
       "      <td>{'max_depth': 10}</td>\n",
       "      <td>0.107161</td>\n",
       "      <td>10</td>\n",
       "    </tr>\n",
       "    <tr>\n",
       "      <th>9</th>\n",
       "      <td>[1, 2, 3, 4, 5, 6, 7, 8, 9, 10, 11, 12, 13, 14...</td>\n",
       "      <td>[1, 2, 3, 4, 5, 6, 7, 8, 9, 10, 11, 12, 13, 14...</td>\n",
       "      <td>{'max_depth': 3}</td>\n",
       "      <td>0.107947</td>\n",
       "      <td>3</td>\n",
       "    </tr>\n",
       "    <tr>\n",
       "      <th>3</th>\n",
       "      <td>[1, 2, 3, 4, 5, 6, 7, 8, 9, 10, 11, 12]</td>\n",
       "      <td>[1, 2, 3, 4, 5, 6, 7, 8, 9, 10, 11, 12]</td>\n",
       "      <td>{'max_depth': 3}</td>\n",
       "      <td>0.109905</td>\n",
       "      <td>3</td>\n",
       "    </tr>\n",
       "    <tr>\n",
       "      <th>4</th>\n",
       "      <td>[1, 2, 3, 4, 5, 6, 7, 8, 9, 10, 11, 12]</td>\n",
       "      <td>[1, 2, 3, 4, 5, 6, 7, 8, 9, 10, 11, 12]</td>\n",
       "      <td>{'max_depth': 5}</td>\n",
       "      <td>0.111030</td>\n",
       "      <td>5</td>\n",
       "    </tr>\n",
       "    <tr>\n",
       "      <th>7</th>\n",
       "      <td>[1, 2, 3, 4, 5, 6, 7, 8, 9, 10, 11, 12, 13, 14...</td>\n",
       "      <td>[1, 2, 3, 4, 5, 6, 7, 8, 9, 10, 11, 12, 13, 14...</td>\n",
       "      <td>{'max_depth': 5}</td>\n",
       "      <td>0.120101</td>\n",
       "      <td>5</td>\n",
       "    </tr>\n",
       "    <tr>\n",
       "      <th>8</th>\n",
       "      <td>[1, 2, 3, 4, 5, 6, 7, 8, 9, 10, 11, 12, 13, 14...</td>\n",
       "      <td>[1, 2, 3, 4, 5, 6, 7, 8, 9, 10, 11, 12, 13, 14...</td>\n",
       "      <td>{'max_depth': 10}</td>\n",
       "      <td>0.120719</td>\n",
       "      <td>10</td>\n",
       "    </tr>\n",
       "    <tr>\n",
       "      <th>10</th>\n",
       "      <td>[1, 2, 3, 4, 5, 6, 7, 8, 9, 10, 11, 12, 13, 14...</td>\n",
       "      <td>[1, 2, 3, 4, 5, 6, 7, 8, 9, 10, 11, 12, 13, 14...</td>\n",
       "      <td>{'max_depth': 5}</td>\n",
       "      <td>0.122572</td>\n",
       "      <td>5</td>\n",
       "    </tr>\n",
       "    <tr>\n",
       "      <th>6</th>\n",
       "      <td>[1, 2, 3, 4, 5, 6, 7, 8, 9, 10, 11, 12, 13, 14...</td>\n",
       "      <td>[1, 2, 3, 4, 5, 6, 7, 8, 9, 10, 11, 12, 13, 14...</td>\n",
       "      <td>{'max_depth': 3}</td>\n",
       "      <td>0.122793</td>\n",
       "      <td>3</td>\n",
       "    </tr>\n",
       "    <tr>\n",
       "      <th>2</th>\n",
       "      <td>[1, 2, 3, 4, 5, 6]</td>\n",
       "      <td>[1, 2, 3, 4, 5, 6]</td>\n",
       "      <td>{'max_depth': 10}</td>\n",
       "      <td>0.212763</td>\n",
       "      <td>10</td>\n",
       "    </tr>\n",
       "    <tr>\n",
       "      <th>0</th>\n",
       "      <td>[1, 2, 3, 4, 5, 6]</td>\n",
       "      <td>[1, 2, 3, 4, 5, 6]</td>\n",
       "      <td>{'max_depth': 3}</td>\n",
       "      <td>0.225682</td>\n",
       "      <td>3</td>\n",
       "    </tr>\n",
       "    <tr>\n",
       "      <th>1</th>\n",
       "      <td>[1, 2, 3, 4, 5, 6]</td>\n",
       "      <td>[1, 2, 3, 4, 5, 6]</td>\n",
       "      <td>{'max_depth': 5}</td>\n",
       "      <td>0.262683</td>\n",
       "      <td>5</td>\n",
       "    </tr>\n",
       "  </tbody>\n",
       "</table>\n",
       "</div>"
      ],
      "text/plain": [
       "                                                 lags  \\\n",
       "11  [1, 2, 3, 4, 5, 6, 7, 8, 9, 10, 11, 12, 13, 14...   \n",
       "5             [1, 2, 3, 4, 5, 6, 7, 8, 9, 10, 11, 12]   \n",
       "9   [1, 2, 3, 4, 5, 6, 7, 8, 9, 10, 11, 12, 13, 14...   \n",
       "3             [1, 2, 3, 4, 5, 6, 7, 8, 9, 10, 11, 12]   \n",
       "4             [1, 2, 3, 4, 5, 6, 7, 8, 9, 10, 11, 12]   \n",
       "7   [1, 2, 3, 4, 5, 6, 7, 8, 9, 10, 11, 12, 13, 14...   \n",
       "8   [1, 2, 3, 4, 5, 6, 7, 8, 9, 10, 11, 12, 13, 14...   \n",
       "10  [1, 2, 3, 4, 5, 6, 7, 8, 9, 10, 11, 12, 13, 14...   \n",
       "6   [1, 2, 3, 4, 5, 6, 7, 8, 9, 10, 11, 12, 13, 14...   \n",
       "2                                  [1, 2, 3, 4, 5, 6]   \n",
       "0                                  [1, 2, 3, 4, 5, 6]   \n",
       "1                                  [1, 2, 3, 4, 5, 6]   \n",
       "\n",
       "                                           lags_label             params  \\\n",
       "11  [1, 2, 3, 4, 5, 6, 7, 8, 9, 10, 11, 12, 13, 14...  {'max_depth': 10}   \n",
       "5             [1, 2, 3, 4, 5, 6, 7, 8, 9, 10, 11, 12]  {'max_depth': 10}   \n",
       "9   [1, 2, 3, 4, 5, 6, 7, 8, 9, 10, 11, 12, 13, 14...   {'max_depth': 3}   \n",
       "3             [1, 2, 3, 4, 5, 6, 7, 8, 9, 10, 11, 12]   {'max_depth': 3}   \n",
       "4             [1, 2, 3, 4, 5, 6, 7, 8, 9, 10, 11, 12]   {'max_depth': 5}   \n",
       "7   [1, 2, 3, 4, 5, 6, 7, 8, 9, 10, 11, 12, 13, 14...   {'max_depth': 5}   \n",
       "8   [1, 2, 3, 4, 5, 6, 7, 8, 9, 10, 11, 12, 13, 14...  {'max_depth': 10}   \n",
       "10  [1, 2, 3, 4, 5, 6, 7, 8, 9, 10, 11, 12, 13, 14...   {'max_depth': 5}   \n",
       "6   [1, 2, 3, 4, 5, 6, 7, 8, 9, 10, 11, 12, 13, 14...   {'max_depth': 3}   \n",
       "2                                  [1, 2, 3, 4, 5, 6]  {'max_depth': 10}   \n",
       "0                                  [1, 2, 3, 4, 5, 6]   {'max_depth': 3}   \n",
       "1                                  [1, 2, 3, 4, 5, 6]   {'max_depth': 5}   \n",
       "\n",
       "    mean_absolute_percentage_error  max_depth  \n",
       "11                        0.106596         10  \n",
       "5                         0.107161         10  \n",
       "9                         0.107947          3  \n",
       "3                         0.109905          3  \n",
       "4                         0.111030          5  \n",
       "7                         0.120101          5  \n",
       "8                         0.120719         10  \n",
       "10                        0.122572          5  \n",
       "6                         0.122793          3  \n",
       "2                         0.212763         10  \n",
       "0                         0.225682          3  \n",
       "1                         0.262683          5  "
      ]
     },
     "execution_count": 25,
     "metadata": {},
     "output_type": "execute_result"
    }
   ],
   "source": [
    "# Grid Search results\n",
    "# ==============================================================================\n",
    "results_grid"
   ]
  },
  {
   "cell_type": "markdown",
   "metadata": {
    "cell_id": "2cda8058e4a84fb4ae88b4e3ab7e955b",
    "deepnote_cell_type": "markdown"
   },
   "source": [
    "## Modelo final \n",
    "\n",
    "\n",
    "Finalmente, `ForecasterAutoreg` se entrena a con la configuración óptima encontrada por validación. "
   ]
  },
  {
   "cell_type": "code",
   "execution_count": 26,
   "metadata": {
    "cell_id": "ef721eec3193473783867fac33025214",
    "deepnote_cell_type": "code",
    "deepnote_to_be_reexecuted": false,
    "execution_millis": 1732,
    "execution_start": 1683353033844,
    "source_hash": "8c69b800"
   },
   "outputs": [],
   "source": [
    "regressor = RandomForestRegressor(max_depth=3, n_estimators=500, random_state=123)\n",
    "forecaster = ForecasterAutoreg(\n",
    "                regressor = regressor,\n",
    "                lags      = 12\n",
    "             )\n",
    "\n",
    "forecaster.fit(y=data_train['y'])"
   ]
  },
  {
   "cell_type": "code",
   "execution_count": 27,
   "metadata": {
    "cell_id": "3a6f4809f5b2473fbae6d9fedc74bc08",
    "deepnote_cell_type": "code",
    "deepnote_to_be_reexecuted": false,
    "execution_millis": 2841,
    "execution_start": 1683353140567,
    "source_hash": "2075247"
   },
   "outputs": [],
   "source": [
    "pronostico = forecaster.predict(steps=steps)"
   ]
  },
  {
   "cell_type": "code",
   "execution_count": 28,
   "metadata": {
    "cell_id": "e69bb9ab88a44486ad99439537c86c5d",
    "deepnote_cell_type": "code",
    "deepnote_to_be_reexecuted": false,
    "execution_millis": 694,
    "execution_start": 1683353147740,
    "source_hash": "3043cd14"
   },
   "outputs": [
    {
     "data": {
      "image/png": "[encoded data removed]",
      "text/plain": [
       "<Figure size 700x300 with 1 Axes>"
      ]
     },
     "metadata": {},
     "output_type": "display_data"
    }
   ],
   "source": [
    "fig, ax = plt.subplots(figsize=(7, 3))\n",
    "data_train['y'].plot(ax=ax, label='train')\n",
    "data_test['y'].plot(ax=ax, label='test')\n",
    "predictions.plot(ax=ax, label='pronostico')\n",
    "ax.legend();"
   ]
  },
  {
   "cell_type": "code",
   "execution_count": 29,
   "metadata": {
    "cell_id": "465edc61a5eb45b0b03b1ffb65b7ee3f",
    "deepnote_cell_type": "code",
    "deepnote_to_be_reexecuted": false,
    "execution_millis": 0,
    "execution_start": 1683353173981,
    "source_hash": "ca61cb1d"
   },
   "outputs": [
    {
     "name": "stdout",
     "output_type": "stream",
     "text": [
      "Test error (mse): 0.011330086376068048\n"
     ]
    }
   ],
   "source": [
    "#error\n",
    "# ==============================================================================\n",
    "error_mse = mean_squared_error(\n",
    "                y_true = data_test['y'],\n",
    "                y_pred = predictions\n",
    "            )\n",
    "\n",
    "print(f\"Test error (mse): {error_mse}\")"
   ]
  },
  {
   "cell_type": "markdown",
   "metadata": {
    "cell_id": "3b806fd02d89474495c926bfec1a1c89",
    "deepnote_cell_type": "markdown"
   },
   "source": []
  },
  {
   "cell_type": "code",
   "execution_count": 30,
   "metadata": {
    "cell_id": "119b123dce134ca8a1c1164ad6648f76",
    "deepnote_cell_type": "code",
    "deepnote_to_be_reexecuted": false,
    "execution_millis": 723,
    "execution_start": 1683353975740,
    "source_hash": "c0b9b5cf"
   },
   "outputs": [
    {
     "ename": "HTTPError",
     "evalue": "HTTP Error 404: Not Found",
     "output_type": "error",
     "traceback": [
      "\u001b[1;31m---------------------------------------------------------------------------\u001b[0m",
      "\u001b[1;31mHTTPError\u001b[0m                                 Traceback (most recent call last)",
      "Cell \u001b[1;32mIn[30], line 3\u001b[0m\n\u001b[0;32m      1\u001b[0m \u001b[38;5;66;03m# ==============================================================================\u001b[39;00m\n\u001b[0;32m      2\u001b[0m url \u001b[38;5;241m=\u001b[39m \u001b[38;5;124m'\u001b[39m\u001b[38;5;124mhttps://raw.githubusercontent.com/JoaquinAmatRodrigo/skforecast/master/data/h2o_exog.csv\u001b[39m\u001b[38;5;124m'\u001b[39m\n\u001b[1;32m----> 3\u001b[0m data \u001b[38;5;241m=\u001b[39m \u001b[43mpd\u001b[49m\u001b[38;5;241;43m.\u001b[39;49m\u001b[43mread_csv\u001b[49m\u001b[43m(\u001b[49m\u001b[43murl\u001b[49m\u001b[43m,\u001b[49m\u001b[43m \u001b[49m\u001b[43msep\u001b[49m\u001b[38;5;241;43m=\u001b[39;49m\u001b[38;5;124;43m'\u001b[39;49m\u001b[38;5;124;43m,\u001b[39;49m\u001b[38;5;124;43m'\u001b[39;49m\u001b[43m)\u001b[49m\n\u001b[0;32m      6\u001b[0m data \u001b[38;5;241m=\u001b[39m data\u001b[38;5;241m.\u001b[39mrename(columns\u001b[38;5;241m=\u001b[39m{\u001b[38;5;124m'\u001b[39m\u001b[38;5;124mfecha\u001b[39m\u001b[38;5;124m'\u001b[39m: \u001b[38;5;124m'\u001b[39m\u001b[38;5;124mdate\u001b[39m\u001b[38;5;124m'\u001b[39m})\n\u001b[0;32m      7\u001b[0m data[\u001b[38;5;124m'\u001b[39m\u001b[38;5;124mdate\u001b[39m\u001b[38;5;124m'\u001b[39m] \u001b[38;5;241m=\u001b[39m pd\u001b[38;5;241m.\u001b[39mto_datetime(data[\u001b[38;5;124m'\u001b[39m\u001b[38;5;124mdate\u001b[39m\u001b[38;5;124m'\u001b[39m])\n",
      "File \u001b[1;32mc:\\Users\\wsand\\anaconda3\\Lib\\site-packages\\pandas\\io\\parsers\\readers.py:1026\u001b[0m, in \u001b[0;36mread_csv\u001b[1;34m(filepath_or_buffer, sep, delimiter, header, names, index_col, usecols, dtype, engine, converters, true_values, false_values, skipinitialspace, skiprows, skipfooter, nrows, na_values, keep_default_na, na_filter, verbose, skip_blank_lines, parse_dates, infer_datetime_format, keep_date_col, date_parser, date_format, dayfirst, cache_dates, iterator, chunksize, compression, thousands, decimal, lineterminator, quotechar, quoting, doublequote, escapechar, comment, encoding, encoding_errors, dialect, on_bad_lines, delim_whitespace, low_memory, memory_map, float_precision, storage_options, dtype_backend)\u001b[0m\n\u001b[0;32m   1013\u001b[0m kwds_defaults \u001b[38;5;241m=\u001b[39m _refine_defaults_read(\n\u001b[0;32m   1014\u001b[0m     dialect,\n\u001b[0;32m   1015\u001b[0m     delimiter,\n\u001b[1;32m   (...)\u001b[0m\n\u001b[0;32m   1022\u001b[0m     dtype_backend\u001b[38;5;241m=\u001b[39mdtype_backend,\n\u001b[0;32m   1023\u001b[0m )\n\u001b[0;32m   1024\u001b[0m kwds\u001b[38;5;241m.\u001b[39mupdate(kwds_defaults)\n\u001b[1;32m-> 1026\u001b[0m \u001b[38;5;28;01mreturn\u001b[39;00m \u001b[43m_read\u001b[49m\u001b[43m(\u001b[49m\u001b[43mfilepath_or_buffer\u001b[49m\u001b[43m,\u001b[49m\u001b[43m \u001b[49m\u001b[43mkwds\u001b[49m\u001b[43m)\u001b[49m\n",
      "File \u001b[1;32mc:\\Users\\wsand\\anaconda3\\Lib\\site-packages\\pandas\\io\\parsers\\readers.py:620\u001b[0m, in \u001b[0;36m_read\u001b[1;34m(filepath_or_buffer, kwds)\u001b[0m\n\u001b[0;32m    617\u001b[0m _validate_names(kwds\u001b[38;5;241m.\u001b[39mget(\u001b[38;5;124m\"\u001b[39m\u001b[38;5;124mnames\u001b[39m\u001b[38;5;124m\"\u001b[39m, \u001b[38;5;28;01mNone\u001b[39;00m))\n\u001b[0;32m    619\u001b[0m \u001b[38;5;66;03m# Create the parser.\u001b[39;00m\n\u001b[1;32m--> 620\u001b[0m parser \u001b[38;5;241m=\u001b[39m \u001b[43mTextFileReader\u001b[49m\u001b[43m(\u001b[49m\u001b[43mfilepath_or_buffer\u001b[49m\u001b[43m,\u001b[49m\u001b[43m \u001b[49m\u001b[38;5;241;43m*\u001b[39;49m\u001b[38;5;241;43m*\u001b[39;49m\u001b[43mkwds\u001b[49m\u001b[43m)\u001b[49m\n\u001b[0;32m    622\u001b[0m \u001b[38;5;28;01mif\u001b[39;00m chunksize \u001b[38;5;129;01mor\u001b[39;00m iterator:\n\u001b[0;32m    623\u001b[0m     \u001b[38;5;28;01mreturn\u001b[39;00m parser\n",
      "File \u001b[1;32mc:\\Users\\wsand\\anaconda3\\Lib\\site-packages\\pandas\\io\\parsers\\readers.py:1620\u001b[0m, in \u001b[0;36mTextFileReader.__init__\u001b[1;34m(self, f, engine, **kwds)\u001b[0m\n\u001b[0;32m   1617\u001b[0m     \u001b[38;5;28mself\u001b[39m\u001b[38;5;241m.\u001b[39moptions[\u001b[38;5;124m\"\u001b[39m\u001b[38;5;124mhas_index_names\u001b[39m\u001b[38;5;124m\"\u001b[39m] \u001b[38;5;241m=\u001b[39m kwds[\u001b[38;5;124m\"\u001b[39m\u001b[38;5;124mhas_index_names\u001b[39m\u001b[38;5;124m\"\u001b[39m]\n\u001b[0;32m   1619\u001b[0m \u001b[38;5;28mself\u001b[39m\u001b[38;5;241m.\u001b[39mhandles: IOHandles \u001b[38;5;241m|\u001b[39m \u001b[38;5;28;01mNone\u001b[39;00m \u001b[38;5;241m=\u001b[39m \u001b[38;5;28;01mNone\u001b[39;00m\n\u001b[1;32m-> 1620\u001b[0m \u001b[38;5;28mself\u001b[39m\u001b[38;5;241m.\u001b[39m_engine \u001b[38;5;241m=\u001b[39m \u001b[38;5;28;43mself\u001b[39;49m\u001b[38;5;241;43m.\u001b[39;49m\u001b[43m_make_engine\u001b[49m\u001b[43m(\u001b[49m\u001b[43mf\u001b[49m\u001b[43m,\u001b[49m\u001b[43m \u001b[49m\u001b[38;5;28;43mself\u001b[39;49m\u001b[38;5;241;43m.\u001b[39;49m\u001b[43mengine\u001b[49m\u001b[43m)\u001b[49m\n",
      "File \u001b[1;32mc:\\Users\\wsand\\anaconda3\\Lib\\site-packages\\pandas\\io\\parsers\\readers.py:1880\u001b[0m, in \u001b[0;36mTextFileReader._make_engine\u001b[1;34m(self, f, engine)\u001b[0m\n\u001b[0;32m   1878\u001b[0m     \u001b[38;5;28;01mif\u001b[39;00m \u001b[38;5;124m\"\u001b[39m\u001b[38;5;124mb\u001b[39m\u001b[38;5;124m\"\u001b[39m \u001b[38;5;129;01mnot\u001b[39;00m \u001b[38;5;129;01min\u001b[39;00m mode:\n\u001b[0;32m   1879\u001b[0m         mode \u001b[38;5;241m+\u001b[39m\u001b[38;5;241m=\u001b[39m \u001b[38;5;124m\"\u001b[39m\u001b[38;5;124mb\u001b[39m\u001b[38;5;124m\"\u001b[39m\n\u001b[1;32m-> 1880\u001b[0m \u001b[38;5;28mself\u001b[39m\u001b[38;5;241m.\u001b[39mhandles \u001b[38;5;241m=\u001b[39m \u001b[43mget_handle\u001b[49m\u001b[43m(\u001b[49m\n\u001b[0;32m   1881\u001b[0m \u001b[43m    \u001b[49m\u001b[43mf\u001b[49m\u001b[43m,\u001b[49m\n\u001b[0;32m   1882\u001b[0m \u001b[43m    \u001b[49m\u001b[43mmode\u001b[49m\u001b[43m,\u001b[49m\n\u001b[0;32m   1883\u001b[0m \u001b[43m    \u001b[49m\u001b[43mencoding\u001b[49m\u001b[38;5;241;43m=\u001b[39;49m\u001b[38;5;28;43mself\u001b[39;49m\u001b[38;5;241;43m.\u001b[39;49m\u001b[43moptions\u001b[49m\u001b[38;5;241;43m.\u001b[39;49m\u001b[43mget\u001b[49m\u001b[43m(\u001b[49m\u001b[38;5;124;43m\"\u001b[39;49m\u001b[38;5;124;43mencoding\u001b[39;49m\u001b[38;5;124;43m\"\u001b[39;49m\u001b[43m,\u001b[49m\u001b[43m \u001b[49m\u001b[38;5;28;43;01mNone\u001b[39;49;00m\u001b[43m)\u001b[49m\u001b[43m,\u001b[49m\n\u001b[0;32m   1884\u001b[0m \u001b[43m    \u001b[49m\u001b[43mcompression\u001b[49m\u001b[38;5;241;43m=\u001b[39;49m\u001b[38;5;28;43mself\u001b[39;49m\u001b[38;5;241;43m.\u001b[39;49m\u001b[43moptions\u001b[49m\u001b[38;5;241;43m.\u001b[39;49m\u001b[43mget\u001b[49m\u001b[43m(\u001b[49m\u001b[38;5;124;43m\"\u001b[39;49m\u001b[38;5;124;43mcompression\u001b[39;49m\u001b[38;5;124;43m\"\u001b[39;49m\u001b[43m,\u001b[49m\u001b[43m \u001b[49m\u001b[38;5;28;43;01mNone\u001b[39;49;00m\u001b[43m)\u001b[49m\u001b[43m,\u001b[49m\n\u001b[0;32m   1885\u001b[0m \u001b[43m    \u001b[49m\u001b[43mmemory_map\u001b[49m\u001b[38;5;241;43m=\u001b[39;49m\u001b[38;5;28;43mself\u001b[39;49m\u001b[38;5;241;43m.\u001b[39;49m\u001b[43moptions\u001b[49m\u001b[38;5;241;43m.\u001b[39;49m\u001b[43mget\u001b[49m\u001b[43m(\u001b[49m\u001b[38;5;124;43m\"\u001b[39;49m\u001b[38;5;124;43mmemory_map\u001b[39;49m\u001b[38;5;124;43m\"\u001b[39;49m\u001b[43m,\u001b[49m\u001b[43m \u001b[49m\u001b[38;5;28;43;01mFalse\u001b[39;49;00m\u001b[43m)\u001b[49m\u001b[43m,\u001b[49m\n\u001b[0;32m   1886\u001b[0m \u001b[43m    \u001b[49m\u001b[43mis_text\u001b[49m\u001b[38;5;241;43m=\u001b[39;49m\u001b[43mis_text\u001b[49m\u001b[43m,\u001b[49m\n\u001b[0;32m   1887\u001b[0m \u001b[43m    \u001b[49m\u001b[43merrors\u001b[49m\u001b[38;5;241;43m=\u001b[39;49m\u001b[38;5;28;43mself\u001b[39;49m\u001b[38;5;241;43m.\u001b[39;49m\u001b[43moptions\u001b[49m\u001b[38;5;241;43m.\u001b[39;49m\u001b[43mget\u001b[49m\u001b[43m(\u001b[49m\u001b[38;5;124;43m\"\u001b[39;49m\u001b[38;5;124;43mencoding_errors\u001b[39;49m\u001b[38;5;124;43m\"\u001b[39;49m\u001b[43m,\u001b[49m\u001b[43m \u001b[49m\u001b[38;5;124;43m\"\u001b[39;49m\u001b[38;5;124;43mstrict\u001b[39;49m\u001b[38;5;124;43m\"\u001b[39;49m\u001b[43m)\u001b[49m\u001b[43m,\u001b[49m\n\u001b[0;32m   1888\u001b[0m \u001b[43m    \u001b[49m\u001b[43mstorage_options\u001b[49m\u001b[38;5;241;43m=\u001b[39;49m\u001b[38;5;28;43mself\u001b[39;49m\u001b[38;5;241;43m.\u001b[39;49m\u001b[43moptions\u001b[49m\u001b[38;5;241;43m.\u001b[39;49m\u001b[43mget\u001b[49m\u001b[43m(\u001b[49m\u001b[38;5;124;43m\"\u001b[39;49m\u001b[38;5;124;43mstorage_options\u001b[39;49m\u001b[38;5;124;43m\"\u001b[39;49m\u001b[43m,\u001b[49m\u001b[43m \u001b[49m\u001b[38;5;28;43;01mNone\u001b[39;49;00m\u001b[43m)\u001b[49m\u001b[43m,\u001b[49m\n\u001b[0;32m   1889\u001b[0m \u001b[43m\u001b[49m\u001b[43m)\u001b[49m\n\u001b[0;32m   1890\u001b[0m \u001b[38;5;28;01massert\u001b[39;00m \u001b[38;5;28mself\u001b[39m\u001b[38;5;241m.\u001b[39mhandles \u001b[38;5;129;01mis\u001b[39;00m \u001b[38;5;129;01mnot\u001b[39;00m \u001b[38;5;28;01mNone\u001b[39;00m\n\u001b[0;32m   1891\u001b[0m f \u001b[38;5;241m=\u001b[39m \u001b[38;5;28mself\u001b[39m\u001b[38;5;241m.\u001b[39mhandles\u001b[38;5;241m.\u001b[39mhandle\n",
      "File \u001b[1;32mc:\\Users\\wsand\\anaconda3\\Lib\\site-packages\\pandas\\io\\common.py:728\u001b[0m, in \u001b[0;36mget_handle\u001b[1;34m(path_or_buf, mode, encoding, compression, memory_map, is_text, errors, storage_options)\u001b[0m\n\u001b[0;32m    725\u001b[0m     codecs\u001b[38;5;241m.\u001b[39mlookup_error(errors)\n\u001b[0;32m    727\u001b[0m \u001b[38;5;66;03m# open URLs\u001b[39;00m\n\u001b[1;32m--> 728\u001b[0m ioargs \u001b[38;5;241m=\u001b[39m \u001b[43m_get_filepath_or_buffer\u001b[49m\u001b[43m(\u001b[49m\n\u001b[0;32m    729\u001b[0m \u001b[43m    \u001b[49m\u001b[43mpath_or_buf\u001b[49m\u001b[43m,\u001b[49m\n\u001b[0;32m    730\u001b[0m \u001b[43m    \u001b[49m\u001b[43mencoding\u001b[49m\u001b[38;5;241;43m=\u001b[39;49m\u001b[43mencoding\u001b[49m\u001b[43m,\u001b[49m\n\u001b[0;32m    731\u001b[0m \u001b[43m    \u001b[49m\u001b[43mcompression\u001b[49m\u001b[38;5;241;43m=\u001b[39;49m\u001b[43mcompression\u001b[49m\u001b[43m,\u001b[49m\n\u001b[0;32m    732\u001b[0m \u001b[43m    \u001b[49m\u001b[43mmode\u001b[49m\u001b[38;5;241;43m=\u001b[39;49m\u001b[43mmode\u001b[49m\u001b[43m,\u001b[49m\n\u001b[0;32m    733\u001b[0m \u001b[43m    \u001b[49m\u001b[43mstorage_options\u001b[49m\u001b[38;5;241;43m=\u001b[39;49m\u001b[43mstorage_options\u001b[49m\u001b[43m,\u001b[49m\n\u001b[0;32m    734\u001b[0m \u001b[43m\u001b[49m\u001b[43m)\u001b[49m\n\u001b[0;32m    736\u001b[0m handle \u001b[38;5;241m=\u001b[39m ioargs\u001b[38;5;241m.\u001b[39mfilepath_or_buffer\n\u001b[0;32m    737\u001b[0m handles: \u001b[38;5;28mlist\u001b[39m[BaseBuffer]\n",
      "File \u001b[1;32mc:\\Users\\wsand\\anaconda3\\Lib\\site-packages\\pandas\\io\\common.py:384\u001b[0m, in \u001b[0;36m_get_filepath_or_buffer\u001b[1;34m(filepath_or_buffer, encoding, compression, mode, storage_options)\u001b[0m\n\u001b[0;32m    382\u001b[0m \u001b[38;5;66;03m# assuming storage_options is to be interpreted as headers\u001b[39;00m\n\u001b[0;32m    383\u001b[0m req_info \u001b[38;5;241m=\u001b[39m urllib\u001b[38;5;241m.\u001b[39mrequest\u001b[38;5;241m.\u001b[39mRequest(filepath_or_buffer, headers\u001b[38;5;241m=\u001b[39mstorage_options)\n\u001b[1;32m--> 384\u001b[0m \u001b[38;5;28;01mwith\u001b[39;00m \u001b[43murlopen\u001b[49m\u001b[43m(\u001b[49m\u001b[43mreq_info\u001b[49m\u001b[43m)\u001b[49m \u001b[38;5;28;01mas\u001b[39;00m req:\n\u001b[0;32m    385\u001b[0m     content_encoding \u001b[38;5;241m=\u001b[39m req\u001b[38;5;241m.\u001b[39mheaders\u001b[38;5;241m.\u001b[39mget(\u001b[38;5;124m\"\u001b[39m\u001b[38;5;124mContent-Encoding\u001b[39m\u001b[38;5;124m\"\u001b[39m, \u001b[38;5;28;01mNone\u001b[39;00m)\n\u001b[0;32m    386\u001b[0m     \u001b[38;5;28;01mif\u001b[39;00m content_encoding \u001b[38;5;241m==\u001b[39m \u001b[38;5;124m\"\u001b[39m\u001b[38;5;124mgzip\u001b[39m\u001b[38;5;124m\"\u001b[39m:\n\u001b[0;32m    387\u001b[0m         \u001b[38;5;66;03m# Override compression based on Content-Encoding header\u001b[39;00m\n",
      "File \u001b[1;32mc:\\Users\\wsand\\anaconda3\\Lib\\site-packages\\pandas\\io\\common.py:289\u001b[0m, in \u001b[0;36murlopen\u001b[1;34m(*args, **kwargs)\u001b[0m\n\u001b[0;32m    283\u001b[0m \u001b[38;5;250m\u001b[39m\u001b[38;5;124;03m\"\"\"\u001b[39;00m\n\u001b[0;32m    284\u001b[0m \u001b[38;5;124;03mLazy-import wrapper for stdlib urlopen, as that imports a big chunk of\u001b[39;00m\n\u001b[0;32m    285\u001b[0m \u001b[38;5;124;03mthe stdlib.\u001b[39;00m\n\u001b[0;32m    286\u001b[0m \u001b[38;5;124;03m\"\"\"\u001b[39;00m\n\u001b[0;32m    287\u001b[0m \u001b[38;5;28;01mimport\u001b[39;00m \u001b[38;5;21;01murllib\u001b[39;00m\u001b[38;5;21;01m.\u001b[39;00m\u001b[38;5;21;01mrequest\u001b[39;00m\n\u001b[1;32m--> 289\u001b[0m \u001b[38;5;28;01mreturn\u001b[39;00m \u001b[43murllib\u001b[49m\u001b[38;5;241;43m.\u001b[39;49m\u001b[43mrequest\u001b[49m\u001b[38;5;241;43m.\u001b[39;49m\u001b[43murlopen\u001b[49m\u001b[43m(\u001b[49m\u001b[38;5;241;43m*\u001b[39;49m\u001b[43margs\u001b[49m\u001b[43m,\u001b[49m\u001b[43m \u001b[49m\u001b[38;5;241;43m*\u001b[39;49m\u001b[38;5;241;43m*\u001b[39;49m\u001b[43mkwargs\u001b[49m\u001b[43m)\u001b[49m\n",
      "File \u001b[1;32mc:\\Users\\wsand\\anaconda3\\Lib\\urllib\\request.py:215\u001b[0m, in \u001b[0;36murlopen\u001b[1;34m(url, data, timeout, cafile, capath, cadefault, context)\u001b[0m\n\u001b[0;32m    213\u001b[0m \u001b[38;5;28;01melse\u001b[39;00m:\n\u001b[0;32m    214\u001b[0m     opener \u001b[38;5;241m=\u001b[39m _opener\n\u001b[1;32m--> 215\u001b[0m \u001b[38;5;28;01mreturn\u001b[39;00m \u001b[43mopener\u001b[49m\u001b[38;5;241;43m.\u001b[39;49m\u001b[43mopen\u001b[49m\u001b[43m(\u001b[49m\u001b[43murl\u001b[49m\u001b[43m,\u001b[49m\u001b[43m \u001b[49m\u001b[43mdata\u001b[49m\u001b[43m,\u001b[49m\u001b[43m \u001b[49m\u001b[43mtimeout\u001b[49m\u001b[43m)\u001b[49m\n",
      "File \u001b[1;32mc:\\Users\\wsand\\anaconda3\\Lib\\urllib\\request.py:521\u001b[0m, in \u001b[0;36mOpenerDirector.open\u001b[1;34m(self, fullurl, data, timeout)\u001b[0m\n\u001b[0;32m    519\u001b[0m \u001b[38;5;28;01mfor\u001b[39;00m processor \u001b[38;5;129;01min\u001b[39;00m \u001b[38;5;28mself\u001b[39m\u001b[38;5;241m.\u001b[39mprocess_response\u001b[38;5;241m.\u001b[39mget(protocol, []):\n\u001b[0;32m    520\u001b[0m     meth \u001b[38;5;241m=\u001b[39m \u001b[38;5;28mgetattr\u001b[39m(processor, meth_name)\n\u001b[1;32m--> 521\u001b[0m     response \u001b[38;5;241m=\u001b[39m \u001b[43mmeth\u001b[49m\u001b[43m(\u001b[49m\u001b[43mreq\u001b[49m\u001b[43m,\u001b[49m\u001b[43m \u001b[49m\u001b[43mresponse\u001b[49m\u001b[43m)\u001b[49m\n\u001b[0;32m    523\u001b[0m \u001b[38;5;28;01mreturn\u001b[39;00m response\n",
      "File \u001b[1;32mc:\\Users\\wsand\\anaconda3\\Lib\\urllib\\request.py:630\u001b[0m, in \u001b[0;36mHTTPErrorProcessor.http_response\u001b[1;34m(self, request, response)\u001b[0m\n\u001b[0;32m    627\u001b[0m \u001b[38;5;66;03m# According to RFC 2616, \"2xx\" code indicates that the client's\u001b[39;00m\n\u001b[0;32m    628\u001b[0m \u001b[38;5;66;03m# request was successfully received, understood, and accepted.\u001b[39;00m\n\u001b[0;32m    629\u001b[0m \u001b[38;5;28;01mif\u001b[39;00m \u001b[38;5;129;01mnot\u001b[39;00m (\u001b[38;5;241m200\u001b[39m \u001b[38;5;241m<\u001b[39m\u001b[38;5;241m=\u001b[39m code \u001b[38;5;241m<\u001b[39m \u001b[38;5;241m300\u001b[39m):\n\u001b[1;32m--> 630\u001b[0m     response \u001b[38;5;241m=\u001b[39m \u001b[38;5;28;43mself\u001b[39;49m\u001b[38;5;241;43m.\u001b[39;49m\u001b[43mparent\u001b[49m\u001b[38;5;241;43m.\u001b[39;49m\u001b[43merror\u001b[49m\u001b[43m(\u001b[49m\n\u001b[0;32m    631\u001b[0m \u001b[43m        \u001b[49m\u001b[38;5;124;43m'\u001b[39;49m\u001b[38;5;124;43mhttp\u001b[39;49m\u001b[38;5;124;43m'\u001b[39;49m\u001b[43m,\u001b[49m\u001b[43m \u001b[49m\u001b[43mrequest\u001b[49m\u001b[43m,\u001b[49m\u001b[43m \u001b[49m\u001b[43mresponse\u001b[49m\u001b[43m,\u001b[49m\u001b[43m \u001b[49m\u001b[43mcode\u001b[49m\u001b[43m,\u001b[49m\u001b[43m \u001b[49m\u001b[43mmsg\u001b[49m\u001b[43m,\u001b[49m\u001b[43m \u001b[49m\u001b[43mhdrs\u001b[49m\u001b[43m)\u001b[49m\n\u001b[0;32m    633\u001b[0m \u001b[38;5;28;01mreturn\u001b[39;00m response\n",
      "File \u001b[1;32mc:\\Users\\wsand\\anaconda3\\Lib\\urllib\\request.py:559\u001b[0m, in \u001b[0;36mOpenerDirector.error\u001b[1;34m(self, proto, *args)\u001b[0m\n\u001b[0;32m    557\u001b[0m \u001b[38;5;28;01mif\u001b[39;00m http_err:\n\u001b[0;32m    558\u001b[0m     args \u001b[38;5;241m=\u001b[39m (\u001b[38;5;28mdict\u001b[39m, \u001b[38;5;124m'\u001b[39m\u001b[38;5;124mdefault\u001b[39m\u001b[38;5;124m'\u001b[39m, \u001b[38;5;124m'\u001b[39m\u001b[38;5;124mhttp_error_default\u001b[39m\u001b[38;5;124m'\u001b[39m) \u001b[38;5;241m+\u001b[39m orig_args\n\u001b[1;32m--> 559\u001b[0m     \u001b[38;5;28;01mreturn\u001b[39;00m \u001b[38;5;28;43mself\u001b[39;49m\u001b[38;5;241;43m.\u001b[39;49m\u001b[43m_call_chain\u001b[49m\u001b[43m(\u001b[49m\u001b[38;5;241;43m*\u001b[39;49m\u001b[43margs\u001b[49m\u001b[43m)\u001b[49m\n",
      "File \u001b[1;32mc:\\Users\\wsand\\anaconda3\\Lib\\urllib\\request.py:492\u001b[0m, in \u001b[0;36mOpenerDirector._call_chain\u001b[1;34m(self, chain, kind, meth_name, *args)\u001b[0m\n\u001b[0;32m    490\u001b[0m \u001b[38;5;28;01mfor\u001b[39;00m handler \u001b[38;5;129;01min\u001b[39;00m handlers:\n\u001b[0;32m    491\u001b[0m     func \u001b[38;5;241m=\u001b[39m \u001b[38;5;28mgetattr\u001b[39m(handler, meth_name)\n\u001b[1;32m--> 492\u001b[0m     result \u001b[38;5;241m=\u001b[39m \u001b[43mfunc\u001b[49m\u001b[43m(\u001b[49m\u001b[38;5;241;43m*\u001b[39;49m\u001b[43margs\u001b[49m\u001b[43m)\u001b[49m\n\u001b[0;32m    493\u001b[0m     \u001b[38;5;28;01mif\u001b[39;00m result \u001b[38;5;129;01mis\u001b[39;00m \u001b[38;5;129;01mnot\u001b[39;00m \u001b[38;5;28;01mNone\u001b[39;00m:\n\u001b[0;32m    494\u001b[0m         \u001b[38;5;28;01mreturn\u001b[39;00m result\n",
      "File \u001b[1;32mc:\\Users\\wsand\\anaconda3\\Lib\\urllib\\request.py:639\u001b[0m, in \u001b[0;36mHTTPDefaultErrorHandler.http_error_default\u001b[1;34m(self, req, fp, code, msg, hdrs)\u001b[0m\n\u001b[0;32m    638\u001b[0m \u001b[38;5;28;01mdef\u001b[39;00m \u001b[38;5;21mhttp_error_default\u001b[39m(\u001b[38;5;28mself\u001b[39m, req, fp, code, msg, hdrs):\n\u001b[1;32m--> 639\u001b[0m     \u001b[38;5;28;01mraise\u001b[39;00m HTTPError(req\u001b[38;5;241m.\u001b[39mfull_url, code, msg, hdrs, fp)\n",
      "\u001b[1;31mHTTPError\u001b[0m: HTTP Error 404: Not Found"
     ]
    }
   ],
   "source": [
    "\n",
    "# ==============================================================================\n",
    "url = 'https://raw.githubusercontent.com/JoaquinAmatRodrigo/skforecast/master/data/h2o_exog.csv'\n",
    "data = pd.read_csv(url, sep=',')\n",
    "\n",
    "\n",
    "data = data.rename(columns={'fecha': 'date'})\n",
    "data['date'] = pd.to_datetime(data['date'])\n",
    "data = data.set_index('date')\n",
    "data = data.asfreq('MS')\n",
    "data = data.sort_index()\n",
    "\n",
    "fig, ax = plt.subplots(figsize=(7, 3))\n",
    "data['y'].plot(ax=ax, label='y')\n",
    "data['exog_1'].plot(ax=ax, label='variable exogena')\n",
    "ax.legend();"
   ]
  },
  {
   "cell_type": "code",
   "execution_count": null,
   "metadata": {
    "cell_id": "0fb866decf5b48daaa6781debbe511b3",
    "deepnote_cell_type": "code",
    "deepnote_to_be_reexecuted": false,
    "execution_millis": 26,
    "execution_start": 1683354011163,
    "source_hash": "e7801662"
   },
   "outputs": [
    {
     "name": "stdout",
     "output_type": "stream",
     "text": [
      "Train dates : 1992-04-01 00:00:00 --- 2005-06-01 00:00:00  (n=159)\n",
      "Test dates  : 2005-07-01 00:00:00 --- 2008-06-01 00:00:00  (n=36)\n"
     ]
    }
   ],
   "source": [
    "# Split data into train-test\n",
    "# ==============================================================================\n",
    "steps = 36\n",
    "data_train = data[:-steps]\n",
    "data_test  = data[-steps:]\n",
    "\n",
    "print(f\"Train dates : {data_train.index.min()} --- {data_train.index.max()}  (n={len(data_train)})\")\n",
    "print(f\"Test dates  : {data_test.index.min()} --- {data_test.index.max()}  (n={len(data_test)})\")"
   ]
  },
  {
   "cell_type": "code",
   "execution_count": null,
   "metadata": {
    "cell_id": "11e7ff30c9e14728a9259a01aca49dc2",
    "deepnote_cell_type": "code",
    "deepnote_to_be_reexecuted": false,
    "execution_millis": 445,
    "execution_start": 1683354032524,
    "source_hash": "cb43dbf3"
   },
   "outputs": [
    {
     "data": {
      "text/plain": [
       "================= \n",
       "ForecasterAutoreg \n",
       "================= \n",
       "Regressor: RandomForestRegressor(random_state=123) \n",
       "Lags: [1 2 3 4 5 6 7 8] \n",
       "Transformer for y: None \n",
       "Transformer for exog: None \n",
       "Window size: 8 \n",
       "Weight function included: False \n",
       "Exogenous included: True \n",
       "Type of exogenous variable: <class 'pandas.core.series.Series'> \n",
       "Exogenous variables names: exog_1 \n",
       "Training range: [Timestamp('1992-04-01 00:00:00'), Timestamp('2005-06-01 00:00:00')] \n",
       "Training index type: DatetimeIndex \n",
       "Training index frequency: MS \n",
       "Regressor parameters: {'bootstrap': True, 'ccp_alpha': 0.0, 'criterion': 'squared_error', 'max_depth': None, 'max_features': 1.0, 'max_leaf_nodes': None, 'max_samples': None, 'min_impurity_decrease': 0.0, 'min_samples_leaf': 1, 'min_samples_split': 2, 'min_weight_fraction_leaf': 0.0, 'n_estimators': 100, 'n_jobs': None, 'oob_score': False, 'random_state': 123, 'verbose': 0, 'warm_start': False} \n",
       "Creation date: 2023-05-06 06:20:32 \n",
       "Last fit date: 2023-05-06 06:20:32 \n",
       "Skforecast version: 0.7.0 \n",
       "Python version: 3.9.16 \n",
       "Forecaster id: None "
      ]
     },
     "execution_count": 41,
     "metadata": {},
     "output_type": "execute_result"
    }
   ],
   "source": [
    "# Create and train forecaster\n",
    "# ==============================================================================\n",
    "forecaster = ForecasterAutoreg(\n",
    "                regressor = RandomForestRegressor(random_state=123),\n",
    "                lags      = 8\n",
    "             )\n",
    "\n",
    "forecaster.fit(y=data_train['y'], exog=data_train['exog_1'])\n",
    "forecaster"
   ]
  },
  {
   "cell_type": "code",
   "execution_count": null,
   "metadata": {
    "cell_id": "7fd02a5bbdae4c58888eea5e2ab89572",
    "deepnote_cell_type": "code",
    "deepnote_to_be_reexecuted": false,
    "execution_millis": 622,
    "execution_start": 1683354043284,
    "source_hash": "b29eb96b"
   },
   "outputs": [],
   "source": [
    "# Predictions\n",
    "# ==============================================================================\n",
    "predictions = forecaster.predict(steps=steps, exog=data_test['exog_1'])"
   ]
  },
  {
   "cell_type": "code",
   "execution_count": null,
   "metadata": {
    "cell_id": "77bb4c0c6a77430cbaa8a07a522d3f06",
    "deepnote_cell_type": "code",
    "deepnote_to_be_reexecuted": false,
    "execution_millis": 783,
    "execution_start": 1683354055063,
    "source_hash": "b6ffba1d"
   },
   "outputs": [
    {
     "data": {
      "image/png": "[encoded data removed]",
      "text/plain": [
       "<Figure size 700x300 with 1 Axes>"
      ]
     },
     "metadata": {
      "image/png": {
       "height": 315,
       "width": 664
      }
     },
     "output_type": "display_data"
    }
   ],
   "source": [
    "# Plot\n",
    "# ==============================================================================\n",
    "fig, ax = plt.subplots(figsize=(7, 3))\n",
    "data_train['y'].plot(ax=ax, label='train')\n",
    "data_test['y'].plot(ax=ax, label='test')\n",
    "predictions.plot(ax=ax, label='predictions')\n",
    "ax.legend();"
   ]
  },
  {
   "cell_type": "code",
   "execution_count": null,
   "metadata": {
    "cell_id": "136819170855482aaf96cdeb612e94c1",
    "deepnote_cell_type": "code",
    "deepnote_to_be_reexecuted": false,
    "execution_millis": 12,
    "execution_start": 1683354064672,
    "source_hash": "94e0fa6e"
   },
   "outputs": [
    {
     "name": "stdout",
     "output_type": "stream",
     "text": [
      "Test error (mse): 0.03989087922533575\n"
     ]
    }
   ],
   "source": [
    "# Test error\n",
    "# ==============================================================================\n",
    "error_mse = mean_squared_error(\n",
    "                y_true = data_test['y'],\n",
    "                y_pred = predictions\n",
    "            )\n",
    "\n",
    "print(f\"Test error (mse): {error_mse}\")"
   ]
  },
  {
   "cell_type": "code",
   "execution_count": null,
   "metadata": {
    "cell_id": "03393ea3f1324727ad58efa00d8f0453",
    "deepnote_cell_type": "code",
    "deepnote_to_be_reexecuted": false,
    "execution_millis": 128387,
    "execution_start": 1683354077748,
    "source_hash": "bac4c4a7"
   },
   "outputs": [
    {
     "name": "stdout",
     "output_type": "stream",
     "text": [
      "Number of models compared: 27.\n",
      "loop lags_grid:   0%|                                               | 0/3 [00:00<?, ?it/s]\n",
      "loop param_grid:   0%|                                              | 0/9 [00:00<?, ?it/s]\u001b[A\n",
      "loop param_grid:  11%|████▏                                 | 1/9 [00:01<00:09,  1.18s/it]\u001b[A\n",
      "loop param_grid:  22%|████████▍                             | 2/9 [00:03<00:13,  1.87s/it]\u001b[A\n",
      "loop param_grid:  33%|████████████▋                         | 3/9 [00:13<00:34,  5.70s/it]\u001b[A\n",
      "loop param_grid:  44%|████████████████▉                     | 4/9 [00:14<00:19,  3.90s/it]\u001b[A\n",
      "loop param_grid:  56%|█████████████████████                 | 5/9 [00:17<00:13,  3.28s/it]\u001b[A\n",
      "loop param_grid:  67%|█████████████████████████▎            | 6/9 [00:27<00:17,  5.67s/it]\u001b[A\n",
      "loop param_grid:  78%|█████████████████████████████▌        | 7/9 [00:28<00:08,  4.20s/it]\u001b[A\n",
      "loop param_grid:  89%|█████████████████████████████████▊    | 8/9 [00:30<00:03,  3.50s/it]\u001b[A\n",
      "loop param_grid: 100%|██████████████████████████████████████| 9/9 [00:42<00:00,  5.99s/it]\u001b[A\n",
      "loop lags_grid:  33%|█████████████                          | 1/3 [00:42<01:24, 42.11s/it]\n",
      "loop param_grid:   0%|                                              | 0/9 [00:00<?, ?it/s]\u001b[A\n",
      "loop param_grid:  11%|████▏                                 | 1/9 [00:01<00:09,  1.19s/it]\u001b[A\n",
      "loop param_grid:  22%|████████▍                             | 2/9 [00:03<00:12,  1.80s/it]\u001b[A\n",
      "loop param_grid:  33%|████████████▋                         | 3/9 [00:13<00:34,  5.76s/it]\u001b[A\n",
      "loop param_grid:  44%|████████████████▉                     | 4/9 [00:15<00:19,  3.93s/it]\u001b[A\n",
      "loop param_grid:  56%|█████████████████████                 | 5/9 [00:17<00:13,  3.36s/it]\u001b[A\n",
      "loop param_grid:  67%|█████████████████████████▎            | 6/9 [00:28<00:17,  5.91s/it]\u001b[A\n",
      "loop param_grid:  78%|█████████████████████████████▌        | 7/9 [00:29<00:08,  4.38s/it]\u001b[A\n",
      "loop param_grid:  89%|█████████████████████████████████▊    | 8/9 [00:31<00:03,  3.71s/it]\u001b[A\n",
      "loop param_grid: 100%|██████████████████████████████████████| 9/9 [00:42<00:00,  5.92s/it]\u001b[A\n",
      "loop lags_grid:  67%|██████████████████████████             | 2/3 [01:24<00:42, 42.38s/it]\n",
      "loop param_grid:   0%|                                              | 0/9 [00:00<?, ?it/s]\u001b[A\n",
      "loop param_grid:  11%|████▏                                 | 1/9 [00:01<00:09,  1.22s/it]\u001b[A\n",
      "loop param_grid:  22%|████████▍                             | 2/9 [00:03<00:12,  1.84s/it]\u001b[A\n",
      "loop param_grid:  33%|████████████▋                         | 3/9 [00:14<00:34,  5.83s/it]\u001b[A\n",
      "loop param_grid:  44%|████████████████▉                     | 4/9 [00:15<00:19,  4.00s/it]\u001b[A\n",
      "loop param_grid:  56%|█████████████████████                 | 5/9 [00:17<00:13,  3.44s/it]\u001b[A\n",
      "loop param_grid:  67%|█████████████████████████▎            | 6/9 [00:28<00:18,  6.04s/it]\u001b[A\n",
      "loop param_grid:  78%|█████████████████████████████▌        | 7/9 [00:29<00:08,  4.44s/it]\u001b[A\n",
      "loop param_grid:  89%|█████████████████████████████████▊    | 8/9 [00:32<00:03,  3.74s/it]\u001b[A\n",
      "loop param_grid: 100%|██████████████████████████████████████| 9/9 [00:43<00:00,  6.08s/it]\u001b[A\n",
      "loop lags_grid: 100%|███████████████████████████████████████| 3/3 [02:08<00:00, 42.71s/it]\n",
      "`Forecaster` refitted using the best-found lags and parameters, and the whole data set: \n",
      "  Lags: [ 1  2  3  4  5  6  7  8  9 10 11 12] \n",
      "  Parameters: {'max_depth': 10, 'n_estimators': 50}\n",
      "  Backtesting metric: 0.007172428407773492\n",
      "\n"
     ]
    }
   ],
   "source": [
    "# Hyperparameter Grid search\n",
    "# ==============================================================================\n",
    "steps = 36\n",
    "forecaster = ForecasterAutoreg(\n",
    "                regressor = RandomForestRegressor(random_state=123),\n",
    "                lags      = 12 # This value will be replaced in the grid search\n",
    "             )\n",
    "\n",
    "lags_grid = [5, 12, 20]\n",
    "\n",
    "param_grid = {'n_estimators': [50, 100, 500],\n",
    "              'max_depth': [3, 5, 10]}\n",
    "\n",
    "results_grid = grid_search_forecaster(\n",
    "                    forecaster  = forecaster,\n",
    "                    y           = data_train['y'],\n",
    "                    exog        = data_train['exog_1'],\n",
    "                    param_grid  = param_grid,\n",
    "                    lags_grid   = lags_grid,\n",
    "                    steps       = steps,\n",
    "                    refit       = True,\n",
    "                    metric      = 'mean_squared_error',\n",
    "                    initial_train_size = int(len(data_train)*0.5),\n",
    "                    return_best = True,\n",
    "                    verbose     = False\n",
    "               )"
   ]
  },
  {
   "cell_type": "code",
   "execution_count": null,
   "metadata": {
    "cell_id": "7d69e3b10776442fa2253d367c2a90f9",
    "deepnote_cell_type": "code",
    "deepnote_to_be_reexecuted": false,
    "execution_millis": 65,
    "execution_start": 1683354340710,
    "source_hash": "17b16713"
   },
   "outputs": [
    {
     "data": {
      "application/vnd.deepnote.dataframe.v3+json": {
       "column_count": 5,
       "columns": [
        {
         "dtype": "object",
         "name": "lags",
         "stats": {
          "categories": [
           {
            "count": 5,
            "name": "[ 1  2  3  4  5  6  7  8  9 10 11 12]"
           }
          ],
          "nan_count": 0,
          "unique_count": 5
         }
        },
        {
         "dtype": "object",
         "name": "params",
         "stats": {
          "categories": [
           {
            "count": 1,
            "name": "{'max_depth': 10, 'n_estimators': 50}"
           },
           {
            "count": 1,
            "name": "{'max_depth': 10, 'n_estimators': 100}"
           },
           {
            "count": 3,
            "name": "3 others"
           }
          ],
          "nan_count": 0,
          "unique_count": 5
         }
        },
        {
         "dtype": "float64",
         "name": "mean_squared_error",
         "stats": {
          "histogram": [
           {
            "bin_end": 0.007271946536148632,
            "bin_start": 0.007172428407773492,
            "count": 2
           },
           {
            "bin_end": 0.007371464664523772,
            "bin_start": 0.007271946536148632,
            "count": 0
           },
           {
            "bin_end": 0.007470982792898913,
            "bin_start": 0.007371464664523772,
            "count": 0
           },
           {
            "bin_end": 0.0075705009212740535,
            "bin_start": 0.007470982792898913,
            "count": 1
           },
           {
            "bin_end": 0.007670019049649194,
            "bin_start": 0.0075705009212740535,
            "count": 0
           },
           {
            "bin_end": 0.007769537178024334,
            "bin_start": 0.007670019049649194,
            "count": 0
           },
           {
            "bin_end": 0.007869055306399475,
            "bin_start": 0.007769537178024334,
            "count": 0
           },
           {
            "bin_end": 0.007968573434774615,
            "bin_start": 0.007869055306399475,
            "count": 1
           },
           {
            "bin_end": 0.008068091563149755,
            "bin_start": 0.007968573434774615,
            "count": 0
           },
           {
            "bin_end": 0.008167609691524896,
            "bin_start": 0.008068091563149755,
            "count": 1
           }
          ],
          "max": "0.008167609691524896",
          "min": "0.007172428407773492",
          "nan_count": 0,
          "unique_count": 5
         }
        },
        {
         "dtype": "int64",
         "name": "max_depth",
         "stats": {
          "histogram": [
           {
            "bin_end": 5.5,
            "bin_start": 5,
            "count": 2
           },
           {
            "bin_end": 6,
            "bin_start": 5.5,
            "count": 0
           },
           {
            "bin_end": 6.5,
            "bin_start": 6,
            "count": 0
           },
           {
            "bin_end": 7,
            "bin_start": 6.5,
            "count": 0
           },
           {
            "bin_end": 7.5,
            "bin_start": 7,
            "count": 0
           },
           {
            "bin_end": 8,
            "bin_start": 7.5,
            "count": 0
           },
           {
            "bin_end": 8.5,
            "bin_start": 8,
            "count": 0
           },
           {
            "bin_end": 9,
            "bin_start": 8.5,
            "count": 0
           },
           {
            "bin_end": 9.5,
            "bin_start": 9,
            "count": 0
           },
           {
            "bin_end": 10,
            "bin_start": 9.5,
            "count": 3
           }
          ],
          "max": "10",
          "min": "5",
          "nan_count": 0,
          "unique_count": 2
         }
        },
        {
         "dtype": "int64",
         "name": "n_estimators",
         "stats": {
          "histogram": [
           {
            "bin_end": 95,
            "bin_start": 50,
            "count": 1
           },
           {
            "bin_end": 140,
            "bin_start": 95,
            "count": 2
           },
           {
            "bin_end": 185,
            "bin_start": 140,
            "count": 0
           },
           {
            "bin_end": 230,
            "bin_start": 185,
            "count": 0
           },
           {
            "bin_end": 275,
            "bin_start": 230,
            "count": 0
           },
           {
            "bin_end": 320,
            "bin_start": 275,
            "count": 0
           },
           {
            "bin_end": 365,
            "bin_start": 320,
            "count": 0
           },
           {
            "bin_end": 410,
            "bin_start": 365,
            "count": 0
           },
           {
            "bin_end": 455,
            "bin_start": 410,
            "count": 0
           },
           {
            "bin_end": 500,
            "bin_start": 455,
            "count": 2
           }
          ],
          "max": "500",
          "min": "50",
          "nan_count": 0,
          "unique_count": 3
         }
        },
        {
         "dtype": "int64",
         "name": "_deepnote_index_column"
        }
       ],
       "row_count": 5,
       "rows": [
        {
         "_deepnote_index_column": "15",
         "lags": "[ 1  2  3  4  5  6  7  8  9 10 11 12]",
         "max_depth": "10",
         "mean_squared_error": "0.007172428407773492",
         "n_estimators": "50",
         "params": "{'max_depth': 10, 'n_estimators': 50}"
        },
        {
         "_deepnote_index_column": "16",
         "lags": "[ 1  2  3  4  5  6  7  8  9 10 11 12]",
         "max_depth": "10",
         "mean_squared_error": "0.007176477516563977",
         "n_estimators": "100",
         "params": "{'max_depth': 10, 'n_estimators': 100}"
        },
        {
         "_deepnote_index_column": "17",
         "lags": "[ 1  2  3  4  5  6  7  8  9 10 11 12]",
         "max_depth": "10",
         "mean_squared_error": "0.007534699830053138",
         "n_estimators": "500",
         "params": "{'max_depth': 10, 'n_estimators': 500}"
        },
        {
         "_deepnote_index_column": "14",
         "lags": "[ 1  2  3  4  5  6  7  8  9 10 11 12]",
         "max_depth": "5",
         "mean_squared_error": "0.00795972345774642",
         "n_estimators": "500",
         "params": "{'max_depth': 5, 'n_estimators': 500}"
        },
        {
         "_deepnote_index_column": "13",
         "lags": "[ 1  2  3  4  5  6  7  8  9 10 11 12]",
         "max_depth": "5",
         "mean_squared_error": "0.008167609691524896",
         "n_estimators": "100",
         "params": "{'max_depth': 5, 'n_estimators': 100}"
        }
       ]
      },
      "text/html": [
       "<div>\n",
       "<style scoped>\n",
       "    .dataframe tbody tr th:only-of-type {\n",
       "        vertical-align: middle;\n",
       "    }\n",
       "\n",
       "    .dataframe tbody tr th {\n",
       "        vertical-align: top;\n",
       "    }\n",
       "\n",
       "    .dataframe thead th {\n",
       "        text-align: right;\n",
       "    }\n",
       "</style>\n",
       "<table border=\"1\" class=\"dataframe\">\n",
       "  <thead>\n",
       "    <tr style=\"text-align: right;\">\n",
       "      <th></th>\n",
       "      <th>lags</th>\n",
       "      <th>params</th>\n",
       "      <th>mean_squared_error</th>\n",
       "      <th>max_depth</th>\n",
       "      <th>n_estimators</th>\n",
       "    </tr>\n",
       "  </thead>\n",
       "  <tbody>\n",
       "    <tr>\n",
       "      <th>15</th>\n",
       "      <td>[1, 2, 3, 4, 5, 6, 7, 8, 9, 10, 11, 12]</td>\n",
       "      <td>{'max_depth': 10, 'n_estimators': 50}</td>\n",
       "      <td>0.007172</td>\n",
       "      <td>10</td>\n",
       "      <td>50</td>\n",
       "    </tr>\n",
       "    <tr>\n",
       "      <th>16</th>\n",
       "      <td>[1, 2, 3, 4, 5, 6, 7, 8, 9, 10, 11, 12]</td>\n",
       "      <td>{'max_depth': 10, 'n_estimators': 100}</td>\n",
       "      <td>0.007176</td>\n",
       "      <td>10</td>\n",
       "      <td>100</td>\n",
       "    </tr>\n",
       "    <tr>\n",
       "      <th>17</th>\n",
       "      <td>[1, 2, 3, 4, 5, 6, 7, 8, 9, 10, 11, 12]</td>\n",
       "      <td>{'max_depth': 10, 'n_estimators': 500}</td>\n",
       "      <td>0.007535</td>\n",
       "      <td>10</td>\n",
       "      <td>500</td>\n",
       "    </tr>\n",
       "    <tr>\n",
       "      <th>14</th>\n",
       "      <td>[1, 2, 3, 4, 5, 6, 7, 8, 9, 10, 11, 12]</td>\n",
       "      <td>{'max_depth': 5, 'n_estimators': 500}</td>\n",
       "      <td>0.007960</td>\n",
       "      <td>5</td>\n",
       "      <td>500</td>\n",
       "    </tr>\n",
       "    <tr>\n",
       "      <th>13</th>\n",
       "      <td>[1, 2, 3, 4, 5, 6, 7, 8, 9, 10, 11, 12]</td>\n",
       "      <td>{'max_depth': 5, 'n_estimators': 100}</td>\n",
       "      <td>0.008168</td>\n",
       "      <td>5</td>\n",
       "      <td>100</td>\n",
       "    </tr>\n",
       "  </tbody>\n",
       "</table>\n",
       "</div>"
      ],
      "text/plain": [
       "                                       lags  \\\n",
       "15  [1, 2, 3, 4, 5, 6, 7, 8, 9, 10, 11, 12]   \n",
       "16  [1, 2, 3, 4, 5, 6, 7, 8, 9, 10, 11, 12]   \n",
       "17  [1, 2, 3, 4, 5, 6, 7, 8, 9, 10, 11, 12]   \n",
       "14  [1, 2, 3, 4, 5, 6, 7, 8, 9, 10, 11, 12]   \n",
       "13  [1, 2, 3, 4, 5, 6, 7, 8, 9, 10, 11, 12]   \n",
       "\n",
       "                                    params  mean_squared_error  max_depth  \\\n",
       "15   {'max_depth': 10, 'n_estimators': 50}            0.007172         10   \n",
       "16  {'max_depth': 10, 'n_estimators': 100}            0.007176         10   \n",
       "17  {'max_depth': 10, 'n_estimators': 500}            0.007535         10   \n",
       "14   {'max_depth': 5, 'n_estimators': 500}            0.007960          5   \n",
       "13   {'max_depth': 5, 'n_estimators': 100}            0.008168          5   \n",
       "\n",
       "    n_estimators  \n",
       "15            50  \n",
       "16           100  \n",
       "17           500  \n",
       "14           500  \n",
       "13           100  "
      ]
     },
     "execution_count": 46,
     "metadata": {},
     "output_type": "execute_result"
    }
   ],
   "source": [
    "# Grid Search results\n",
    "# ==============================================================================\n",
    "results_grid.head()"
   ]
  },
  {
   "cell_type": "code",
   "execution_count": null,
   "metadata": {
    "cell_id": "fbad953343614fe5808c6e14b2bdc693",
    "deepnote_cell_type": "code",
    "deepnote_to_be_reexecuted": false,
    "execution_millis": 1096,
    "execution_start": 1683354395477,
    "source_hash": "6e6f9d8b"
   },
   "outputs": [
    {
     "data": {
      "image/png": "[encoded data removed]",
      "text/plain": [
       "<Figure size 1000x500 with 1 Axes>"
      ]
     },
     "metadata": {
      "image/png": {
       "height": 477,
       "width": 925
      }
     },
     "output_type": "display_data"
    }
   ],
   "source": [
    "# Predictions\n",
    "# ==============================================================================\n",
    "predictions = forecaster.predict(steps=steps, exog=data_test['exog_1'])\n",
    "\n",
    "# Plot\n",
    "# ==============================================================================\n",
    "fig, ax = plt.subplots(figsize=(10, 5))\n",
    "data_train['y'].plot(ax=ax, label='train')\n",
    "data_test['y'].plot(ax=ax, label='test')\n",
    "predictions.plot(ax=ax, label='predictions')\n",
    "ax.legend();"
   ]
  },
  {
   "cell_type": "code",
   "execution_count": null,
   "metadata": {
    "cell_id": "f06dd36eb40d4068a06c36e260014906",
    "deepnote_cell_type": "code",
    "deepnote_to_be_reexecuted": false,
    "execution_millis": 11,
    "execution_start": 1683354415956,
    "source_hash": "f33e474e"
   },
   "outputs": [
    {
     "name": "stdout",
     "output_type": "stream",
     "text": [
      "Test error (mse) 0.0044949967759907675\n"
     ]
    }
   ],
   "source": [
    "# Test error\n",
    "# ==============================================================================\n",
    "error_mse = mean_squared_error(y_true = data_test['y'], y_pred = predictions)\n",
    "print(f\"Test error (mse) {error_mse}\")"
   ]
  },
  {
   "cell_type": "markdown",
   "metadata": {
    "created_in_deepnote_cell": true,
    "deepnote_cell_type": "markdown"
   },
   "source": [
    "<a style='text-decoration:none;line-height:16px;display:flex;color:#5B5B62;padding:10px;justify-content:end;' href='https://deepnote.com?utm_source=created-in-deepnote-cell&projectId=6b01f3fd-002a-43ad-8b2f-83f22b9a4ee6' target=\"_blank\">\n",
    "<img alt='Created in deepnote.com' style='display:inline;max-height:16px;margin:0px;margin-right:7.5px;' src='data:image/svg+xml;base64,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' > </img>\n",
    "Created in <span style='font-weight:600;margin-left:4px;'>Deepnote</span></a>"
   ]
  }
 ],
 "metadata": {
  "deepnote": {},
  "deepnote_execution_queue": [],
  "deepnote_notebook_id": "d1031cfdb8f84cd7bfa4969f7aade886",
  "deepnote_persisted_session": {
   "createdAt": "2023-05-06T06:45:05.215Z"
  },
  "kernelspec": {
   "display_name": "base",
   "language": "python",
   "name": "python3"
  },
  "language_info": {
   "codemirror_mode": {
    "name": "ipython",
    "version": 3
   },
   "file_extension": ".py",
   "mimetype": "text/x-python",
   "name": "python",
   "nbconvert_exporter": "python",
   "pygments_lexer": "ipython3",
   "version": "3.12.4"
  },
  "orig_nbformat": 2
 },
 "nbformat": 4,
 "nbformat_minor": 0
}
