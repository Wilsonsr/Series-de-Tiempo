{
 "cells": [
  {
   "cell_type": "markdown",
   "metadata": {},
   "source": [
    "<div style=\"text-align: center; color:rgb(0, 0, 0); font-family: Arial, sans-serif; background-color:rgb(137, 200, 129); padding: 10px; border-radius: 10px; box-shadow: 0 4px 8px rgba(0, 0, 0, 1.2); line-height: 0.1;\">\n",
    "\n",
    "### **Series de Tiempo**\n",
    "#### **Universidad Central**\n",
    "#### Maestría en Analítica de Datos\n",
    "#### Docente: Wilson Sandoval Rodriguez\n",
    "##### wsandovalr@ucentral.edu.co\n",
    "\n",
    "</div>"
   ]
  },
  {
   "cell_type": "markdown",
   "metadata": {},
   "source": [
    "Cuando desarrollamos un modelo para predecir valores futuros (por ejemplo, ventas, temperatura, demanda, etc.), necesitamos saber qué tan bien está funcionando ese modelo. Evaluar nos permite:\n",
    "\n",
    "Ver si el modelo aprendió los patrones correctos.\n",
    "Comparar entre varios modelos para elegir el mejor.\n",
    "Detectar sobreajuste (cuando el modelo aprende muy bien los datos del pasado, pero falla en el futuro)."
   ]
  },
  {
   "cell_type": "code",
   "execution_count": null,
   "metadata": {},
   "outputs": [],
   "source": []
  },
  {
   "cell_type": "markdown",
   "metadata": {},
   "source": [
    "\n",
    "###  📏 Criterios de Evaluación de Modelos de Series de Tiempo\n",
    "\n",
    "###  **MAE – Mean Absolute Error**\n",
    "- Mide el promedio de los errores absolutos.\n",
    "- Más robusto a valores atípicos que el RMSE.\n",
    "  \n",
    "$$\n",
    "MAE = \\frac{1}{n} \\sum_{t=1}^{n} |Y_t - \\hat{Y}_t|\n",
    "$$\n",
    "Donde:\n",
    "-  $Y_t$ es el valor real en el tiempo $ t $.\n",
    "-  $\\hat{Y}_t$ es el valor pronosticado en el tiempo $t$.\n",
    "- $n$ es el número total de observaciones.\n",
    "\n",
    "- **Ventajas:** El MAE es simple y fácil de interpretar, ya que el error medio se expresa en las mismas unidades que los datos originales. Es menos sensible a los valores atípicos en comparación con otras métricas de error, como el error cuadrático medio (EMM).\n",
    "\n",
    "- **Desventajas:** El MAE no distingue entre sobreestimación y subestimación, y no proporciona información sobre la dirección o magnitud de los errores individuales. Además, dependiendo del problema específico, puede considerarse una desventaja que no penalice las predicciones erróneas tanto como el MSE.\n"
   ]
  },
  {
   "cell_type": "markdown",
   "metadata": {},
   "source": [
    "\n",
    "###  **MSE (Mean Squared Error)**\n",
    "$$\n",
    "MSE = \\frac{1}{n} \\sum_{t=1}^{n} (Y_t - \\hat{Y}_t)^2\n",
    "$$\n",
    "Donde:\n",
    "- $Y_t$ es el valor real en el tiempo $t$.\n",
    "- $\\hat{Y}_t$ es el valor pronosticado en el tiempo $t$.\n",
    "- $n$ es el número total de observaciones.\n",
    "\n",
    "- **Ventajas :** su simplicidad y capacidad para capturar errores grandes y pequeños. Penaliza los errores grandes debidos al cuadrado.\n",
    "\n",
    "- **Desventajas :** Se enfatizan los grandes errores debidos al cuadrado, lo cual puede ser una desventaja cuando hay valores atípicos. Además, no es fácil de interpretar, ya que se expresa en unidades cuadradas de los datos. Otras métricas, como el Error Medio Absoluto (EMA) o el Error Cuadrático Medio (RMSE), pueden ser preferibles en ciertas situaciones donde la interpretabilidad es un requisito. Además, no distingue entre sobreestimación y subestimación."
   ]
  },
  {
   "cell_type": "markdown",
   "metadata": {},
   "source": [
    "\n",
    "\n",
    "###  **RMSE – Root Mean Squared Error**\n",
    "- Mide la raíz cuadrada del promedio de los errores al cuadrado.\n",
    "- Penaliza más los errores grandes.\n",
    "- **Fórmula:**  \n",
    "\n",
    "\n",
    "$$\n",
    "RMSE = \\sqrt{\\frac{1}{n} \\sum_{t=1}^{n} (Y_t - \\hat{Y}_t)^2}\n",
    "$$\n",
    "Donde:\n",
    "- $Y_t$ es el valor real en el tiempo $t$.\n",
    "- $\\hat{Y}_t$ es el valor pronosticado en el tiempo $t$.\n",
    "- $n$ es el número total de observaciones.\n",
    "\n",
    "\n",
    "- **Ventajas :** penaliza grandes errores debidos al cuadrado y es fácilmente interpretable gracias a expresar el número en la magnitud de las variables.\n",
    "- **Desventajas :** Es sensible a valores atípicos y puede verse sesgado por valores extremos. Además, el RMSE no proporciona información sobre la dirección ni el patrón de los errores de pronóstico, ni distingue entre sobrepredicciones y subpredicciones."
   ]
  },
  {
   "cell_type": "markdown",
   "metadata": {},
   "source": [
    "\n",
    "###  **MAPE (Mean Absolute Percentage Error)**\n",
    "\n",
    "- Error porcentual medio.\n",
    "- No usar si hay ceros en la serie real.\n",
    "\n",
    "\n",
    "$$\n",
    "MAPE = \\frac{100}{n} \\sum_{t=1}^{n} \\left| \\frac{Y_t - \\hat{Y}_t}{Y_t} \\right|\n",
    "$$\n",
    "Donde:\n",
    "- $Y_t$ es el valor real en el tiempo \\( t \\).\n",
    "-  $\\hat{Y}_t$ es el valor pronosticado en el tiempo $t$.\n",
    "- $n$ es el número total de observaciones.\n",
    "\n",
    "- **Ventajas:** su capacidad de interpretar errores en términos de porcentaje, lo que facilita su comprensión y comparación entre diferentes conjuntos de datos.\n",
    "- **Desventajas :** Es sensible a valores extremos y no puede manejar valores reales cero o casi cero, ya que no es posible dividir por cero. MAPE trata las sobreestimaciones y subestimaciones de forma diferente, lo que significa que no es una métrica simétrica. La dirección del error (si la predicción es superior o inferior al valor real) afecta el valor de MAPE. Esta falta de simetría significa que podría no ser adecuado para situaciones donde las sobreestimaciones y subestimaciones tienen diferentes implicaciones o costos."
   ]
  },
  {
   "cell_type": "markdown",
   "metadata": {},
   "source": [
    "###  **SMAPE – Symmetric Mean Absolute Percentage Error**\n",
    "- Versión simétrica del MAPE. Más estable cuando hay valores cercanos a cero.\n",
    "$$\n",
    "\n",
    "SMAPE = \\frac{100\\%}{n} \\sum_{t=1}^{n} \\frac{ |y_t - \\hat{y}_t| }{ (|y_t| + |\\hat{y}_t|)/2 }\n",
    "\n",
    "$$\n",
    "\n",
    "\n",
    "- **Ventajas :** su capacidad para manejar valores cero y su simetría, que garantiza que los errores de sobreestimación y subestimación se traten por igual.\n",
    "- **Desventajas :** Es sensible a valores atípicos extremos, ya que se calcula la diferencia porcentual. Puede generar valores infinitos si tanto el valor real como el predicho son cero."
   ]
  },
  {
   "cell_type": "markdown",
   "metadata": {},
   "source": [
    "\n",
    "\n",
    "\n",
    "\n",
    "### 🧠 Criterios de Información\n",
    "\n",
    "###  **AIC – Akaike Information Criterion**\n",
    "- Penaliza modelos con más parámetros.\n",
    "- Menor AIC → mejor modelo.\n",
    "- **Fórmula:**\n",
    "\n",
    "$$\n",
    "AIC = 2k - 2 \\ln(\\hat{L})\n",
    "$$\n",
    "\n",
    "Donde:\n",
    "-  $k$: número de parámetros\n",
    "- $\\hat{L}$: máxima verosimilitud del modelo\n",
    "\n",
    "\n",
    "\n",
    "###  **BIC – Bayesian Information Criterion**\n",
    "- Similar al AIC pero con penalización mayor.\n",
    "- **Fórmula:**\n",
    "\n",
    "$$\n",
    "BIC = k \\ln(n) - 2 \\ln(\\hat{L})\n",
    "$$\n",
    "\n"
   ]
  },
  {
   "cell_type": "markdown",
   "metadata": {},
   "source": [
    "\n",
    "###  📉 Evaluación de Residuos\n",
    "\n",
    "###  **Test de Ljung-Box**\n",
    "- Revisa si los residuos están autocorrelacionados.\n",
    "- Hipótesis nula: residuos son ruido blanco.\n",
    "- Se espera un **p-valor alto** (no autocorrelación significativa).\n",
    "\n",
    "\n",
    "###  **Autocorrelación (ACF/PACF) de residuos**\n",
    "- Se grafican para verificar independencia.\n",
    "- Los residuos ideales no deben mostrar autocorrelación significativa.\n",
    "\n",
    "\n",
    "###  **Análisis visual de residuos**\n",
    "- Gráficos para observar:\n",
    "  - Si los residuos están centrados en cero.\n",
    "  - Si la varianza es constante.\n",
    "  - Si hay patrones no capturados por el modelo.\n",
    "\n"
   ]
  },
  {
   "cell_type": "markdown",
   "metadata": {},
   "source": [
    "\n",
    "## 🔁 Validación temporal\n",
    "\n",
    "### **Validación cruzada para series de tiempo**\n",
    "- **No se debe mezclar aleatoriamente** como en ML tradicional.\n",
    "- Métodos más comunes:\n",
    "  - **Ventana creciente (expanding window)**\n",
    "  - **Ventana deslizante (sliding window)**\n",
    "  - **Walk-forward validation**\n"
   ]
  },
  {
   "cell_type": "markdown",
   "metadata": {},
   "source": [
    "## 🎯 Recomendaciones\n",
    "\n",
    "| **Criterio**        | **¿Cuándo usar?**               | **Ventajas**                                | **Limitaciones**                             |\n",
    "|---------------------|----------------------------------|---------------------------------------------|----------------------------------------------|\n",
    "| **MAE**             | Errores promedio                | Intuitivo, fácil de interpretar              | No penaliza fuerte errores grandes           |\n",
    "| **RMSE**            | Cuando importan los errores grandes | Penaliza errores severos                 | Sensible a outliers                          |\n",
    "| **MAPE**            | Comparación porcentual          | Escalable y fácil de explicar                | Problemas con ceros                          |\n",
    "| **SMAPE**           | Alternativa a MAPE              | Evita divisiones por cero                    | Difícil de interpretar                       |\n",
    "| **MASE**            | Comparación entre series        | Escalable, robusto                           | Requiere cálculo base naive                 |\n",
    "| **AIC / BIC**       | Comparar modelos estadísticos   | Considera ajuste y complejidad               | Solo para modelos con verosimilitud          |\n",
    "| **Ljung-Box**       | Diagnóstico de residuos         | Detecta autocorrelación                      | No compara modelos                           |\n",
    "| **Validación cruzada** | Predicción futura realista   | Generaliza mejor                             | Más costosa computacionalmente               |\n",
    "\n",
    "\n",
    "\n",
    "\n",
    "\n",
    "\n",
    "\n",
    "\n",
    "\n",
    "\n",
    "\n"
   ]
  },
  {
   "cell_type": "code",
   "execution_count": null,
   "metadata": {},
   "outputs": [],
   "source": []
  },
  {
   "cell_type": "code",
   "execution_count": 1,
   "metadata": {},
   "outputs": [],
   "source": [
    "import numpy as np\n",
    "import pandas as pd\n",
    "import matplotlib.pyplot as plt\n",
    "import datetime"
   ]
  },
  {
   "cell_type": "code",
   "execution_count": 2,
   "metadata": {},
   "outputs": [],
   "source": [
    "# Install library\n",
    "#%pip install meteostat\n"
   ]
  },
  {
   "cell_type": "code",
   "execution_count": 3,
   "metadata": {},
   "outputs": [],
   "source": [
    "# Importar librerías\n",
    "from datetime import datetime\n",
    "import matplotlib.pyplot as plt\n",
    "from meteostat import Point, Daily, Monthly, Hourly\n",
    "\n",
    "# Establecer el período de tiempo\n",
    "start = datetime(2018, 6, 1)\n",
    "end = datetime(2024, 12, 31)\n",
    "\n",
    "# Crear el punto geográfico para Bogotá, Colombia\n",
    "# Coordenadas aproximadas: Latitud 4.7110, Longitud -74.0721, Altitud 2640 msnm\n",
    "bogota = Point(4.7110, -74.0721, 2640)\n",
    "\n",
    "# Obtener datos diarios\n",
    "data = Monthly(bogota, start, end)\n",
    "data = data.fetch()\n"
   ]
  },
  {
   "cell_type": "code",
   "execution_count": 4,
   "metadata": {},
   "outputs": [
    {
     "data": {
      "image/png": "[encoded data removed]",
      "text/plain": [
       "<Figure size 640x480 with 1 Axes>"
      ]
     },
     "metadata": {},
     "output_type": "display_data"
    }
   ],
   "source": [
    "\n",
    "# Graficar temperaturas promedio, mínima y máxima\n",
    "data.plot(y=['tavg', 'tmin', 'tmax'], title='Temperatura diaria en Bogotá (2018)')\n",
    "plt.xlabel('Fecha')\n",
    "plt.ylabel('Temperatura (°C)')\n",
    "plt.grid(True)\n",
    "plt.show()\n"
   ]
  },
  {
   "cell_type": "code",
   "execution_count": 5,
   "metadata": {},
   "outputs": [
    {
     "data": {
      "application/vnd.microsoft.datawrangler.viewer.v0+json": {
       "columns": [
        {
         "name": "time",
         "rawType": "datetime64[ns]",
         "type": "datetime"
        },
        {
         "name": "tavg",
         "rawType": "float64",
         "type": "float"
        },
        {
         "name": "tmin",
         "rawType": "float64",
         "type": "float"
        },
        {
         "name": "tmax",
         "rawType": "float64",
         "type": "float"
        },
        {
         "name": "prcp",
         "rawType": "float64",
         "type": "float"
        },
        {
         "name": "wspd",
         "rawType": "float64",
         "type": "float"
        },
        {
         "name": "pres",
         "rawType": "float64",
         "type": "float"
        },
        {
         "name": "tsun",
         "rawType": "float64",
         "type": "float"
        }
       ],
       "conversionMethod": "pd.DataFrame",
       "ref": "02859b1a-028d-4451-89e4-5b6c0f39efeb",
       "rows": [
        [
         "2018-06-01 00:00:00",
         "13.4",
         "9.0",
         "18.2",
         null,
         null,
         null,
         null
        ],
        [
         "2018-07-01 00:00:00",
         "13.3",
         "9.2",
         "18.4",
         null,
         "11.5",
         null,
         null
        ],
        [
         "2018-08-01 00:00:00",
         "13.1",
         "8.0",
         "18.4",
         null,
         "12.6",
         "1017.1",
         null
        ],
        [
         "2018-09-01 00:00:00",
         "13.4",
         "8.1",
         "19.3",
         null,
         "10.2",
         "1015.6",
         null
        ],
        [
         "2018-10-01 00:00:00",
         "13.6",
         "9.0",
         "19.6",
         null,
         "9.2",
         "1016.2",
         null
        ],
        [
         "2018-11-01 00:00:00",
         "13.9",
         "9.5",
         "20.3",
         null,
         "8.8",
         "1015.8",
         null
        ],
        [
         "2018-12-01 00:00:00",
         "12.7",
         "5.7",
         "20.2",
         null,
         "10.3",
         "1016.4",
         null
        ],
        [
         "2019-01-01 00:00:00",
         "13.3",
         "7.3",
         "20.0",
         "24.0",
         "10.7",
         "1016.5",
         null
        ],
        [
         "2019-02-01 00:00:00",
         "13.8",
         "8.4",
         "20.8",
         "69.0",
         "9.8",
         "1016.2",
         null
        ],
        [
         "2019-03-01 00:00:00",
         "14.2",
         "10.1",
         "19.8",
         "157.0",
         "9.2",
         "1016.4",
         null
        ],
        [
         "2019-04-01 00:00:00",
         "14.2",
         "10.1",
         "19.6",
         "79.0",
         "9.7",
         "1016.9",
         null
        ],
        [
         "2019-05-01 00:00:00",
         "13.9",
         "9.9",
         "19.3",
         "152.0",
         "9.3",
         null,
         null
        ],
        [
         "2019-06-01 00:00:00",
         "13.8",
         "9.8",
         "18.7",
         "65.0",
         "11.2",
         null,
         null
        ],
        [
         "2019-07-01 00:00:00",
         "13.4",
         "8.8",
         "18.7",
         "36.0",
         "11.5",
         null,
         null
        ],
        [
         "2019-08-01 00:00:00",
         "13.2",
         "8.5",
         "18.3",
         "18.0",
         "12.8",
         null,
         null
        ],
        [
         "2019-09-01 00:00:00",
         "13.7",
         "8.4",
         "19.4",
         "60.0",
         "10.3",
         "1016.7",
         null
        ],
        [
         "2019-10-01 00:00:00",
         "12.9",
         "7.8",
         "19.1",
         "113.0",
         "9.4",
         "1016.1",
         null
        ],
        [
         "2019-11-01 00:00:00",
         "13.7",
         "9.2",
         "19.8",
         "151.0",
         "10.1",
         "1015.5",
         null
        ],
        [
         "2019-12-01 00:00:00",
         "13.6",
         "8.3",
         "19.9",
         "47.0",
         "10.0",
         "1015.5",
         null
        ],
        [
         "2020-01-01 00:00:00",
         "13.4",
         "6.6",
         "20.5",
         "14.0",
         "10.8",
         "1016.9",
         null
        ],
        [
         "2020-02-01 00:00:00",
         "13.6",
         "6.7",
         "21.2",
         "24.0",
         "10.0",
         null,
         null
        ],
        [
         "2020-03-01 00:00:00",
         "14.2",
         "9.1",
         "20.8",
         "71.0",
         "9.9",
         "1017.3",
         null
        ],
        [
         "2020-04-01 00:00:00",
         "14.2",
         "8.8",
         "20.1",
         "57.0",
         "9.7",
         "1017.5",
         null
        ],
        [
         "2020-05-01 00:00:00",
         "14.2",
         "9.5",
         "19.4",
         "46.0",
         "10.0",
         null,
         null
        ],
        [
         "2020-06-01 00:00:00",
         "13.5",
         "8.9",
         "19.1",
         "96.0",
         "9.6",
         null,
         null
        ],
        [
         "2020-07-01 00:00:00",
         "13.2",
         "8.8",
         "18.8",
         "91.0",
         "9.9",
         null,
         null
        ],
        [
         "2020-08-01 00:00:00",
         "13.6",
         "8.5",
         "19.3",
         "84.0",
         "10.4",
         null,
         null
        ],
        [
         "2020-09-01 00:00:00",
         "13.0",
         "7.7",
         "19.4",
         "96.0",
         "9.5",
         null,
         null
        ],
        [
         "2020-10-01 00:00:00",
         "13.3",
         "8.1",
         "19.5",
         "5.0",
         "9.6",
         null,
         null
        ],
        [
         "2020-11-01 00:00:00",
         "13.3",
         "9.3",
         "19.4",
         "107.0",
         "8.2",
         null,
         null
        ],
        [
         "2020-12-01 00:00:00",
         "13.1",
         "7.4",
         "19.9",
         "36.0",
         "9.0",
         "1024.7",
         null
        ],
        [
         "2021-01-01 00:00:00",
         "12.3",
         "6.2",
         "20.0",
         "28.0",
         "9.2",
         "1024.9",
         null
        ],
        [
         "2021-02-01 00:00:00",
         "13.5",
         "8.1",
         "19.7",
         "35.0",
         "10.0",
         "1025.1",
         null
        ],
        [
         "2021-03-01 00:00:00",
         "12.9",
         "9.0",
         "18.4",
         "46.0",
         "8.6",
         "1016.4",
         null
        ],
        [
         "2021-04-01 00:00:00",
         "13.8",
         "9.7",
         "19.6",
         "28.0",
         "9.5",
         "1023.1",
         null
        ],
        [
         "2021-05-01 00:00:00",
         "13.9",
         "9.7",
         "19.5",
         "39.0",
         "9.3",
         "1026.5",
         null
        ],
        [
         "2021-06-01 00:00:00",
         "13.3",
         "8.9",
         "19.0",
         "121.0",
         "9.3",
         "1026.7",
         null
        ],
        [
         "2021-07-01 00:00:00",
         "13.3",
         "9.0",
         "18.7",
         "43.0",
         "10.9",
         "1027.2",
         null
        ],
        [
         "2021-08-01 00:00:00",
         "13.3",
         "9.2",
         "18.7",
         "117.0",
         "9.9",
         "1026.9",
         null
        ],
        [
         "2021-09-01 00:00:00",
         "13.0",
         "8.0",
         "19.0",
         "71.0",
         "9.7",
         "1026.8",
         null
        ],
        [
         "2021-10-01 00:00:00",
         "13.9",
         "8.9",
         "19.3",
         "175.0",
         "8.7",
         "1026.1",
         null
        ],
        [
         "2021-11-01 00:00:00",
         "13.6",
         "8.5",
         "19.7",
         "158.0",
         "8.9",
         "1025.3",
         null
        ],
        [
         "2021-12-01 00:00:00",
         "13.9",
         "8.7",
         "20.6",
         "190.6",
         "8.9",
         "1025.3",
         null
        ],
        [
         "2022-01-01 00:00:00",
         "13.3",
         "7.3",
         "20.3",
         "51.3",
         "9.3",
         "1025.8",
         null
        ],
        [
         "2022-02-01 00:00:00",
         "13.3",
         "8.9",
         "19.6",
         "139.1",
         "8.5",
         "1025.3",
         null
        ],
        [
         "2022-03-01 00:00:00",
         "13.5",
         "8.7",
         "19.1",
         "188.6",
         "8.9",
         "1025.3",
         null
        ],
        [
         "2022-04-01 00:00:00",
         "13.4",
         "9.4",
         "19.2",
         "176.6",
         "8.5",
         "1025.7",
         null
        ],
        [
         "2022-05-01 00:00:00",
         "13.5",
         "9.6",
         "19.1",
         "123.7",
         "8.7",
         "1026.9",
         null
        ],
        [
         "2022-06-01 00:00:00",
         "12.5",
         "8.7",
         "18.1",
         "122.9",
         "7.5",
         "1026.4",
         null
        ],
        [
         "2022-07-01 00:00:00",
         "13.1",
         "8.5",
         "19.0",
         "77.2",
         "9.0",
         "1026.8",
         null
        ]
       ],
       "shape": {
        "columns": 7,
        "rows": 79
       }
      },
      "text/html": [
       "<div>\n",
       "<style scoped>\n",
       "    .dataframe tbody tr th:only-of-type {\n",
       "        vertical-align: middle;\n",
       "    }\n",
       "\n",
       "    .dataframe tbody tr th {\n",
       "        vertical-align: top;\n",
       "    }\n",
       "\n",
       "    .dataframe thead th {\n",
       "        text-align: right;\n",
       "    }\n",
       "</style>\n",
       "<table border=\"1\" class=\"dataframe\">\n",
       "  <thead>\n",
       "    <tr style=\"text-align: right;\">\n",
       "      <th></th>\n",
       "      <th>tavg</th>\n",
       "      <th>tmin</th>\n",
       "      <th>tmax</th>\n",
       "      <th>prcp</th>\n",
       "      <th>wspd</th>\n",
       "      <th>pres</th>\n",
       "      <th>tsun</th>\n",
       "    </tr>\n",
       "    <tr>\n",
       "      <th>time</th>\n",
       "      <th></th>\n",
       "      <th></th>\n",
       "      <th></th>\n",
       "      <th></th>\n",
       "      <th></th>\n",
       "      <th></th>\n",
       "      <th></th>\n",
       "    </tr>\n",
       "  </thead>\n",
       "  <tbody>\n",
       "    <tr>\n",
       "      <th>2018-06-01</th>\n",
       "      <td>13.4</td>\n",
       "      <td>9.0</td>\n",
       "      <td>18.2</td>\n",
       "      <td>NaN</td>\n",
       "      <td>NaN</td>\n",
       "      <td>NaN</td>\n",
       "      <td>NaN</td>\n",
       "    </tr>\n",
       "    <tr>\n",
       "      <th>2018-07-01</th>\n",
       "      <td>13.3</td>\n",
       "      <td>9.2</td>\n",
       "      <td>18.4</td>\n",
       "      <td>NaN</td>\n",
       "      <td>11.5</td>\n",
       "      <td>NaN</td>\n",
       "      <td>NaN</td>\n",
       "    </tr>\n",
       "    <tr>\n",
       "      <th>2018-08-01</th>\n",
       "      <td>13.1</td>\n",
       "      <td>8.0</td>\n",
       "      <td>18.4</td>\n",
       "      <td>NaN</td>\n",
       "      <td>12.6</td>\n",
       "      <td>1017.1</td>\n",
       "      <td>NaN</td>\n",
       "    </tr>\n",
       "    <tr>\n",
       "      <th>2018-09-01</th>\n",
       "      <td>13.4</td>\n",
       "      <td>8.1</td>\n",
       "      <td>19.3</td>\n",
       "      <td>NaN</td>\n",
       "      <td>10.2</td>\n",
       "      <td>1015.6</td>\n",
       "      <td>NaN</td>\n",
       "    </tr>\n",
       "    <tr>\n",
       "      <th>2018-10-01</th>\n",
       "      <td>13.6</td>\n",
       "      <td>9.0</td>\n",
       "      <td>19.6</td>\n",
       "      <td>NaN</td>\n",
       "      <td>9.2</td>\n",
       "      <td>1016.2</td>\n",
       "      <td>NaN</td>\n",
       "    </tr>\n",
       "    <tr>\n",
       "      <th>...</th>\n",
       "      <td>...</td>\n",
       "      <td>...</td>\n",
       "      <td>...</td>\n",
       "      <td>...</td>\n",
       "      <td>...</td>\n",
       "      <td>...</td>\n",
       "      <td>...</td>\n",
       "    </tr>\n",
       "    <tr>\n",
       "      <th>2024-08-01</th>\n",
       "      <td>13.6</td>\n",
       "      <td>7.1</td>\n",
       "      <td>19.4</td>\n",
       "      <td>NaN</td>\n",
       "      <td>11.3</td>\n",
       "      <td>NaN</td>\n",
       "      <td>NaN</td>\n",
       "    </tr>\n",
       "    <tr>\n",
       "      <th>2024-09-01</th>\n",
       "      <td>14.2</td>\n",
       "      <td>8.0</td>\n",
       "      <td>20.0</td>\n",
       "      <td>NaN</td>\n",
       "      <td>11.8</td>\n",
       "      <td>NaN</td>\n",
       "      <td>NaN</td>\n",
       "    </tr>\n",
       "    <tr>\n",
       "      <th>2024-10-01</th>\n",
       "      <td>13.9</td>\n",
       "      <td>8.1</td>\n",
       "      <td>19.8</td>\n",
       "      <td>157.2</td>\n",
       "      <td>10.1</td>\n",
       "      <td>1018.4</td>\n",
       "      <td>NaN</td>\n",
       "    </tr>\n",
       "    <tr>\n",
       "      <th>2024-11-01</th>\n",
       "      <td>13.4</td>\n",
       "      <td>9.2</td>\n",
       "      <td>18.9</td>\n",
       "      <td>467.5</td>\n",
       "      <td>8.7</td>\n",
       "      <td>1020.7</td>\n",
       "      <td>NaN</td>\n",
       "    </tr>\n",
       "    <tr>\n",
       "      <th>2024-12-01</th>\n",
       "      <td>13.6</td>\n",
       "      <td>7.9</td>\n",
       "      <td>20.2</td>\n",
       "      <td>NaN</td>\n",
       "      <td>9.5</td>\n",
       "      <td>NaN</td>\n",
       "      <td>NaN</td>\n",
       "    </tr>\n",
       "  </tbody>\n",
       "</table>\n",
       "<p>79 rows × 7 columns</p>\n",
       "</div>"
      ],
      "text/plain": [
       "            tavg  tmin  tmax   prcp  wspd    pres  tsun\n",
       "time                                                   \n",
       "2018-06-01  13.4   9.0  18.2    NaN   NaN     NaN   NaN\n",
       "2018-07-01  13.3   9.2  18.4    NaN  11.5     NaN   NaN\n",
       "2018-08-01  13.1   8.0  18.4    NaN  12.6  1017.1   NaN\n",
       "2018-09-01  13.4   8.1  19.3    NaN  10.2  1015.6   NaN\n",
       "2018-10-01  13.6   9.0  19.6    NaN   9.2  1016.2   NaN\n",
       "...          ...   ...   ...    ...   ...     ...   ...\n",
       "2024-08-01  13.6   7.1  19.4    NaN  11.3     NaN   NaN\n",
       "2024-09-01  14.2   8.0  20.0    NaN  11.8     NaN   NaN\n",
       "2024-10-01  13.9   8.1  19.8  157.2  10.1  1018.4   NaN\n",
       "2024-11-01  13.4   9.2  18.9  467.5   8.7  1020.7   NaN\n",
       "2024-12-01  13.6   7.9  20.2    NaN   9.5     NaN   NaN\n",
       "\n",
       "[79 rows x 7 columns]"
      ]
     },
     "execution_count": 5,
     "metadata": {},
     "output_type": "execute_result"
    }
   ],
   "source": [
    "data"
   ]
  },
  {
   "cell_type": "code",
   "execution_count": 6,
   "metadata": {},
   "outputs": [
    {
     "data": {
      "text/plain": [
       "<Axes: title={'center': 'Temperatura máxima diaria en Bogotá (2018)'}, xlabel='time'>"
      ]
     },
     "execution_count": 6,
     "metadata": {},
     "output_type": "execute_result"
    },
    {
     "data": {
      "image/png": "[encoded data removed]",
      "text/plain": [
       "<Figure size 640x480 with 1 Axes>"
      ]
     },
     "metadata": {},
     "output_type": "display_data"
    }
   ],
   "source": [
    "data[\"tmax\"].plot(title='Temperatura máxima diaria en Bogotá (2018)')"
   ]
  },
  {
   "cell_type": "code",
   "execution_count": 7,
   "metadata": {},
   "outputs": [
    {
     "data": {
      "image/png": "[encoded data removed]",
      "text/plain": [
       "<Figure size 1000x500 with 1 Axes>"
      ]
     },
     "metadata": {},
     "output_type": "display_data"
    }
   ],
   "source": [
    "# Temperatura máxima\n",
    "df_temp_max = data[['tmax']]\n",
    "\n",
    "# Visualizar la data\n",
    "df_temp_max.plot(figsize=(10,5))\n",
    "plt.grid(alpha=0.5)\n",
    "plt.xlabel('Fecha')\n",
    "plt.ylabel('Temperature (°C)')\n",
    "plt.show()"
   ]
  },
  {
   "cell_type": "code",
   "execution_count": 8,
   "metadata": {},
   "outputs": [
    {
     "data": {
      "text/plain": [
       "tmax    0\n",
       "dtype: int64"
      ]
     },
     "execution_count": 8,
     "metadata": {},
     "output_type": "execute_result"
    }
   ],
   "source": [
    "df_temp_max.isna().sum()"
   ]
  },
  {
   "cell_type": "code",
   "execution_count": 9,
   "metadata": {},
   "outputs": [
    {
     "data": {
      "image/png": "[encoded data removed]",
      "text/plain": [
       "<Figure size 640x480 with 4 Axes>"
      ]
     },
     "metadata": {},
     "output_type": "display_data"
    }
   ],
   "source": [
    "# Import statsmodels library\n",
    "import statsmodels.api as sm\n",
    "\n",
    "# Perform seasonal decomposition\n",
    "decomposition = sm.tsa.seasonal_decompose(df_temp_max, \n",
    "                                          model='additive', \n",
    "                                          period=12)\n",
    "\n",
    "# Extract the decomposed components\n",
    "trend = decomposition.trend\n",
    "seasonal = decomposition.seasonal\n",
    "residual = decomposition.resid\n",
    "\n",
    "# Plot the decomposed components\n",
    "decomposition.plot()\n",
    "plt.show()"
   ]
  },
  {
   "cell_type": "code",
   "execution_count": 10,
   "metadata": {},
   "outputs": [
    {
     "data": {
      "image/png": "[encoded data removed]",
      "text/plain": [
       "<Figure size 1000x500 with 1 Axes>"
      ]
     },
     "metadata": {},
     "output_type": "display_data"
    }
   ],
   "source": [
    "# entrenamiento y prueba de datos\n",
    "df_train = df_temp_max.loc[:'2023-12-31']\n",
    "df_test = df_temp_max.loc['2024-01-01':]\n",
    "\n",
    "\n",
    "ax = df_train[:].plot(figsize=(10, 5))\n",
    "df_test.plot(ax=ax)\n",
    "plt.legend(['Train', 'Test'])\n",
    "plt.xlabel('Fecha')\n",
    "plt.ylabel('Temperatura (°C)')\n",
    "plt.show()"
   ]
  },
  {
   "cell_type": "code",
   "execution_count": 11,
   "metadata": {},
   "outputs": [
    {
     "data": {
      "application/vnd.microsoft.datawrangler.viewer.v0+json": {
       "columns": [
        {
         "name": "time",
         "rawType": "datetime64[ns]",
         "type": "datetime"
        },
        {
         "name": "tmax",
         "rawType": "float64",
         "type": "float"
        }
       ],
       "conversionMethod": "pd.DataFrame",
       "ref": "0fa8de5e-ef13-428f-83e0-073f7804f66e",
       "rows": [
        [
         "2018-06-01 00:00:00",
         "18.2"
        ],
        [
         "2018-07-01 00:00:00",
         "18.4"
        ],
        [
         "2018-08-01 00:00:00",
         "18.4"
        ],
        [
         "2018-09-01 00:00:00",
         "19.3"
        ],
        [
         "2018-10-01 00:00:00",
         "19.6"
        ],
        [
         "2018-11-01 00:00:00",
         "20.3"
        ],
        [
         "2018-12-01 00:00:00",
         "20.2"
        ],
        [
         "2019-01-01 00:00:00",
         "20.0"
        ],
        [
         "2019-02-01 00:00:00",
         "20.8"
        ],
        [
         "2019-03-01 00:00:00",
         "19.8"
        ],
        [
         "2019-04-01 00:00:00",
         "19.6"
        ],
        [
         "2019-05-01 00:00:00",
         "19.3"
        ],
        [
         "2019-06-01 00:00:00",
         "18.7"
        ],
        [
         "2019-07-01 00:00:00",
         "18.7"
        ],
        [
         "2019-08-01 00:00:00",
         "18.3"
        ],
        [
         "2019-09-01 00:00:00",
         "19.4"
        ],
        [
         "2019-10-01 00:00:00",
         "19.1"
        ],
        [
         "2019-11-01 00:00:00",
         "19.8"
        ],
        [
         "2019-12-01 00:00:00",
         "19.9"
        ],
        [
         "2020-01-01 00:00:00",
         "20.5"
        ],
        [
         "2020-02-01 00:00:00",
         "21.2"
        ],
        [
         "2020-03-01 00:00:00",
         "20.8"
        ],
        [
         "2020-04-01 00:00:00",
         "20.1"
        ],
        [
         "2020-05-01 00:00:00",
         "19.4"
        ],
        [
         "2020-06-01 00:00:00",
         "19.1"
        ],
        [
         "2020-07-01 00:00:00",
         "18.8"
        ],
        [
         "2020-08-01 00:00:00",
         "19.3"
        ],
        [
         "2020-09-01 00:00:00",
         "19.4"
        ],
        [
         "2020-10-01 00:00:00",
         "19.5"
        ],
        [
         "2020-11-01 00:00:00",
         "19.4"
        ],
        [
         "2020-12-01 00:00:00",
         "19.9"
        ],
        [
         "2021-01-01 00:00:00",
         "20.0"
        ],
        [
         "2021-02-01 00:00:00",
         "19.7"
        ],
        [
         "2021-03-01 00:00:00",
         "18.4"
        ],
        [
         "2021-04-01 00:00:00",
         "19.6"
        ],
        [
         "2021-05-01 00:00:00",
         "19.5"
        ],
        [
         "2021-06-01 00:00:00",
         "19.0"
        ],
        [
         "2021-07-01 00:00:00",
         "18.7"
        ],
        [
         "2021-08-01 00:00:00",
         "18.7"
        ],
        [
         "2021-09-01 00:00:00",
         "19.0"
        ],
        [
         "2021-10-01 00:00:00",
         "19.3"
        ],
        [
         "2021-11-01 00:00:00",
         "19.7"
        ],
        [
         "2021-12-01 00:00:00",
         "20.6"
        ],
        [
         "2022-01-01 00:00:00",
         "20.3"
        ],
        [
         "2022-02-01 00:00:00",
         "19.6"
        ],
        [
         "2022-03-01 00:00:00",
         "19.1"
        ],
        [
         "2022-04-01 00:00:00",
         "19.2"
        ],
        [
         "2022-05-01 00:00:00",
         "19.1"
        ],
        [
         "2022-06-01 00:00:00",
         "18.1"
        ],
        [
         "2022-07-01 00:00:00",
         "19.0"
        ]
       ],
       "shape": {
        "columns": 1,
        "rows": 67
       }
      },
      "text/html": [
       "<div>\n",
       "<style scoped>\n",
       "    .dataframe tbody tr th:only-of-type {\n",
       "        vertical-align: middle;\n",
       "    }\n",
       "\n",
       "    .dataframe tbody tr th {\n",
       "        vertical-align: top;\n",
       "    }\n",
       "\n",
       "    .dataframe thead th {\n",
       "        text-align: right;\n",
       "    }\n",
       "</style>\n",
       "<table border=\"1\" class=\"dataframe\">\n",
       "  <thead>\n",
       "    <tr style=\"text-align: right;\">\n",
       "      <th></th>\n",
       "      <th>tmax</th>\n",
       "    </tr>\n",
       "    <tr>\n",
       "      <th>time</th>\n",
       "      <th></th>\n",
       "    </tr>\n",
       "  </thead>\n",
       "  <tbody>\n",
       "    <tr>\n",
       "      <th>2018-06-01</th>\n",
       "      <td>18.2</td>\n",
       "    </tr>\n",
       "    <tr>\n",
       "      <th>2018-07-01</th>\n",
       "      <td>18.4</td>\n",
       "    </tr>\n",
       "    <tr>\n",
       "      <th>2018-08-01</th>\n",
       "      <td>18.4</td>\n",
       "    </tr>\n",
       "    <tr>\n",
       "      <th>2018-09-01</th>\n",
       "      <td>19.3</td>\n",
       "    </tr>\n",
       "    <tr>\n",
       "      <th>2018-10-01</th>\n",
       "      <td>19.6</td>\n",
       "    </tr>\n",
       "    <tr>\n",
       "      <th>...</th>\n",
       "      <td>...</td>\n",
       "    </tr>\n",
       "    <tr>\n",
       "      <th>2023-08-01</th>\n",
       "      <td>19.1</td>\n",
       "    </tr>\n",
       "    <tr>\n",
       "      <th>2023-09-01</th>\n",
       "      <td>19.5</td>\n",
       "    </tr>\n",
       "    <tr>\n",
       "      <th>2023-10-01</th>\n",
       "      <td>19.9</td>\n",
       "    </tr>\n",
       "    <tr>\n",
       "      <th>2023-11-01</th>\n",
       "      <td>19.4</td>\n",
       "    </tr>\n",
       "    <tr>\n",
       "      <th>2023-12-01</th>\n",
       "      <td>19.9</td>\n",
       "    </tr>\n",
       "  </tbody>\n",
       "</table>\n",
       "<p>67 rows × 1 columns</p>\n",
       "</div>"
      ],
      "text/plain": [
       "            tmax\n",
       "time            \n",
       "2018-06-01  18.2\n",
       "2018-07-01  18.4\n",
       "2018-08-01  18.4\n",
       "2018-09-01  19.3\n",
       "2018-10-01  19.6\n",
       "...          ...\n",
       "2023-08-01  19.1\n",
       "2023-09-01  19.5\n",
       "2023-10-01  19.9\n",
       "2023-11-01  19.4\n",
       "2023-12-01  19.9\n",
       "\n",
       "[67 rows x 1 columns]"
      ]
     },
     "execution_count": 11,
     "metadata": {},
     "output_type": "execute_result"
    }
   ],
   "source": [
    "df_train"
   ]
  },
  {
   "cell_type": "code",
   "execution_count": 12,
   "metadata": {},
   "outputs": [
    {
     "name": "stdout",
     "output_type": "stream",
     "text": [
      "Requirement already satisfied: pmdarima in c:\\users\\wsand\\anaconda3\\lib\\site-packages (2.0.4)\n",
      "Requirement already satisfied: joblib>=0.11 in c:\\users\\wsand\\anaconda3\\lib\\site-packages (from pmdarima) (1.4.2)\n",
      "Requirement already satisfied: Cython!=0.29.18,!=0.29.31,>=0.29 in c:\\users\\wsand\\anaconda3\\lib\\site-packages (from pmdarima) (3.0.11)\n",
      "Requirement already satisfied: numpy>=1.21.2 in c:\\users\\wsand\\anaconda3\\lib\\site-packages (from pmdarima) (1.26.4)\n",
      "Requirement already satisfied: pandas>=0.19 in c:\\users\\wsand\\anaconda3\\lib\\site-packages (from pmdarima) (2.2.2)\n",
      "Requirement already satisfied: scikit-learn>=0.22 in c:\\users\\wsand\\anaconda3\\lib\\site-packages (from pmdarima) (1.4.2)\n",
      "Requirement already satisfied: scipy>=1.3.2 in c:\\users\\wsand\\anaconda3\\lib\\site-packages (from pmdarima) (1.13.1)\n",
      "Requirement already satisfied: statsmodels>=0.13.2 in c:\\users\\wsand\\anaconda3\\lib\\site-packages (from pmdarima) (0.14.2)\n",
      "Requirement already satisfied: urllib3 in c:\\users\\wsand\\anaconda3\\lib\\site-packages (from pmdarima) (2.2.2)\n",
      "Requirement already satisfied: setuptools!=50.0.0,>=38.6.0 in c:\\users\\wsand\\anaconda3\\lib\\site-packages (from pmdarima) (69.5.1)\n",
      "Requirement already satisfied: packaging>=17.1 in c:\\users\\wsand\\appdata\\roaming\\python\\python312\\site-packages (from pmdarima) (24.0)\n",
      "Requirement already satisfied: python-dateutil>=2.8.2 in c:\\users\\wsand\\appdata\\roaming\\python\\python312\\site-packages (from pandas>=0.19->pmdarima) (2.9.0.post0)\n",
      "Requirement already satisfied: pytz>=2020.1 in c:\\users\\wsand\\anaconda3\\lib\\site-packages (from pandas>=0.19->pmdarima) (2024.1)\n",
      "Requirement already satisfied: tzdata>=2022.7 in c:\\users\\wsand\\anaconda3\\lib\\site-packages (from pandas>=0.19->pmdarima) (2023.3)\n",
      "Requirement already satisfied: threadpoolctl>=2.0.0 in c:\\users\\wsand\\anaconda3\\lib\\site-packages (from scikit-learn>=0.22->pmdarima) (3.5.0)\n",
      "Requirement already satisfied: patsy>=0.5.6 in c:\\users\\wsand\\anaconda3\\lib\\site-packages (from statsmodels>=0.13.2->pmdarima) (0.5.6)\n",
      "Requirement already satisfied: six in c:\\users\\wsand\\appdata\\roaming\\python\\python312\\site-packages (from patsy>=0.5.6->statsmodels>=0.13.2->pmdarima) (1.16.0)\n",
      "Note: you may need to restart the kernel to use updated packages.\n",
      "Performing stepwise search to minimize aic\n",
      " ARIMA(1,1,1)(1,1,1)[12]             : AIC=inf, Time=1.72 sec\n",
      " ARIMA(0,1,0)(0,1,0)[12]             : AIC=117.535, Time=0.04 sec\n",
      " ARIMA(1,1,0)(1,1,0)[12]             : AIC=105.179, Time=0.11 sec\n",
      " ARIMA(0,1,1)(0,1,1)[12]             : AIC=103.188, Time=0.35 sec\n",
      " ARIMA(0,1,1)(0,1,0)[12]             : AIC=117.157, Time=0.03 sec\n",
      " ARIMA(0,1,1)(1,1,1)[12]             : AIC=104.630, Time=0.47 sec\n",
      " ARIMA(0,1,1)(0,1,2)[12]             : AIC=104.663, Time=0.44 sec\n",
      " ARIMA(0,1,1)(1,1,0)[12]             : AIC=103.661, Time=0.16 sec\n",
      " ARIMA(0,1,1)(1,1,2)[12]             : AIC=106.630, Time=0.64 sec\n",
      " ARIMA(0,1,0)(0,1,1)[12]             : AIC=104.462, Time=0.13 sec\n",
      " ARIMA(1,1,1)(0,1,1)[12]             : AIC=inf, Time=0.43 sec\n",
      " ARIMA(0,1,2)(0,1,1)[12]             : AIC=103.539, Time=0.74 sec\n",
      " ARIMA(1,1,0)(0,1,1)[12]             : AIC=104.104, Time=0.21 sec\n",
      " ARIMA(1,1,2)(0,1,1)[12]             : AIC=inf, Time=1.08 sec\n",
      " ARIMA(0,1,1)(0,1,1)[12] intercept   : AIC=105.161, Time=0.48 sec\n",
      "\n",
      "Best model:  ARIMA(0,1,1)(0,1,1)[12]          \n",
      "Total fit time: 7.044 seconds\n"
     ]
    }
   ],
   "source": [
    "%pip install pmdarima\n",
    "\n",
    "from pmdarima.arima import auto_arima\n",
    "\n",
    "\n",
    "modelo_1= auto_arima(df_train, start_p=1, start_q=1,\n",
    "             test='adf',       # use adftest to find optimal 'd'\n",
    "             max_p=3, max_q=3, # maximum p and q\n",
    "             m=12,              # frequency of series\n",
    "             d=1,           # let model determine 'd'\n",
    "             seasonal=True,   # No Seasonality\n",
    "             start_P=1,\n",
    "             D=1,\n",
    "             trace=True,\n",
    "             error_action='ignore',\n",
    "             suppress_warnings=True,\n",
    "             stepwise=True)\n",
    "\n",
    "\n",
    "\n",
    "\n",
    "\n",
    "\n",
    "\n"
   ]
  },
  {
   "cell_type": "code",
   "execution_count": 13,
   "metadata": {},
   "outputs": [
    {
     "data": {
      "text/html": [
       "<table class=\"simpletable\">\n",
       "<caption>SARIMAX Results</caption>\n",
       "<tr>\n",
       "  <th>Dep. Variable:</th>                  <td>y</td>               <th>  No. Observations:  </th>   <td>67</td>   \n",
       "</tr>\n",
       "<tr>\n",
       "  <th>Model:</th>           <td>SARIMAX(0, 1, 1)x(0, 1, 1, 12)</td> <th>  Log Likelihood     </th> <td>-48.594</td>\n",
       "</tr>\n",
       "<tr>\n",
       "  <th>Date:</th>                   <td>Fri, 21 Mar 2025</td>        <th>  AIC                </th> <td>103.188</td>\n",
       "</tr>\n",
       "<tr>\n",
       "  <th>Time:</th>                       <td>22:15:05</td>            <th>  BIC                </th> <td>109.155</td>\n",
       "</tr>\n",
       "<tr>\n",
       "  <th>Sample:</th>                    <td>06-01-2018</td>           <th>  HQIC               </th> <td>105.489</td>\n",
       "</tr>\n",
       "<tr>\n",
       "  <th></th>                          <td>- 12-01-2023</td>          <th>                     </th>    <td> </td>   \n",
       "</tr>\n",
       "<tr>\n",
       "  <th>Covariance Type:</th>               <td>opg</td>              <th>                     </th>    <td> </td>   \n",
       "</tr>\n",
       "</table>\n",
       "<table class=\"simpletable\">\n",
       "<tr>\n",
       "      <td></td>        <th>coef</th>     <th>std err</th>      <th>z</th>      <th>P>|z|</th>  <th>[0.025</th>    <th>0.975]</th>  \n",
       "</tr>\n",
       "<tr>\n",
       "  <th>ma.L1</th>    <td>   -0.3049</td> <td>    0.122</td> <td>   -2.507</td> <td> 0.012</td> <td>   -0.543</td> <td>   -0.067</td>\n",
       "</tr>\n",
       "<tr>\n",
       "  <th>ma.S.L12</th> <td>   -0.6617</td> <td>    0.197</td> <td>   -3.352</td> <td> 0.001</td> <td>   -1.049</td> <td>   -0.275</td>\n",
       "</tr>\n",
       "<tr>\n",
       "  <th>sigma2</th>   <td>    0.3118</td> <td>    0.068</td> <td>    4.593</td> <td> 0.000</td> <td>    0.179</td> <td>    0.445</td>\n",
       "</tr>\n",
       "</table>\n",
       "<table class=\"simpletable\">\n",
       "<tr>\n",
       "  <th>Ljung-Box (L1) (Q):</th>     <td>0.12</td> <th>  Jarque-Bera (JB):  </th> <td>0.31</td>\n",
       "</tr>\n",
       "<tr>\n",
       "  <th>Prob(Q):</th>                <td>0.73</td> <th>  Prob(JB):          </th> <td>0.85</td>\n",
       "</tr>\n",
       "<tr>\n",
       "  <th>Heteroskedasticity (H):</th> <td>2.45</td> <th>  Skew:              </th> <td>0.17</td>\n",
       "</tr>\n",
       "<tr>\n",
       "  <th>Prob(H) (two-sided):</th>    <td>0.07</td> <th>  Kurtosis:          </th> <td>2.83</td>\n",
       "</tr>\n",
       "</table><br/><br/>Warnings:<br/>[1] Covariance matrix calculated using the outer product of gradients (complex-step)."
      ],
      "text/latex": [
       "\\begin{center}\n",
       "\\begin{tabular}{lclc}\n",
       "\\toprule\n",
       "\\textbf{Dep. Variable:}          &               y                & \\textbf{  No. Observations:  } &     67      \\\\\n",
       "\\textbf{Model:}                  & SARIMAX(0, 1, 1)x(0, 1, 1, 12) & \\textbf{  Log Likelihood     } &  -48.594    \\\\\n",
       "\\textbf{Date:}                   &        Fri, 21 Mar 2025        & \\textbf{  AIC                } &  103.188    \\\\\n",
       "\\textbf{Time:}                   &            22:15:05            & \\textbf{  BIC                } &  109.155    \\\\\n",
       "\\textbf{Sample:}                 &           06-01-2018           & \\textbf{  HQIC               } &  105.489    \\\\\n",
       "\\textbf{}                        &          - 12-01-2023          & \\textbf{                     } &             \\\\\n",
       "\\textbf{Covariance Type:}        &              opg               & \\textbf{                     } &             \\\\\n",
       "\\bottomrule\n",
       "\\end{tabular}\n",
       "\\begin{tabular}{lcccccc}\n",
       "                  & \\textbf{coef} & \\textbf{std err} & \\textbf{z} & \\textbf{P$> |$z$|$} & \\textbf{[0.025} & \\textbf{0.975]}  \\\\\n",
       "\\midrule\n",
       "\\textbf{ma.L1}    &      -0.3049  &        0.122     &    -2.507  &         0.012        &       -0.543    &       -0.067     \\\\\n",
       "\\textbf{ma.S.L12} &      -0.6617  &        0.197     &    -3.352  &         0.001        &       -1.049    &       -0.275     \\\\\n",
       "\\textbf{sigma2}   &       0.3118  &        0.068     &     4.593  &         0.000        &        0.179    &        0.445     \\\\\n",
       "\\bottomrule\n",
       "\\end{tabular}\n",
       "\\begin{tabular}{lclc}\n",
       "\\textbf{Ljung-Box (L1) (Q):}     & 0.12 & \\textbf{  Jarque-Bera (JB):  } & 0.31  \\\\\n",
       "\\textbf{Prob(Q):}                & 0.73 & \\textbf{  Prob(JB):          } & 0.85  \\\\\n",
       "\\textbf{Heteroskedasticity (H):} & 2.45 & \\textbf{  Skew:              } & 0.17  \\\\\n",
       "\\textbf{Prob(H) (two-sided):}    & 0.07 & \\textbf{  Kurtosis:          } & 2.83  \\\\\n",
       "\\bottomrule\n",
       "\\end{tabular}\n",
       "%\\caption{SARIMAX Results}\n",
       "\\end{center}\n",
       "\n",
       "Warnings: \\newline\n",
       " [1] Covariance matrix calculated using the outer product of gradients (complex-step)."
      ],
      "text/plain": [
       "<class 'statsmodels.iolib.summary.Summary'>\n",
       "\"\"\"\n",
       "                                     SARIMAX Results                                      \n",
       "==========================================================================================\n",
       "Dep. Variable:                                  y   No. Observations:                   67\n",
       "Model:             SARIMAX(0, 1, 1)x(0, 1, 1, 12)   Log Likelihood                 -48.594\n",
       "Date:                            Fri, 21 Mar 2025   AIC                            103.188\n",
       "Time:                                    22:15:05   BIC                            109.155\n",
       "Sample:                                06-01-2018   HQIC                           105.489\n",
       "                                     - 12-01-2023                                         \n",
       "Covariance Type:                              opg                                         \n",
       "==============================================================================\n",
       "                 coef    std err          z      P>|z|      [0.025      0.975]\n",
       "------------------------------------------------------------------------------\n",
       "ma.L1         -0.3049      0.122     -2.507      0.012      -0.543      -0.067\n",
       "ma.S.L12      -0.6617      0.197     -3.352      0.001      -1.049      -0.275\n",
       "sigma2         0.3118      0.068      4.593      0.000       0.179       0.445\n",
       "===================================================================================\n",
       "Ljung-Box (L1) (Q):                   0.12   Jarque-Bera (JB):                 0.31\n",
       "Prob(Q):                              0.73   Prob(JB):                         0.85\n",
       "Heteroskedasticity (H):               2.45   Skew:                             0.17\n",
       "Prob(H) (two-sided):                  0.07   Kurtosis:                         2.83\n",
       "===================================================================================\n",
       "\n",
       "Warnings:\n",
       "[1] Covariance matrix calculated using the outer product of gradients (complex-step).\n",
       "\"\"\""
      ]
     },
     "execution_count": 13,
     "metadata": {},
     "output_type": "execute_result"
    }
   ],
   "source": [
    "modelo_1.summary()"
   ]
  },
  {
   "cell_type": "code",
   "execution_count": 14,
   "metadata": {},
   "outputs": [
    {
     "data": {
      "text/html": [
       "<table class=\"simpletable\">\n",
       "<caption>SARIMAX Results</caption>\n",
       "<tr>\n",
       "  <th>Dep. Variable:</th>                  <td>y</td>               <th>  No. Observations:  </th>   <td>67</td>   \n",
       "</tr>\n",
       "<tr>\n",
       "  <th>Model:</th>           <td>SARIMAX(0, 1, 1)x(0, 1, 1, 12)</td> <th>  Log Likelihood     </th> <td>-48.594</td>\n",
       "</tr>\n",
       "<tr>\n",
       "  <th>Date:</th>                   <td>Fri, 21 Mar 2025</td>        <th>  AIC                </th> <td>103.188</td>\n",
       "</tr>\n",
       "<tr>\n",
       "  <th>Time:</th>                       <td>22:15:06</td>            <th>  BIC                </th> <td>109.155</td>\n",
       "</tr>\n",
       "<tr>\n",
       "  <th>Sample:</th>                    <td>06-01-2018</td>           <th>  HQIC               </th> <td>105.489</td>\n",
       "</tr>\n",
       "<tr>\n",
       "  <th></th>                          <td>- 12-01-2023</td>          <th>                     </th>    <td> </td>   \n",
       "</tr>\n",
       "<tr>\n",
       "  <th>Covariance Type:</th>               <td>opg</td>              <th>                     </th>    <td> </td>   \n",
       "</tr>\n",
       "</table>\n",
       "<table class=\"simpletable\">\n",
       "<tr>\n",
       "      <td></td>        <th>coef</th>     <th>std err</th>      <th>z</th>      <th>P>|z|</th>  <th>[0.025</th>    <th>0.975]</th>  \n",
       "</tr>\n",
       "<tr>\n",
       "  <th>ma.L1</th>    <td>   -0.3049</td> <td>    0.122</td> <td>   -2.507</td> <td> 0.012</td> <td>   -0.543</td> <td>   -0.067</td>\n",
       "</tr>\n",
       "<tr>\n",
       "  <th>ma.S.L12</th> <td>   -0.6617</td> <td>    0.197</td> <td>   -3.352</td> <td> 0.001</td> <td>   -1.049</td> <td>   -0.275</td>\n",
       "</tr>\n",
       "<tr>\n",
       "  <th>sigma2</th>   <td>    0.3118</td> <td>    0.068</td> <td>    4.593</td> <td> 0.000</td> <td>    0.179</td> <td>    0.445</td>\n",
       "</tr>\n",
       "</table>\n",
       "<table class=\"simpletable\">\n",
       "<tr>\n",
       "  <th>Ljung-Box (L1) (Q):</th>     <td>0.12</td> <th>  Jarque-Bera (JB):  </th> <td>0.31</td>\n",
       "</tr>\n",
       "<tr>\n",
       "  <th>Prob(Q):</th>                <td>0.73</td> <th>  Prob(JB):          </th> <td>0.85</td>\n",
       "</tr>\n",
       "<tr>\n",
       "  <th>Heteroskedasticity (H):</th> <td>2.45</td> <th>  Skew:              </th> <td>0.17</td>\n",
       "</tr>\n",
       "<tr>\n",
       "  <th>Prob(H) (two-sided):</th>    <td>0.07</td> <th>  Kurtosis:          </th> <td>2.83</td>\n",
       "</tr>\n",
       "</table><br/><br/>Warnings:<br/>[1] Covariance matrix calculated using the outer product of gradients (complex-step)."
      ],
      "text/latex": [
       "\\begin{center}\n",
       "\\begin{tabular}{lclc}\n",
       "\\toprule\n",
       "\\textbf{Dep. Variable:}          &               y                & \\textbf{  No. Observations:  } &     67      \\\\\n",
       "\\textbf{Model:}                  & SARIMAX(0, 1, 1)x(0, 1, 1, 12) & \\textbf{  Log Likelihood     } &  -48.594    \\\\\n",
       "\\textbf{Date:}                   &        Fri, 21 Mar 2025        & \\textbf{  AIC                } &  103.188    \\\\\n",
       "\\textbf{Time:}                   &            22:15:06            & \\textbf{  BIC                } &  109.155    \\\\\n",
       "\\textbf{Sample:}                 &           06-01-2018           & \\textbf{  HQIC               } &  105.489    \\\\\n",
       "\\textbf{}                        &          - 12-01-2023          & \\textbf{                     } &             \\\\\n",
       "\\textbf{Covariance Type:}        &              opg               & \\textbf{                     } &             \\\\\n",
       "\\bottomrule\n",
       "\\end{tabular}\n",
       "\\begin{tabular}{lcccccc}\n",
       "                  & \\textbf{coef} & \\textbf{std err} & \\textbf{z} & \\textbf{P$> |$z$|$} & \\textbf{[0.025} & \\textbf{0.975]}  \\\\\n",
       "\\midrule\n",
       "\\textbf{ma.L1}    &      -0.3049  &        0.122     &    -2.507  &         0.012        &       -0.543    &       -0.067     \\\\\n",
       "\\textbf{ma.S.L12} &      -0.6617  &        0.197     &    -3.352  &         0.001        &       -1.049    &       -0.275     \\\\\n",
       "\\textbf{sigma2}   &       0.3118  &        0.068     &     4.593  &         0.000        &        0.179    &        0.445     \\\\\n",
       "\\bottomrule\n",
       "\\end{tabular}\n",
       "\\begin{tabular}{lclc}\n",
       "\\textbf{Ljung-Box (L1) (Q):}     & 0.12 & \\textbf{  Jarque-Bera (JB):  } & 0.31  \\\\\n",
       "\\textbf{Prob(Q):}                & 0.73 & \\textbf{  Prob(JB):          } & 0.85  \\\\\n",
       "\\textbf{Heteroskedasticity (H):} & 2.45 & \\textbf{  Skew:              } & 0.17  \\\\\n",
       "\\textbf{Prob(H) (two-sided):}    & 0.07 & \\textbf{  Kurtosis:          } & 2.83  \\\\\n",
       "\\bottomrule\n",
       "\\end{tabular}\n",
       "%\\caption{SARIMAX Results}\n",
       "\\end{center}\n",
       "\n",
       "Warnings: \\newline\n",
       " [1] Covariance matrix calculated using the outer product of gradients (complex-step)."
      ],
      "text/plain": [
       "<class 'statsmodels.iolib.summary.Summary'>\n",
       "\"\"\"\n",
       "                                     SARIMAX Results                                      \n",
       "==========================================================================================\n",
       "Dep. Variable:                                  y   No. Observations:                   67\n",
       "Model:             SARIMAX(0, 1, 1)x(0, 1, 1, 12)   Log Likelihood                 -48.594\n",
       "Date:                            Fri, 21 Mar 2025   AIC                            103.188\n",
       "Time:                                    22:15:06   BIC                            109.155\n",
       "Sample:                                06-01-2018   HQIC                           105.489\n",
       "                                     - 12-01-2023                                         \n",
       "Covariance Type:                              opg                                         \n",
       "==============================================================================\n",
       "                 coef    std err          z      P>|z|      [0.025      0.975]\n",
       "------------------------------------------------------------------------------\n",
       "ma.L1         -0.3049      0.122     -2.507      0.012      -0.543      -0.067\n",
       "ma.S.L12      -0.6617      0.197     -3.352      0.001      -1.049      -0.275\n",
       "sigma2         0.3118      0.068      4.593      0.000       0.179       0.445\n",
       "===================================================================================\n",
       "Ljung-Box (L1) (Q):                   0.12   Jarque-Bera (JB):                 0.31\n",
       "Prob(Q):                              0.73   Prob(JB):                         0.85\n",
       "Heteroskedasticity (H):               2.45   Skew:                             0.17\n",
       "Prob(H) (two-sided):                  0.07   Kurtosis:                         2.83\n",
       "===================================================================================\n",
       "\n",
       "Warnings:\n",
       "[1] Covariance matrix calculated using the outer product of gradients (complex-step).\n",
       "\"\"\""
      ]
     },
     "execution_count": 14,
     "metadata": {},
     "output_type": "execute_result"
    }
   ],
   "source": [
    "modelo_1.fit(df_train)\n",
    "# Check the model summary\n",
    "modelo_1.summary()"
   ]
  },
  {
   "cell_type": "code",
   "execution_count": 15,
   "metadata": {},
   "outputs": [
    {
     "data": {
      "application/vnd.microsoft.datawrangler.viewer.v0+json": {
       "columns": [
        {
         "name": "time",
         "rawType": "datetime64[ns]",
         "type": "datetime"
        },
        {
         "name": "tmax",
         "rawType": "float64",
         "type": "float"
        }
       ],
       "conversionMethod": "pd.DataFrame",
       "ref": "ad4e19a0-1c91-4b48-ab35-7fac231ef61e",
       "rows": [
        [
         "2018-06-01 00:00:00",
         "18.2"
        ],
        [
         "2018-07-01 00:00:00",
         "18.4"
        ],
        [
         "2018-08-01 00:00:00",
         "18.4"
        ],
        [
         "2018-09-01 00:00:00",
         "19.3"
        ],
        [
         "2018-10-01 00:00:00",
         "19.6"
        ],
        [
         "2018-11-01 00:00:00",
         "20.3"
        ],
        [
         "2018-12-01 00:00:00",
         "20.2"
        ],
        [
         "2019-01-01 00:00:00",
         "20.0"
        ],
        [
         "2019-02-01 00:00:00",
         "20.8"
        ],
        [
         "2019-03-01 00:00:00",
         "19.8"
        ],
        [
         "2019-04-01 00:00:00",
         "19.6"
        ],
        [
         "2019-05-01 00:00:00",
         "19.3"
        ],
        [
         "2019-06-01 00:00:00",
         "18.7"
        ],
        [
         "2019-07-01 00:00:00",
         "18.7"
        ],
        [
         "2019-08-01 00:00:00",
         "18.3"
        ],
        [
         "2019-09-01 00:00:00",
         "19.4"
        ],
        [
         "2019-10-01 00:00:00",
         "19.1"
        ],
        [
         "2019-11-01 00:00:00",
         "19.8"
        ],
        [
         "2019-12-01 00:00:00",
         "19.9"
        ],
        [
         "2020-01-01 00:00:00",
         "20.5"
        ],
        [
         "2020-02-01 00:00:00",
         "21.2"
        ],
        [
         "2020-03-01 00:00:00",
         "20.8"
        ],
        [
         "2020-04-01 00:00:00",
         "20.1"
        ],
        [
         "2020-05-01 00:00:00",
         "19.4"
        ],
        [
         "2020-06-01 00:00:00",
         "19.1"
        ],
        [
         "2020-07-01 00:00:00",
         "18.8"
        ],
        [
         "2020-08-01 00:00:00",
         "19.3"
        ],
        [
         "2020-09-01 00:00:00",
         "19.4"
        ],
        [
         "2020-10-01 00:00:00",
         "19.5"
        ],
        [
         "2020-11-01 00:00:00",
         "19.4"
        ],
        [
         "2020-12-01 00:00:00",
         "19.9"
        ],
        [
         "2021-01-01 00:00:00",
         "20.0"
        ],
        [
         "2021-02-01 00:00:00",
         "19.7"
        ],
        [
         "2021-03-01 00:00:00",
         "18.4"
        ],
        [
         "2021-04-01 00:00:00",
         "19.6"
        ],
        [
         "2021-05-01 00:00:00",
         "19.5"
        ],
        [
         "2021-06-01 00:00:00",
         "19.0"
        ],
        [
         "2021-07-01 00:00:00",
         "18.7"
        ],
        [
         "2021-08-01 00:00:00",
         "18.7"
        ],
        [
         "2021-09-01 00:00:00",
         "19.0"
        ],
        [
         "2021-10-01 00:00:00",
         "19.3"
        ],
        [
         "2021-11-01 00:00:00",
         "19.7"
        ],
        [
         "2021-12-01 00:00:00",
         "20.6"
        ],
        [
         "2022-01-01 00:00:00",
         "20.3"
        ],
        [
         "2022-02-01 00:00:00",
         "19.6"
        ],
        [
         "2022-03-01 00:00:00",
         "19.1"
        ],
        [
         "2022-04-01 00:00:00",
         "19.2"
        ],
        [
         "2022-05-01 00:00:00",
         "19.1"
        ],
        [
         "2022-06-01 00:00:00",
         "18.1"
        ],
        [
         "2022-07-01 00:00:00",
         "19.0"
        ]
       ],
       "shape": {
        "columns": 1,
        "rows": 67
       }
      },
      "text/html": [
       "<div>\n",
       "<style scoped>\n",
       "    .dataframe tbody tr th:only-of-type {\n",
       "        vertical-align: middle;\n",
       "    }\n",
       "\n",
       "    .dataframe tbody tr th {\n",
       "        vertical-align: top;\n",
       "    }\n",
       "\n",
       "    .dataframe thead th {\n",
       "        text-align: right;\n",
       "    }\n",
       "</style>\n",
       "<table border=\"1\" class=\"dataframe\">\n",
       "  <thead>\n",
       "    <tr style=\"text-align: right;\">\n",
       "      <th></th>\n",
       "      <th>tmax</th>\n",
       "    </tr>\n",
       "    <tr>\n",
       "      <th>time</th>\n",
       "      <th></th>\n",
       "    </tr>\n",
       "  </thead>\n",
       "  <tbody>\n",
       "    <tr>\n",
       "      <th>2018-06-01</th>\n",
       "      <td>18.2</td>\n",
       "    </tr>\n",
       "    <tr>\n",
       "      <th>2018-07-01</th>\n",
       "      <td>18.4</td>\n",
       "    </tr>\n",
       "    <tr>\n",
       "      <th>2018-08-01</th>\n",
       "      <td>18.4</td>\n",
       "    </tr>\n",
       "    <tr>\n",
       "      <th>2018-09-01</th>\n",
       "      <td>19.3</td>\n",
       "    </tr>\n",
       "    <tr>\n",
       "      <th>2018-10-01</th>\n",
       "      <td>19.6</td>\n",
       "    </tr>\n",
       "    <tr>\n",
       "      <th>...</th>\n",
       "      <td>...</td>\n",
       "    </tr>\n",
       "    <tr>\n",
       "      <th>2023-08-01</th>\n",
       "      <td>19.1</td>\n",
       "    </tr>\n",
       "    <tr>\n",
       "      <th>2023-09-01</th>\n",
       "      <td>19.5</td>\n",
       "    </tr>\n",
       "    <tr>\n",
       "      <th>2023-10-01</th>\n",
       "      <td>19.9</td>\n",
       "    </tr>\n",
       "    <tr>\n",
       "      <th>2023-11-01</th>\n",
       "      <td>19.4</td>\n",
       "    </tr>\n",
       "    <tr>\n",
       "      <th>2023-12-01</th>\n",
       "      <td>19.9</td>\n",
       "    </tr>\n",
       "  </tbody>\n",
       "</table>\n",
       "<p>67 rows × 1 columns</p>\n",
       "</div>"
      ],
      "text/plain": [
       "            tmax\n",
       "time            \n",
       "2018-06-01  18.2\n",
       "2018-07-01  18.4\n",
       "2018-08-01  18.4\n",
       "2018-09-01  19.3\n",
       "2018-10-01  19.6\n",
       "...          ...\n",
       "2023-08-01  19.1\n",
       "2023-09-01  19.5\n",
       "2023-10-01  19.9\n",
       "2023-11-01  19.4\n",
       "2023-12-01  19.9\n",
       "\n",
       "[67 rows x 1 columns]"
      ]
     },
     "execution_count": 15,
     "metadata": {},
     "output_type": "execute_result"
    }
   ],
   "source": [
    "df_train"
   ]
  },
  {
   "cell_type": "code",
   "execution_count": 16,
   "metadata": {},
   "outputs": [
    {
     "data": {
      "text/plain": [
       "2018-07-01    18.199999\n",
       "2018-08-01    18.400000\n",
       "2018-09-01    18.400000\n",
       "2018-10-01    19.300000\n",
       "2018-11-01    19.600000\n",
       "                ...    \n",
       "2023-09-01    19.309671\n",
       "2023-10-01    19.384418\n",
       "2023-11-01    19.741968\n",
       "2023-12-01    20.159312\n",
       "2024-01-01    19.803063\n",
       "Freq: MS, Name: predicted_mean, Length: 67, dtype: float64"
      ]
     },
     "execution_count": 16,
     "metadata": {},
     "output_type": "execute_result"
    }
   ],
   "source": [
    "modelo_1.predict_in_sample(start=1, end=len(df_train))"
   ]
  },
  {
   "cell_type": "code",
   "execution_count": null,
   "metadata": {},
   "outputs": [],
   "source": []
  },
  {
   "cell_type": "code",
   "execution_count": 17,
   "metadata": {},
   "outputs": [
    {
     "data": {
      "image/png": "[encoded data removed]",
      "text/plain": [
       "<Figure size 1000x500 with 1 Axes>"
      ]
     },
     "metadata": {},
     "output_type": "display_data"
    }
   ],
   "source": [
    "# Make predictions\n",
    "forecast_auto, conf_int_auto = modelo_1.predict(n_periods=12,\n",
    "                                             return_conf_int=True)\n",
    "\n",
    "# Get forecast and confidence intervals for two years\n",
    "forecast_values_auto = forecast_auto\n",
    "confidence_intervals_auto = conf_int_auto\n",
    "\n",
    "# Plot forecast with training data\n",
    "ax = df_train[-60:].plot(figsize=(10,5))\n",
    "forecast_auto.plot(ax=ax)\n",
    "df_test.plot(ax=ax)\n",
    "plt.fill_between(forecast_values_auto.index, \n",
    "                 confidence_intervals_auto[:,[0]].flatten(), \n",
    "                 confidence_intervals_auto[:,[1]].flatten(), \n",
    "                 color='blue',\n",
    "                 alpha=0.15)\n",
    "plt.legend(['Training max temp', \n",
    "            'Forecast max temp', \n",
    "            'Actual max temp'], \n",
    "           loc='upper left')\n",
    "plt.xlabel('Date')\n",
    "plt.ylabel('Maximum temperature')\n",
    "plt.grid(alpha=0.5)\n",
    "plt.show()"
   ]
  },
  {
   "cell_type": "code",
   "execution_count": 18,
   "metadata": {},
   "outputs": [
    {
     "data": {
      "application/vnd.microsoft.datawrangler.viewer.v0+json": {
       "columns": [
        {
         "name": "time",
         "rawType": "datetime64[ns]",
         "type": "datetime"
        },
        {
         "name": "tmax",
         "rawType": "float64",
         "type": "float"
        }
       ],
       "conversionMethod": "pd.DataFrame",
       "ref": "854de6b9-ba1b-468c-b28d-bd33c67a2769",
       "rows": [
        [
         "2024-01-01 00:00:00",
         "20.3"
        ],
        [
         "2024-02-01 00:00:00",
         "20.6"
        ],
        [
         "2024-03-01 00:00:00",
         "20.2"
        ],
        [
         "2024-04-01 00:00:00",
         "20.6"
        ],
        [
         "2024-05-01 00:00:00",
         "19.1"
        ],
        [
         "2024-06-01 00:00:00",
         "18.8"
        ],
        [
         "2024-07-01 00:00:00",
         "18.8"
        ],
        [
         "2024-08-01 00:00:00",
         "19.4"
        ],
        [
         "2024-09-01 00:00:00",
         "20.0"
        ],
        [
         "2024-10-01 00:00:00",
         "19.8"
        ],
        [
         "2024-11-01 00:00:00",
         "18.9"
        ],
        [
         "2024-12-01 00:00:00",
         "20.2"
        ]
       ],
       "shape": {
        "columns": 1,
        "rows": 12
       }
      },
      "text/html": [
       "<div>\n",
       "<style scoped>\n",
       "    .dataframe tbody tr th:only-of-type {\n",
       "        vertical-align: middle;\n",
       "    }\n",
       "\n",
       "    .dataframe tbody tr th {\n",
       "        vertical-align: top;\n",
       "    }\n",
       "\n",
       "    .dataframe thead th {\n",
       "        text-align: right;\n",
       "    }\n",
       "</style>\n",
       "<table border=\"1\" class=\"dataframe\">\n",
       "  <thead>\n",
       "    <tr style=\"text-align: right;\">\n",
       "      <th></th>\n",
       "      <th>tmax</th>\n",
       "    </tr>\n",
       "    <tr>\n",
       "      <th>time</th>\n",
       "      <th></th>\n",
       "    </tr>\n",
       "  </thead>\n",
       "  <tbody>\n",
       "    <tr>\n",
       "      <th>2024-01-01</th>\n",
       "      <td>20.3</td>\n",
       "    </tr>\n",
       "    <tr>\n",
       "      <th>2024-02-01</th>\n",
       "      <td>20.6</td>\n",
       "    </tr>\n",
       "    <tr>\n",
       "      <th>2024-03-01</th>\n",
       "      <td>20.2</td>\n",
       "    </tr>\n",
       "    <tr>\n",
       "      <th>2024-04-01</th>\n",
       "      <td>20.6</td>\n",
       "    </tr>\n",
       "    <tr>\n",
       "      <th>2024-05-01</th>\n",
       "      <td>19.1</td>\n",
       "    </tr>\n",
       "    <tr>\n",
       "      <th>2024-06-01</th>\n",
       "      <td>18.8</td>\n",
       "    </tr>\n",
       "    <tr>\n",
       "      <th>2024-07-01</th>\n",
       "      <td>18.8</td>\n",
       "    </tr>\n",
       "    <tr>\n",
       "      <th>2024-08-01</th>\n",
       "      <td>19.4</td>\n",
       "    </tr>\n",
       "    <tr>\n",
       "      <th>2024-09-01</th>\n",
       "      <td>20.0</td>\n",
       "    </tr>\n",
       "    <tr>\n",
       "      <th>2024-10-01</th>\n",
       "      <td>19.8</td>\n",
       "    </tr>\n",
       "    <tr>\n",
       "      <th>2024-11-01</th>\n",
       "      <td>18.9</td>\n",
       "    </tr>\n",
       "    <tr>\n",
       "      <th>2024-12-01</th>\n",
       "      <td>20.2</td>\n",
       "    </tr>\n",
       "  </tbody>\n",
       "</table>\n",
       "</div>"
      ],
      "text/plain": [
       "            tmax\n",
       "time            \n",
       "2024-01-01  20.3\n",
       "2024-02-01  20.6\n",
       "2024-03-01  20.2\n",
       "2024-04-01  20.6\n",
       "2024-05-01  19.1\n",
       "2024-06-01  18.8\n",
       "2024-07-01  18.8\n",
       "2024-08-01  19.4\n",
       "2024-09-01  20.0\n",
       "2024-10-01  19.8\n",
       "2024-11-01  18.9\n",
       "2024-12-01  20.2"
      ]
     },
     "execution_count": 18,
     "metadata": {},
     "output_type": "execute_result"
    }
   ],
   "source": [
    "df_test"
   ]
  },
  {
   "cell_type": "code",
   "execution_count": 19,
   "metadata": {},
   "outputs": [
    {
     "data": {
      "text/plain": [
       "2024-01-01    19.803063\n",
       "2024-02-01    20.149039\n",
       "2024-03-01    19.189649\n",
       "2024-04-01    19.446275\n",
       "2024-05-01    19.599479\n",
       "2024-06-01    19.022513\n",
       "2024-07-01    18.923070\n",
       "2024-08-01    19.197773\n",
       "2024-09-01    19.528071\n",
       "2024-10-01    19.628067\n",
       "2024-11-01    19.455355\n",
       "2024-12-01    20.057016\n",
       "Freq: MS, dtype: float64"
      ]
     },
     "execution_count": 19,
     "metadata": {},
     "output_type": "execute_result"
    }
   ],
   "source": [
    "forecast_auto"
   ]
  },
  {
   "cell_type": "code",
   "execution_count": 20,
   "metadata": {},
   "outputs": [
    {
     "data": {
      "text/plain": [
       "2024-01-01    19.803063\n",
       "2024-02-01    20.149039\n",
       "2024-03-01    19.189649\n",
       "2024-04-01    19.446275\n",
       "2024-05-01    19.599479\n",
       "2024-06-01    19.022513\n",
       "2024-07-01    18.923070\n",
       "2024-08-01    19.197773\n",
       "2024-09-01    19.528071\n",
       "2024-10-01    19.628067\n",
       "2024-11-01    19.455355\n",
       "2024-12-01    20.057016\n",
       "Freq: MS, dtype: float64"
      ]
     },
     "execution_count": 20,
     "metadata": {},
     "output_type": "execute_result"
    }
   ],
   "source": [
    "forecast_auto"
   ]
  },
  {
   "cell_type": "code",
   "execution_count": 21,
   "metadata": {},
   "outputs": [
    {
     "name": "stdout",
     "output_type": "stream",
     "text": [
      "MAE: 0.45845531643056603\n",
      "RMSE: 0.5581500491490005\n",
      "MAPE (%): 2.3007790757331756\n"
     ]
    }
   ],
   "source": [
    "from sklearn.metrics import mean_absolute_error, mean_squared_error, mean_absolute_percentage_error, root_mean_squared_error\n",
    "import numpy as np\n",
    "\n",
    "# Predicted values and actual values\n",
    "predicted_values_auto = forecast_auto.values\n",
    "actual_values = df_test.values.flatten()\n",
    "\n",
    "\n",
    "# MAE – Mean Absolute Error\n",
    "mae = mean_absolute_error(actual_values, predicted_values_auto)\n",
    "print(\"MAE:\", mae)\n",
    "\n",
    "# RMSE – Root Mean Squared Error\n",
    "rmse = root_mean_squared_error(actual_values, predicted_values_auto)\n",
    "print(\"RMSE:\", rmse)\n",
    "\n",
    "# MAPE – Mean Absolute Percentage Error\n",
    "mape = mean_absolute_percentage_error(actual_values, predicted_values_auto) * 100\n",
    "print(\"MAPE (%):\", mape)\n"
   ]
  },
  {
   "cell_type": "code",
   "execution_count": 22,
   "metadata": {},
   "outputs": [
    {
     "data": {
      "application/vnd.microsoft.datawrangler.viewer.v0+json": {
       "columns": [
        {
         "name": "time",
         "rawType": "datetime64[ns]",
         "type": "datetime"
        },
        {
         "name": "tmax",
         "rawType": "float64",
         "type": "float"
        }
       ],
       "conversionMethod": "pd.DataFrame",
       "ref": "3f999cf5-6a23-458a-9fc8-0a96f89f0122",
       "rows": [
        [
         "2018-06-01 00:00:00",
         "18.2"
        ],
        [
         "2018-07-01 00:00:00",
         "18.4"
        ],
        [
         "2018-08-01 00:00:00",
         "18.4"
        ],
        [
         "2018-09-01 00:00:00",
         "19.3"
        ],
        [
         "2018-10-01 00:00:00",
         "19.6"
        ],
        [
         "2018-11-01 00:00:00",
         "20.3"
        ],
        [
         "2018-12-01 00:00:00",
         "20.2"
        ],
        [
         "2019-01-01 00:00:00",
         "20.0"
        ],
        [
         "2019-02-01 00:00:00",
         "20.8"
        ],
        [
         "2019-03-01 00:00:00",
         "19.8"
        ],
        [
         "2019-04-01 00:00:00",
         "19.6"
        ],
        [
         "2019-05-01 00:00:00",
         "19.3"
        ],
        [
         "2019-06-01 00:00:00",
         "18.7"
        ],
        [
         "2019-07-01 00:00:00",
         "18.7"
        ],
        [
         "2019-08-01 00:00:00",
         "18.3"
        ],
        [
         "2019-09-01 00:00:00",
         "19.4"
        ],
        [
         "2019-10-01 00:00:00",
         "19.1"
        ],
        [
         "2019-11-01 00:00:00",
         "19.8"
        ],
        [
         "2019-12-01 00:00:00",
         "19.9"
        ],
        [
         "2020-01-01 00:00:00",
         "20.5"
        ],
        [
         "2020-02-01 00:00:00",
         "21.2"
        ],
        [
         "2020-03-01 00:00:00",
         "20.8"
        ],
        [
         "2020-04-01 00:00:00",
         "20.1"
        ],
        [
         "2020-05-01 00:00:00",
         "19.4"
        ],
        [
         "2020-06-01 00:00:00",
         "19.1"
        ],
        [
         "2020-07-01 00:00:00",
         "18.8"
        ],
        [
         "2020-08-01 00:00:00",
         "19.3"
        ],
        [
         "2020-09-01 00:00:00",
         "19.4"
        ],
        [
         "2020-10-01 00:00:00",
         "19.5"
        ],
        [
         "2020-11-01 00:00:00",
         "19.4"
        ],
        [
         "2020-12-01 00:00:00",
         "19.9"
        ],
        [
         "2021-01-01 00:00:00",
         "20.0"
        ],
        [
         "2021-02-01 00:00:00",
         "19.7"
        ],
        [
         "2021-03-01 00:00:00",
         "18.4"
        ],
        [
         "2021-04-01 00:00:00",
         "19.6"
        ],
        [
         "2021-05-01 00:00:00",
         "19.5"
        ],
        [
         "2021-06-01 00:00:00",
         "19.0"
        ],
        [
         "2021-07-01 00:00:00",
         "18.7"
        ],
        [
         "2021-08-01 00:00:00",
         "18.7"
        ],
        [
         "2021-09-01 00:00:00",
         "19.0"
        ],
        [
         "2021-10-01 00:00:00",
         "19.3"
        ],
        [
         "2021-11-01 00:00:00",
         "19.7"
        ],
        [
         "2021-12-01 00:00:00",
         "20.6"
        ],
        [
         "2022-01-01 00:00:00",
         "20.3"
        ],
        [
         "2022-02-01 00:00:00",
         "19.6"
        ],
        [
         "2022-03-01 00:00:00",
         "19.1"
        ],
        [
         "2022-04-01 00:00:00",
         "19.2"
        ],
        [
         "2022-05-01 00:00:00",
         "19.1"
        ],
        [
         "2022-06-01 00:00:00",
         "18.1"
        ],
        [
         "2022-07-01 00:00:00",
         "19.0"
        ]
       ],
       "shape": {
        "columns": 1,
        "rows": 67
       }
      },
      "text/html": [
       "<div>\n",
       "<style scoped>\n",
       "    .dataframe tbody tr th:only-of-type {\n",
       "        vertical-align: middle;\n",
       "    }\n",
       "\n",
       "    .dataframe tbody tr th {\n",
       "        vertical-align: top;\n",
       "    }\n",
       "\n",
       "    .dataframe thead th {\n",
       "        text-align: right;\n",
       "    }\n",
       "</style>\n",
       "<table border=\"1\" class=\"dataframe\">\n",
       "  <thead>\n",
       "    <tr style=\"text-align: right;\">\n",
       "      <th></th>\n",
       "      <th>tmax</th>\n",
       "    </tr>\n",
       "    <tr>\n",
       "      <th>time</th>\n",
       "      <th></th>\n",
       "    </tr>\n",
       "  </thead>\n",
       "  <tbody>\n",
       "    <tr>\n",
       "      <th>2018-06-01</th>\n",
       "      <td>18.2</td>\n",
       "    </tr>\n",
       "    <tr>\n",
       "      <th>2018-07-01</th>\n",
       "      <td>18.4</td>\n",
       "    </tr>\n",
       "    <tr>\n",
       "      <th>2018-08-01</th>\n",
       "      <td>18.4</td>\n",
       "    </tr>\n",
       "    <tr>\n",
       "      <th>2018-09-01</th>\n",
       "      <td>19.3</td>\n",
       "    </tr>\n",
       "    <tr>\n",
       "      <th>2018-10-01</th>\n",
       "      <td>19.6</td>\n",
       "    </tr>\n",
       "    <tr>\n",
       "      <th>...</th>\n",
       "      <td>...</td>\n",
       "    </tr>\n",
       "    <tr>\n",
       "      <th>2023-08-01</th>\n",
       "      <td>19.1</td>\n",
       "    </tr>\n",
       "    <tr>\n",
       "      <th>2023-09-01</th>\n",
       "      <td>19.5</td>\n",
       "    </tr>\n",
       "    <tr>\n",
       "      <th>2023-10-01</th>\n",
       "      <td>19.9</td>\n",
       "    </tr>\n",
       "    <tr>\n",
       "      <th>2023-11-01</th>\n",
       "      <td>19.4</td>\n",
       "    </tr>\n",
       "    <tr>\n",
       "      <th>2023-12-01</th>\n",
       "      <td>19.9</td>\n",
       "    </tr>\n",
       "  </tbody>\n",
       "</table>\n",
       "<p>67 rows × 1 columns</p>\n",
       "</div>"
      ],
      "text/plain": [
       "            tmax\n",
       "time            \n",
       "2018-06-01  18.2\n",
       "2018-07-01  18.4\n",
       "2018-08-01  18.4\n",
       "2018-09-01  19.3\n",
       "2018-10-01  19.6\n",
       "...          ...\n",
       "2023-08-01  19.1\n",
       "2023-09-01  19.5\n",
       "2023-10-01  19.9\n",
       "2023-11-01  19.4\n",
       "2023-12-01  19.9\n",
       "\n",
       "[67 rows x 1 columns]"
      ]
     },
     "execution_count": 22,
     "metadata": {},
     "output_type": "execute_result"
    }
   ],
   "source": [
    "df_train"
   ]
  },
  {
   "cell_type": "markdown",
   "metadata": {},
   "source": [
    "modelos de suavizamiento"
   ]
  },
  {
   "cell_type": "code",
   "execution_count": 23,
   "metadata": {},
   "outputs": [],
   "source": [
    "import numpy as np\n",
    "import pandas as pd\n",
    "import matplotlib.pyplot as plt\n",
    "\n",
    "from sklearn.metrics import mean_absolute_error, mean_squared_error, mean_absolute_percentage_error\n",
    "from statsmodels.tsa.holtwinters import SimpleExpSmoothing, Holt, ExponentialSmoothing\n",
    "\n",
    "hw_model = ExponentialSmoothing(df_train, trend='add', seasonal='add', seasonal_periods=12).fit()\n",
    "hw_forecast = hw_model.forecast(steps=12)\n"
   ]
  },
  {
   "cell_type": "code",
   "execution_count": 24,
   "metadata": {},
   "outputs": [
    {
     "data": {
      "image/png": "[encoded data removed]",
      "text/plain": [
       "<Figure size 1000x500 with 1 Axes>"
      ]
     },
     "metadata": {},
     "output_type": "display_data"
    }
   ],
   "source": [
    "fig, ax = plt.subplots(figsize=(10, 5))\n",
    "\n",
    "ax.plot(df_train.index, df_train, label='Train')\n",
    "ax.plot(df_test.index, df_test, label='Test')\n",
    "ax.plot(df_test.index, hw_forecast, label='Holt-Winters forecast')\n",
    "\n",
    "plt.xlabel('Date')\n",
    "plt.ylabel('Temperature (°C)')\n",
    "plt.legend()\n",
    "plt.grid(alpha=0.5)\n",
    "\n"
   ]
  },
  {
   "cell_type": "code",
   "execution_count": 25,
   "metadata": {},
   "outputs": [
    {
     "data": {
      "text/plain": [
       "2024-01-01    19.888944\n",
       "2024-02-01    20.208940\n",
       "2024-03-01    19.308957\n",
       "2024-04-01    19.468963\n",
       "2024-05-01    19.408988\n",
       "2024-06-01    18.833985\n",
       "2024-07-01    18.800651\n",
       "2024-08-01    18.950652\n",
       "2024-09-01    19.400622\n",
       "2024-10-01    19.467289\n",
       "2024-11-01    19.550566\n",
       "2024-12-01    20.033887\n",
       "Freq: MS, dtype: float64"
      ]
     },
     "execution_count": 25,
     "metadata": {},
     "output_type": "execute_result"
    }
   ],
   "source": [
    "hw_forecast"
   ]
  },
  {
   "cell_type": "code",
   "execution_count": 26,
   "metadata": {},
   "outputs": [
    {
     "name": "stdout",
     "output_type": "stream",
     "text": [
      "MAE: 0.44716146918384947\n",
      "RMSE: 0.5488186044665518\n",
      "MAPE (%): 2.2403980190951933\n"
     ]
    }
   ],
   "source": [
    "\n",
    "actual_values = df_test.values.flatten()\n",
    "\n",
    "# MAE – Mean Absolute Error\n",
    "mae = mean_absolute_error(actual_values, hw_forecast)\n",
    "print(\"MAE:\", mae)\n",
    "\n",
    "# RMSE – Root Mean Squared Error\n",
    "rmse = root_mean_squared_error(actual_values, hw_forecast)\n",
    "print(\"RMSE:\", rmse)\n",
    "\n",
    "# MAPE – Mean Absolute Percentage Error\n",
    "mape = mean_absolute_percentage_error(actual_values, hw_forecast) * 100\n",
    "print(\"MAPE (%):\", mape)"
   ]
  },
  {
   "cell_type": "markdown",
   "metadata": {},
   "source": [
    "# Modelo 3"
   ]
  },
  {
   "cell_type": "code",
   "execution_count": 27,
   "metadata": {},
   "outputs": [],
   "source": [
    "import pandas as pd\n",
    "import numpy as np\n",
    "from prophet import Prophet\n",
    "\n",
    "# ------------------------------------------\n",
    "# 1. Preparar datos para Prophet\n",
    "# ------------------------------------------\n",
    "\n",
    "df_train = df_train.reset_index()\n",
    "df_train.columns = ['ds', 'y']  # Prophet requiere estas columnas\n",
    "\n",
    "# ------------------------------------------\n",
    "# 2. Ajustar modelo\n",
    "# ------------------------------------------\n"
   ]
  },
  {
   "cell_type": "code",
   "execution_count": 28,
   "metadata": {},
   "outputs": [
    {
     "data": {
      "application/vnd.microsoft.datawrangler.viewer.v0+json": {
       "columns": [
        {
         "name": "index",
         "rawType": "int64",
         "type": "integer"
        },
        {
         "name": "ds",
         "rawType": "datetime64[ns]",
         "type": "datetime"
        },
        {
         "name": "y",
         "rawType": "float64",
         "type": "float"
        }
       ],
       "conversionMethod": "pd.DataFrame",
       "ref": "1725f9ff-561f-4c56-b75d-54c8dec57d56",
       "rows": [
        [
         "0",
         "2018-06-01 00:00:00",
         "18.2"
        ],
        [
         "1",
         "2018-07-01 00:00:00",
         "18.4"
        ],
        [
         "2",
         "2018-08-01 00:00:00",
         "18.4"
        ],
        [
         "3",
         "2018-09-01 00:00:00",
         "19.3"
        ],
        [
         "4",
         "2018-10-01 00:00:00",
         "19.6"
        ],
        [
         "5",
         "2018-11-01 00:00:00",
         "20.3"
        ],
        [
         "6",
         "2018-12-01 00:00:00",
         "20.2"
        ],
        [
         "7",
         "2019-01-01 00:00:00",
         "20.0"
        ],
        [
         "8",
         "2019-02-01 00:00:00",
         "20.8"
        ],
        [
         "9",
         "2019-03-01 00:00:00",
         "19.8"
        ],
        [
         "10",
         "2019-04-01 00:00:00",
         "19.6"
        ],
        [
         "11",
         "2019-05-01 00:00:00",
         "19.3"
        ],
        [
         "12",
         "2019-06-01 00:00:00",
         "18.7"
        ],
        [
         "13",
         "2019-07-01 00:00:00",
         "18.7"
        ],
        [
         "14",
         "2019-08-01 00:00:00",
         "18.3"
        ],
        [
         "15",
         "2019-09-01 00:00:00",
         "19.4"
        ],
        [
         "16",
         "2019-10-01 00:00:00",
         "19.1"
        ],
        [
         "17",
         "2019-11-01 00:00:00",
         "19.8"
        ],
        [
         "18",
         "2019-12-01 00:00:00",
         "19.9"
        ],
        [
         "19",
         "2020-01-01 00:00:00",
         "20.5"
        ],
        [
         "20",
         "2020-02-01 00:00:00",
         "21.2"
        ],
        [
         "21",
         "2020-03-01 00:00:00",
         "20.8"
        ],
        [
         "22",
         "2020-04-01 00:00:00",
         "20.1"
        ],
        [
         "23",
         "2020-05-01 00:00:00",
         "19.4"
        ],
        [
         "24",
         "2020-06-01 00:00:00",
         "19.1"
        ],
        [
         "25",
         "2020-07-01 00:00:00",
         "18.8"
        ],
        [
         "26",
         "2020-08-01 00:00:00",
         "19.3"
        ],
        [
         "27",
         "2020-09-01 00:00:00",
         "19.4"
        ],
        [
         "28",
         "2020-10-01 00:00:00",
         "19.5"
        ],
        [
         "29",
         "2020-11-01 00:00:00",
         "19.4"
        ],
        [
         "30",
         "2020-12-01 00:00:00",
         "19.9"
        ],
        [
         "31",
         "2021-01-01 00:00:00",
         "20.0"
        ],
        [
         "32",
         "2021-02-01 00:00:00",
         "19.7"
        ],
        [
         "33",
         "2021-03-01 00:00:00",
         "18.4"
        ],
        [
         "34",
         "2021-04-01 00:00:00",
         "19.6"
        ],
        [
         "35",
         "2021-05-01 00:00:00",
         "19.5"
        ],
        [
         "36",
         "2021-06-01 00:00:00",
         "19.0"
        ],
        [
         "37",
         "2021-07-01 00:00:00",
         "18.7"
        ],
        [
         "38",
         "2021-08-01 00:00:00",
         "18.7"
        ],
        [
         "39",
         "2021-09-01 00:00:00",
         "19.0"
        ],
        [
         "40",
         "2021-10-01 00:00:00",
         "19.3"
        ],
        [
         "41",
         "2021-11-01 00:00:00",
         "19.7"
        ],
        [
         "42",
         "2021-12-01 00:00:00",
         "20.6"
        ],
        [
         "43",
         "2022-01-01 00:00:00",
         "20.3"
        ],
        [
         "44",
         "2022-02-01 00:00:00",
         "19.6"
        ],
        [
         "45",
         "2022-03-01 00:00:00",
         "19.1"
        ],
        [
         "46",
         "2022-04-01 00:00:00",
         "19.2"
        ],
        [
         "47",
         "2022-05-01 00:00:00",
         "19.1"
        ],
        [
         "48",
         "2022-06-01 00:00:00",
         "18.1"
        ],
        [
         "49",
         "2022-07-01 00:00:00",
         "19.0"
        ]
       ],
       "shape": {
        "columns": 2,
        "rows": 67
       }
      },
      "text/html": [
       "<div>\n",
       "<style scoped>\n",
       "    .dataframe tbody tr th:only-of-type {\n",
       "        vertical-align: middle;\n",
       "    }\n",
       "\n",
       "    .dataframe tbody tr th {\n",
       "        vertical-align: top;\n",
       "    }\n",
       "\n",
       "    .dataframe thead th {\n",
       "        text-align: right;\n",
       "    }\n",
       "</style>\n",
       "<table border=\"1\" class=\"dataframe\">\n",
       "  <thead>\n",
       "    <tr style=\"text-align: right;\">\n",
       "      <th></th>\n",
       "      <th>ds</th>\n",
       "      <th>y</th>\n",
       "    </tr>\n",
       "  </thead>\n",
       "  <tbody>\n",
       "    <tr>\n",
       "      <th>0</th>\n",
       "      <td>2018-06-01</td>\n",
       "      <td>18.2</td>\n",
       "    </tr>\n",
       "    <tr>\n",
       "      <th>1</th>\n",
       "      <td>2018-07-01</td>\n",
       "      <td>18.4</td>\n",
       "    </tr>\n",
       "    <tr>\n",
       "      <th>2</th>\n",
       "      <td>2018-08-01</td>\n",
       "      <td>18.4</td>\n",
       "    </tr>\n",
       "    <tr>\n",
       "      <th>3</th>\n",
       "      <td>2018-09-01</td>\n",
       "      <td>19.3</td>\n",
       "    </tr>\n",
       "    <tr>\n",
       "      <th>4</th>\n",
       "      <td>2018-10-01</td>\n",
       "      <td>19.6</td>\n",
       "    </tr>\n",
       "    <tr>\n",
       "      <th>...</th>\n",
       "      <td>...</td>\n",
       "      <td>...</td>\n",
       "    </tr>\n",
       "    <tr>\n",
       "      <th>62</th>\n",
       "      <td>2023-08-01</td>\n",
       "      <td>19.1</td>\n",
       "    </tr>\n",
       "    <tr>\n",
       "      <th>63</th>\n",
       "      <td>2023-09-01</td>\n",
       "      <td>19.5</td>\n",
       "    </tr>\n",
       "    <tr>\n",
       "      <th>64</th>\n",
       "      <td>2023-10-01</td>\n",
       "      <td>19.9</td>\n",
       "    </tr>\n",
       "    <tr>\n",
       "      <th>65</th>\n",
       "      <td>2023-11-01</td>\n",
       "      <td>19.4</td>\n",
       "    </tr>\n",
       "    <tr>\n",
       "      <th>66</th>\n",
       "      <td>2023-12-01</td>\n",
       "      <td>19.9</td>\n",
       "    </tr>\n",
       "  </tbody>\n",
       "</table>\n",
       "<p>67 rows × 2 columns</p>\n",
       "</div>"
      ],
      "text/plain": [
       "           ds     y\n",
       "0  2018-06-01  18.2\n",
       "1  2018-07-01  18.4\n",
       "2  2018-08-01  18.4\n",
       "3  2018-09-01  19.3\n",
       "4  2018-10-01  19.6\n",
       "..        ...   ...\n",
       "62 2023-08-01  19.1\n",
       "63 2023-09-01  19.5\n",
       "64 2023-10-01  19.9\n",
       "65 2023-11-01  19.4\n",
       "66 2023-12-01  19.9\n",
       "\n",
       "[67 rows x 2 columns]"
      ]
     },
     "execution_count": 28,
     "metadata": {},
     "output_type": "execute_result"
    }
   ],
   "source": [
    "df_train"
   ]
  },
  {
   "cell_type": "code",
   "execution_count": 29,
   "metadata": {},
   "outputs": [],
   "source": [
    "#%pip install pystan==2.19.1.1"
   ]
  },
  {
   "cell_type": "code",
   "execution_count": 30,
   "metadata": {},
   "outputs": [
    {
     "ename": "AttributeError",
     "evalue": "'Prophet' object has no attribute 'stan_backend'",
     "output_type": "error",
     "traceback": [
      "\u001b[1;31m---------------------------------------------------------------------------\u001b[0m",
      "\u001b[1;31mAttributeError\u001b[0m                            Traceback (most recent call last)",
      "Cell \u001b[1;32mIn[30], line 2\u001b[0m\n\u001b[0;32m      1\u001b[0m \u001b[38;5;66;03m# Initialize and fit the Prophet model\u001b[39;00m\n\u001b[1;32m----> 2\u001b[0m model \u001b[38;5;241m=\u001b[39m \u001b[43mProphet\u001b[49m\u001b[43m(\u001b[49m\u001b[43mseasonality_mode\u001b[49m\u001b[38;5;241;43m=\u001b[39;49m\u001b[38;5;124;43m'\u001b[39;49m\u001b[38;5;124;43madditive\u001b[39;49m\u001b[38;5;124;43m'\u001b[39;49m\u001b[43m,\u001b[49m\u001b[43m \u001b[49m\u001b[43myearly_seasonality\u001b[49m\u001b[38;5;241;43m=\u001b[39;49m\u001b[38;5;28;43;01mTrue\u001b[39;49;00m\u001b[43m,\u001b[49m\u001b[43m \u001b[49m\u001b[43mdaily_seasonality\u001b[49m\u001b[38;5;241;43m=\u001b[39;49m\u001b[38;5;28;43;01mFalse\u001b[39;49;00m\u001b[43m,\u001b[49m\u001b[43m \u001b[49m\u001b[43mweekly_seasonality\u001b[49m\u001b[38;5;241;43m=\u001b[39;49m\u001b[38;5;28;43;01mFalse\u001b[39;49;00m\u001b[43m)\u001b[49m\n\u001b[0;32m      3\u001b[0m model\u001b[38;5;241m.\u001b[39mfit(df_train)\n",
      "File \u001b[1;32mc:\\Users\\wsand\\anaconda3\\Lib\\site-packages\\prophet\\forecaster.py:155\u001b[0m, in \u001b[0;36mProphet.__init__\u001b[1;34m(self, growth, changepoints, n_changepoints, changepoint_range, yearly_seasonality, weekly_seasonality, daily_seasonality, holidays, seasonality_mode, seasonality_prior_scale, holidays_prior_scale, changepoint_prior_scale, mcmc_samples, interval_width, uncertainty_samples, stan_backend, scaling, holidays_mode)\u001b[0m\n\u001b[0;32m    153\u001b[0m \u001b[38;5;28mself\u001b[39m\u001b[38;5;241m.\u001b[39mfit_kwargs \u001b[38;5;241m=\u001b[39m {}\n\u001b[0;32m    154\u001b[0m \u001b[38;5;28mself\u001b[39m\u001b[38;5;241m.\u001b[39mvalidate_inputs()\n\u001b[1;32m--> 155\u001b[0m \u001b[38;5;28;43mself\u001b[39;49m\u001b[38;5;241;43m.\u001b[39;49m\u001b[43m_load_stan_backend\u001b[49m\u001b[43m(\u001b[49m\u001b[43mstan_backend\u001b[49m\u001b[43m)\u001b[49m\n",
      "File \u001b[1;32mc:\\Users\\wsand\\anaconda3\\Lib\\site-packages\\prophet\\forecaster.py:168\u001b[0m, in \u001b[0;36mProphet._load_stan_backend\u001b[1;34m(self, stan_backend)\u001b[0m\n\u001b[0;32m    165\u001b[0m \u001b[38;5;28;01melse\u001b[39;00m:\n\u001b[0;32m    166\u001b[0m     \u001b[38;5;28mself\u001b[39m\u001b[38;5;241m.\u001b[39mstan_backend \u001b[38;5;241m=\u001b[39m StanBackendEnum\u001b[38;5;241m.\u001b[39mget_backend_class(stan_backend)()\n\u001b[1;32m--> 168\u001b[0m logger\u001b[38;5;241m.\u001b[39mdebug(\u001b[38;5;124m\"\u001b[39m\u001b[38;5;124mLoaded stan backend: \u001b[39m\u001b[38;5;132;01m%s\u001b[39;00m\u001b[38;5;124m\"\u001b[39m, \u001b[38;5;28;43mself\u001b[39;49m\u001b[38;5;241;43m.\u001b[39;49m\u001b[43mstan_backend\u001b[49m\u001b[38;5;241m.\u001b[39mget_type())\n",
      "\u001b[1;31mAttributeError\u001b[0m: 'Prophet' object has no attribute 'stan_backend'"
     ]
    }
   ],
   "source": [
    "\n",
    "\n",
    "\n",
    "# Initialize and fit the Prophet model\n",
    "model = Prophet(seasonality_mode='additive', yearly_seasonality=True, daily_seasonality=False, weekly_seasonality=False)\n",
    "model.fit(df_train)\n",
    "\n",
    "\n"
   ]
  },
  {
   "cell_type": "code",
   "execution_count": null,
   "metadata": {},
   "outputs": [],
   "source": [
    "\n",
    "# ------------------------------------------\n",
    "# 3. Crear fechas futuras para predicción\n",
    "# ------------------------------------------\n",
    "\n",
    "future = pd.DataFrame({'ds': test.index})  # usamos las fechas del test\n",
    "forecast = model.predict(future)\n",
    "\n",
    "# ------------------------------------------\n",
    "# 4. Obtener predicciones\n",
    "# ------------------------------------------\n",
    "\n",
    "y_pred = forecast['yhat'].values\n",
    "y_true = test.values\n",
    "\n",
    "# ------------------------------------------\n",
    "# 5. Evaluar el modelo\n",
    "# ------------------------------------------\n",
    "\n",
    "mae = mean_absolute_error(y_true, y_pred)\n",
    "rmse = mean_squared_error(y_true, y_pred, squared=False)\n",
    "mape = mean_absolute_percentage_error(y_true, y_pred) * 100\n",
    "\n",
    "print(\"\\n📊 Prophet\")\n",
    "print(f\"MAE : {mae:.2f}\")\n",
    "print(f\"RMSE: {rmse:.2f}\")\n",
    "print(f\"MAPE: {mape:.2f}%\")\n",
    "\n",
    "# ------------------------------------------\n",
    "# 6. Graficar resultados\n",
    "# ------------------------------------------\n",
    "\n",
    "plt.figure(figsize=(12,5))\n",
    "plt.plot(serie, label='Serie original')\n",
    "plt.plot(test.index, y_pred, label='Pronóstico Prophet')\n",
    "plt.axvline(test.index[0], color='gray', linestyle='--', label='Corte Train/Test')\n",
    "plt.legend()\n",
    "plt.title(\"Modelo Prophet - Predicción vs Real\")\n",
    "plt.show()"
   ]
  }
 ],
 "metadata": {
  "kernelspec": {
   "display_name": "base",
   "language": "python",
   "name": "python3"
  },
  "language_info": {
   "codemirror_mode": {
    "name": "ipython",
    "version": 3
   },
   "file_extension": ".py",
   "mimetype": "text/x-python",
   "name": "python",
   "nbconvert_exporter": "python",
   "pygments_lexer": "ipython3",
   "version": "3.12.4"
  }
 },
 "nbformat": 4,
 "nbformat_minor": 2
}
