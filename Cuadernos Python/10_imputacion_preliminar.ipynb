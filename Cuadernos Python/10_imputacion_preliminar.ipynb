{
 "cells": [
  {
   "cell_type": "markdown",
   "metadata": {
    "slideshow": {
     "slide_type": "slide"
    }
   },
   "source": [
    "# Manejo de datos perdidos en series temporales\n",
    "\n",
    "- En el desarrollo teórico de la mayoría de técnicas y modelos no se tienen en cuenta algunas cuestiones que surgen en su aplicación práctica, como es en concreto la existencia de datos faltantes, también denominados perdidos o incompletos.\n",
    "\n",
    "\n",
    "- Muchas series temporales existentes contienen valores perdidos o no presentes en las observaciones que las componen (ya sean provocados por mediciones incorrectas, errores, etc). Estos valores perdidos crean numerosos problemas y hacen dificil el análisis de los datos, por lo tanto su presencia hace que sea necesaria una etapa de preprocesado de la serie. \n",
    "- La manera más simple de tratar con ellos es descartándolos, pero esto solo es posible cuándo son muy pocos los valores perdidos y no tienen influencia en el análisis posterior. Otra forma de lidiar con ellos es realizar el análisis únicamente con los datos disponibles. Pero uno de los métodos más conocidos para tratar con este problema es la imputación.\n",
    "\n"
   ]
  },
  {
   "cell_type": "markdown",
   "metadata": {},
   "source": [
    "\n",
    "## **Imputación**\n",
    "\n",
    "En estadística, la imputación es el proceso de reemplazar los valores perdidos con valores sustitutos. El objetivo de la imputación es rellenar los valores perdidos con estimaciones (realizadas con el método de aprendizaje más apropiado para cada caso) de estos teniendo en cuenta las relaciones posibles entre las observaciones. Luego existen diversos métodos de imputación diferenciados en la forma de estimar los datos faltantes, cuya elección preferible vendrá dada por la naturaleza de la serie:\n",
    "\n",
    "\n",
    "### **Métodos de imputación simples**\n",
    "\n",
    "- **Imputación mediante la media:** se reemplazan los valores perdidos por la media de los valores observados.\n",
    "- **Imputación mediante regresión:** se estima una regresión de las observaciones existentes y se imputa cada valor perdido mediante la ecuación de regresión estimada.\n",
    "\n",
    "- **Imputación mediante regresión estocástica:** similar al enterior pero se imputa añadiendo a la predicción un valor residual para reestablecer la pérdida de variabilidad.\n",
    "- **Imputación mediante médias móviles:** se reemplazan las observaciones faltantes por los valores estimados mediante médias móviles.\n",
    "- **Imputación por Last Observation Carried Forward (locf):** reemplaza el dato perdido por la observacion que le precede.\n",
    "- **Imputación por interpolación:** se estiman los valores perdidos interpolando (uniendo de manera lineal, polinomial, etc.) el último valor válido antes del valor perdido y el primer valor válido después del valor perdido.\n"
   ]
  },
  {
   "cell_type": "markdown",
   "metadata": {},
   "source": [
    "\n",
    "### Métodos de imputación basados en máxima verosimilitud\n",
    "\n",
    "- **Imputación múltiple:** consiste en realizar varias imputaciones de las observaciones faltantes para luego analizar los conjuntos de datos completados y combinar los resultados obtenidos para obtener una estimacion final. El análisis de imputación múltiple esta dividido en tres fases: fase de imputacion, fase de análisis y fase de puesta en común.\n",
    "\n",
    "- **Imputación mediante el algoritmo EM (Expectation-Maximization):**\n",
    "es un algoritmo importante para el análisis de datos faltantes. Es un método iterativo de dos pasos (esperanza y maximizacion) donde se comienza por reemplazar los datos ausentes por unos valores estimados y a continuación se procede a una primera estimación de los parámetros, para con estos parámetros volver a iniciar al primer paso y así sucesivamente hasta que la convergencia de los parámetros sea aceptable.\n",
    " \n",
    " \n"
   ]
  },
  {
   "cell_type": "markdown",
   "metadata": {},
   "source": [
    "## Métodos de imputación basados en machine learning\n",
    "Imputación con K-Nearest Neighbor: se estiman los valores peridos con la media de los vecinos seleccionados.\n",
    "\n",
    "- **Imputación con K-means**\n",
    "- **Imputación con máquinas de soporte vectorial**\n",
    "\n",
    "En el ámbito de la imputación, la imputación en series temporales univariantes es un reto adicional, debido a que la mayoría de algoritmos complejos están desarrollados para series temporales multivariantes ya que dependen de la correlación entre los inter-atributos para estimar los valores de los datos perdidos (imputación múltiple, EM, kNN, etc.), algo que no ocurre en el caso univariante (al ser un único atributo). Pero además de los métodos simples, también hay posibilidades adicionales más complejas para la imputación en series temporales univariantes:\n",
    "\n",
    "- **Algoritmos multivariantes con datos retardados:** consisten en emplear indirectamente los algoritmos de series multivariantes en series univariantes empleando el tiempo (variable implícita de una serie temporal) como un atributo más. La forma habitual de hacer esto es mediante lags (variables que toman el valor de otra variable en un instante de tiempo previo) y leads (toman el valor de otra variable en un instante de tiempo posterior).\n",
    "\n",
    "- **Filtro de Kalman con modelos ARIMA de espacio de estados:** todos los modelos ARIMA pueden ser reescritos (y estimados) como modelos en el espacio de estados. Estos modelos en el espacio de estados pueden entre otras muchas cosas estimar observaciones perdidas. Luego los principales beneficios de representar sistemas dinámicos en forma de espacio de estados es que el espacio de estados permite que las variables no observadas puedan ser incorporadas y estimadas junto con el modelo observable, y que además, estos modelos en el espacio de estados pueden ser analizados usando un algoritmo recursivo llamado filtro de Kalman (Kalman filter), que es usado, entre otras cosas, para determinar las estimaciones óptimas de los modelos en el espacio de estados.\n"
   ]
  },
  {
   "cell_type": "code",
   "execution_count": 1,
   "metadata": {},
   "outputs": [
    {
     "data": {
      "application/vnd.microsoft.datawrangler.viewer.v0+json": {
       "columns": [
        {
         "name": "index",
         "rawType": "int64",
         "type": "integer"
        },
        {
         "name": "time",
         "rawType": "float64",
         "type": "float"
        },
        {
         "name": "value",
         "rawType": "int64",
         "type": "integer"
        }
       ],
       "conversionMethod": "pd.DataFrame",
       "ref": "bf8260c9-0e3e-43b5-bc45-bee0e46f0dcb",
       "rows": [
        [
         "0",
         "1949.0",
         "112"
        ],
        [
         "1",
         "1949.08333333333",
         "118"
        ],
        [
         "2",
         "1949.16666666667",
         "132"
        ],
        [
         "3",
         "1949.25",
         "129"
        ],
        [
         "4",
         "1949.33333333333",
         "121"
        ],
        [
         "5",
         "1949.41666666667",
         "135"
        ],
        [
         "6",
         "1949.5",
         "148"
        ],
        [
         "7",
         "1949.58333333333",
         "148"
        ],
        [
         "8",
         "1949.66666666667",
         "136"
        ],
        [
         "9",
         "1949.75",
         "119"
        ],
        [
         "10",
         "1949.83333333333",
         "104"
        ],
        [
         "11",
         "1949.91666666667",
         "118"
        ],
        [
         "12",
         "1950.0",
         "115"
        ],
        [
         "13",
         "1950.08333333333",
         "126"
        ],
        [
         "14",
         "1950.16666666667",
         "141"
        ],
        [
         "15",
         "1950.25",
         "135"
        ],
        [
         "16",
         "1950.33333333333",
         "125"
        ],
        [
         "17",
         "1950.41666666667",
         "149"
        ],
        [
         "18",
         "1950.5",
         "170"
        ],
        [
         "19",
         "1950.58333333333",
         "170"
        ],
        [
         "20",
         "1950.66666666667",
         "158"
        ],
        [
         "21",
         "1950.75",
         "133"
        ],
        [
         "22",
         "1950.83333333333",
         "114"
        ],
        [
         "23",
         "1950.91666666667",
         "140"
        ],
        [
         "24",
         "1951.0",
         "145"
        ],
        [
         "25",
         "1951.08333333333",
         "150"
        ],
        [
         "26",
         "1951.16666666667",
         "178"
        ],
        [
         "27",
         "1951.25",
         "163"
        ],
        [
         "28",
         "1951.33333333333",
         "172"
        ],
        [
         "29",
         "1951.41666666667",
         "178"
        ],
        [
         "30",
         "1951.5",
         "199"
        ],
        [
         "31",
         "1951.58333333333",
         "199"
        ],
        [
         "32",
         "1951.66666666667",
         "184"
        ],
        [
         "33",
         "1951.75",
         "162"
        ],
        [
         "34",
         "1951.83333333333",
         "146"
        ],
        [
         "35",
         "1951.91666666667",
         "166"
        ],
        [
         "36",
         "1952.0",
         "171"
        ],
        [
         "37",
         "1952.08333333333",
         "180"
        ],
        [
         "38",
         "1952.16666666667",
         "193"
        ],
        [
         "39",
         "1952.25",
         "181"
        ],
        [
         "40",
         "1952.33333333333",
         "183"
        ],
        [
         "41",
         "1952.41666666667",
         "218"
        ],
        [
         "42",
         "1952.5",
         "230"
        ],
        [
         "43",
         "1952.58333333333",
         "242"
        ],
        [
         "44",
         "1952.66666666667",
         "209"
        ],
        [
         "45",
         "1952.75",
         "191"
        ],
        [
         "46",
         "1952.83333333333",
         "172"
        ],
        [
         "47",
         "1952.91666666667",
         "194"
        ],
        [
         "48",
         "1953.0",
         "196"
        ],
        [
         "49",
         "1953.08333333333",
         "196"
        ]
       ],
       "shape": {
        "columns": 2,
        "rows": 144
       }
      },
      "text/html": [
       "<div>\n",
       "<style scoped>\n",
       "    .dataframe tbody tr th:only-of-type {\n",
       "        vertical-align: middle;\n",
       "    }\n",
       "\n",
       "    .dataframe tbody tr th {\n",
       "        vertical-align: top;\n",
       "    }\n",
       "\n",
       "    .dataframe thead th {\n",
       "        text-align: right;\n",
       "    }\n",
       "</style>\n",
       "<table border=\"1\" class=\"dataframe\">\n",
       "  <thead>\n",
       "    <tr style=\"text-align: right;\">\n",
       "      <th></th>\n",
       "      <th>time</th>\n",
       "      <th>value</th>\n",
       "    </tr>\n",
       "  </thead>\n",
       "  <tbody>\n",
       "    <tr>\n",
       "      <th>0</th>\n",
       "      <td>1949.000000</td>\n",
       "      <td>112</td>\n",
       "    </tr>\n",
       "    <tr>\n",
       "      <th>1</th>\n",
       "      <td>1949.083333</td>\n",
       "      <td>118</td>\n",
       "    </tr>\n",
       "    <tr>\n",
       "      <th>2</th>\n",
       "      <td>1949.166667</td>\n",
       "      <td>132</td>\n",
       "    </tr>\n",
       "    <tr>\n",
       "      <th>3</th>\n",
       "      <td>1949.250000</td>\n",
       "      <td>129</td>\n",
       "    </tr>\n",
       "    <tr>\n",
       "      <th>4</th>\n",
       "      <td>1949.333333</td>\n",
       "      <td>121</td>\n",
       "    </tr>\n",
       "    <tr>\n",
       "      <th>...</th>\n",
       "      <td>...</td>\n",
       "      <td>...</td>\n",
       "    </tr>\n",
       "    <tr>\n",
       "      <th>139</th>\n",
       "      <td>1960.583333</td>\n",
       "      <td>606</td>\n",
       "    </tr>\n",
       "    <tr>\n",
       "      <th>140</th>\n",
       "      <td>1960.666667</td>\n",
       "      <td>508</td>\n",
       "    </tr>\n",
       "    <tr>\n",
       "      <th>141</th>\n",
       "      <td>1960.750000</td>\n",
       "      <td>461</td>\n",
       "    </tr>\n",
       "    <tr>\n",
       "      <th>142</th>\n",
       "      <td>1960.833333</td>\n",
       "      <td>390</td>\n",
       "    </tr>\n",
       "    <tr>\n",
       "      <th>143</th>\n",
       "      <td>1960.916667</td>\n",
       "      <td>432</td>\n",
       "    </tr>\n",
       "  </tbody>\n",
       "</table>\n",
       "<p>144 rows × 2 columns</p>\n",
       "</div>"
      ],
      "text/plain": [
       "            time  value\n",
       "0    1949.000000    112\n",
       "1    1949.083333    118\n",
       "2    1949.166667    132\n",
       "3    1949.250000    129\n",
       "4    1949.333333    121\n",
       "..           ...    ...\n",
       "139  1960.583333    606\n",
       "140  1960.666667    508\n",
       "141  1960.750000    461\n",
       "142  1960.833333    390\n",
       "143  1960.916667    432\n",
       "\n",
       "[144 rows x 2 columns]"
      ]
     },
     "execution_count": 1,
     "metadata": {},
     "output_type": "execute_result"
    }
   ],
   "source": [
    "import pandas as pd\n",
    "import numpy as np\n",
    "import matplotlib.pyplot as plt\n",
    "\n",
    "# Cargar los datos de AirPassengers\n",
    "from statsmodels.datasets import get_rdataset\n",
    "air_passengers = get_rdataset('AirPassengers', cache=True).data\n",
    "air_passengers\n"
   ]
  },
  {
   "cell_type": "code",
   "execution_count": 2,
   "metadata": {},
   "outputs": [],
   "source": [
    "date=pd.date_range(start=\"1949-01-01\", end=\"1960-12-31\", freq=\"ME\")"
   ]
  },
  {
   "cell_type": "code",
   "execution_count": 3,
   "metadata": {},
   "outputs": [
    {
     "data": {
      "application/vnd.microsoft.datawrangler.viewer.v0+json": {
       "columns": [
        {
         "name": "index",
         "rawType": "datetime64[ns]",
         "type": "datetime"
        },
        {
         "name": "value",
         "rawType": "int64",
         "type": "integer"
        }
       ],
       "conversionMethod": "pd.DataFrame",
       "ref": "51b6c6ff-9415-4a07-8e6c-daebc01b36da",
       "rows": [
        [
         "1949-01-31 00:00:00",
         "112"
        ],
        [
         "1949-02-28 00:00:00",
         "118"
        ],
        [
         "1949-03-31 00:00:00",
         "132"
        ],
        [
         "1949-04-30 00:00:00",
         "129"
        ],
        [
         "1949-05-31 00:00:00",
         "121"
        ],
        [
         "1949-06-30 00:00:00",
         "135"
        ],
        [
         "1949-07-31 00:00:00",
         "148"
        ],
        [
         "1949-08-31 00:00:00",
         "148"
        ],
        [
         "1949-09-30 00:00:00",
         "136"
        ],
        [
         "1949-10-31 00:00:00",
         "119"
        ],
        [
         "1949-11-30 00:00:00",
         "104"
        ],
        [
         "1949-12-31 00:00:00",
         "118"
        ],
        [
         "1950-01-31 00:00:00",
         "115"
        ],
        [
         "1950-02-28 00:00:00",
         "126"
        ],
        [
         "1950-03-31 00:00:00",
         "141"
        ],
        [
         "1950-04-30 00:00:00",
         "135"
        ],
        [
         "1950-05-31 00:00:00",
         "125"
        ],
        [
         "1950-06-30 00:00:00",
         "149"
        ],
        [
         "1950-07-31 00:00:00",
         "170"
        ],
        [
         "1950-08-31 00:00:00",
         "170"
        ],
        [
         "1950-09-30 00:00:00",
         "158"
        ],
        [
         "1950-10-31 00:00:00",
         "133"
        ],
        [
         "1950-11-30 00:00:00",
         "114"
        ],
        [
         "1950-12-31 00:00:00",
         "140"
        ],
        [
         "1951-01-31 00:00:00",
         "145"
        ],
        [
         "1951-02-28 00:00:00",
         "150"
        ],
        [
         "1951-03-31 00:00:00",
         "178"
        ],
        [
         "1951-04-30 00:00:00",
         "163"
        ],
        [
         "1951-05-31 00:00:00",
         "172"
        ],
        [
         "1951-06-30 00:00:00",
         "178"
        ],
        [
         "1951-07-31 00:00:00",
         "199"
        ],
        [
         "1951-08-31 00:00:00",
         "199"
        ],
        [
         "1951-09-30 00:00:00",
         "184"
        ],
        [
         "1951-10-31 00:00:00",
         "162"
        ],
        [
         "1951-11-30 00:00:00",
         "146"
        ],
        [
         "1951-12-31 00:00:00",
         "166"
        ],
        [
         "1952-01-31 00:00:00",
         "171"
        ],
        [
         "1952-02-29 00:00:00",
         "180"
        ],
        [
         "1952-03-31 00:00:00",
         "193"
        ],
        [
         "1952-04-30 00:00:00",
         "181"
        ],
        [
         "1952-05-31 00:00:00",
         "183"
        ],
        [
         "1952-06-30 00:00:00",
         "218"
        ],
        [
         "1952-07-31 00:00:00",
         "230"
        ],
        [
         "1952-08-31 00:00:00",
         "242"
        ],
        [
         "1952-09-30 00:00:00",
         "209"
        ],
        [
         "1952-10-31 00:00:00",
         "191"
        ],
        [
         "1952-11-30 00:00:00",
         "172"
        ],
        [
         "1952-12-31 00:00:00",
         "194"
        ],
        [
         "1953-01-31 00:00:00",
         "196"
        ],
        [
         "1953-02-28 00:00:00",
         "196"
        ]
       ],
       "shape": {
        "columns": 1,
        "rows": 144
       }
      },
      "text/html": [
       "<div>\n",
       "<style scoped>\n",
       "    .dataframe tbody tr th:only-of-type {\n",
       "        vertical-align: middle;\n",
       "    }\n",
       "\n",
       "    .dataframe tbody tr th {\n",
       "        vertical-align: top;\n",
       "    }\n",
       "\n",
       "    .dataframe thead th {\n",
       "        text-align: right;\n",
       "    }\n",
       "</style>\n",
       "<table border=\"1\" class=\"dataframe\">\n",
       "  <thead>\n",
       "    <tr style=\"text-align: right;\">\n",
       "      <th></th>\n",
       "      <th>value</th>\n",
       "    </tr>\n",
       "  </thead>\n",
       "  <tbody>\n",
       "    <tr>\n",
       "      <th>1949-01-31</th>\n",
       "      <td>112</td>\n",
       "    </tr>\n",
       "    <tr>\n",
       "      <th>1949-02-28</th>\n",
       "      <td>118</td>\n",
       "    </tr>\n",
       "    <tr>\n",
       "      <th>1949-03-31</th>\n",
       "      <td>132</td>\n",
       "    </tr>\n",
       "    <tr>\n",
       "      <th>1949-04-30</th>\n",
       "      <td>129</td>\n",
       "    </tr>\n",
       "    <tr>\n",
       "      <th>1949-05-31</th>\n",
       "      <td>121</td>\n",
       "    </tr>\n",
       "    <tr>\n",
       "      <th>...</th>\n",
       "      <td>...</td>\n",
       "    </tr>\n",
       "    <tr>\n",
       "      <th>1960-08-31</th>\n",
       "      <td>606</td>\n",
       "    </tr>\n",
       "    <tr>\n",
       "      <th>1960-09-30</th>\n",
       "      <td>508</td>\n",
       "    </tr>\n",
       "    <tr>\n",
       "      <th>1960-10-31</th>\n",
       "      <td>461</td>\n",
       "    </tr>\n",
       "    <tr>\n",
       "      <th>1960-11-30</th>\n",
       "      <td>390</td>\n",
       "    </tr>\n",
       "    <tr>\n",
       "      <th>1960-12-31</th>\n",
       "      <td>432</td>\n",
       "    </tr>\n",
       "  </tbody>\n",
       "</table>\n",
       "<p>144 rows × 1 columns</p>\n",
       "</div>"
      ],
      "text/plain": [
       "            value\n",
       "1949-01-31    112\n",
       "1949-02-28    118\n",
       "1949-03-31    132\n",
       "1949-04-30    129\n",
       "1949-05-31    121\n",
       "...           ...\n",
       "1960-08-31    606\n",
       "1960-09-30    508\n",
       "1960-10-31    461\n",
       "1960-11-30    390\n",
       "1960-12-31    432\n",
       "\n",
       "[144 rows x 1 columns]"
      ]
     },
     "execution_count": 3,
     "metadata": {},
     "output_type": "execute_result"
    }
   ],
   "source": [
    "air_passengers.index=date\n",
    "air_passengers.drop(columns=[\"time\"], axis=1, inplace=True)\n",
    "air_passengers"
   ]
  },
  {
   "cell_type": "code",
   "execution_count": 4,
   "metadata": {},
   "outputs": [
    {
     "data": {
      "text/plain": [
       "1949-01-31    112.0\n",
       "1949-02-28    118.0\n",
       "1949-03-31    132.0\n",
       "1949-04-30    129.0\n",
       "1949-05-31      NaN\n",
       "              ...  \n",
       "1960-08-31    606.0\n",
       "1960-09-30    508.0\n",
       "1960-10-31    461.0\n",
       "1960-11-30    390.0\n",
       "1960-12-31    432.0\n",
       "Freq: ME, Name: value, Length: 144, dtype: float64"
      ]
     },
     "execution_count": 4,
     "metadata": {},
     "output_type": "execute_result"
    }
   ],
   "source": [
    "\n",
    "# Crear la serie y agregar valores NaN\n",
    "serie = air_passengers['value'].copy()\n",
    "serie.iloc[[4, 9, 69, 109, 134]] = np.nan  \n",
    "serie\n"
   ]
  },
  {
   "cell_type": "code",
   "execution_count": 5,
   "metadata": {},
   "outputs": [],
   "source": [
    "import seaborn as sns\n",
    "sns.set_theme()"
   ]
  },
  {
   "cell_type": "code",
   "execution_count": 6,
   "metadata": {},
   "outputs": [
    {
     "data": {
      "image/png": "[encoded data removed]",
      "text/plain": [
       "<Figure size 1000x500 with 1 Axes>"
      ]
     },
     "metadata": {},
     "output_type": "display_data"
    }
   ],
   "source": [
    "\n",
    "# Visualización de la serie original\n",
    "plt.figure(figsize=(10, 5))\n",
    "plt.plot( air_passengers['value'], label='AirPassengers')\n",
    "plt.title('AirPassengers Series')\n",
    "plt.xlabel('Time')\n",
    "plt.ylabel('Número de pasajeros')\n",
    "plt.legend()\n",
    "plt.show()\n"
   ]
  },
  {
   "cell_type": "code",
   "execution_count": null,
   "metadata": {},
   "outputs": [],
   "source": []
  },
  {
   "cell_type": "code",
   "execution_count": 7,
   "metadata": {},
   "outputs": [
    {
     "data": {
      "text/plain": [
       "1949-01-31    112.000000\n",
       "1949-02-28    118.000000\n",
       "1949-03-31    132.000000\n",
       "1949-04-30    129.000000\n",
       "1949-05-31    281.705036\n",
       "                 ...    \n",
       "1960-08-31    606.000000\n",
       "1960-09-30    508.000000\n",
       "1960-10-31    461.000000\n",
       "1960-11-30    390.000000\n",
       "1960-12-31    432.000000\n",
       "Freq: ME, Name: value, Length: 144, dtype: float64"
      ]
     },
     "execution_count": 7,
     "metadata": {},
     "output_type": "execute_result"
    }
   ],
   "source": [
    "# Imputación de los valores NaN usando la media\n",
    "serie_filled = serie.fillna(serie.mean())\n",
    "serie_filled"
   ]
  },
  {
   "cell_type": "code",
   "execution_count": 8,
   "metadata": {},
   "outputs": [
    {
     "data": {
      "application/vnd.microsoft.datawrangler.viewer.v0+json": {
       "columns": [
        {
         "name": "index",
         "rawType": "datetime64[ns]",
         "type": "datetime"
        },
        {
         "name": "Original",
         "rawType": "int64",
         "type": "integer"
        },
        {
         "name": "Imputed",
         "rawType": "float64",
         "type": "float"
        }
       ],
       "conversionMethod": "pd.DataFrame",
       "ref": "6e21ed21-22e9-48c0-8cf8-af7eeac0827b",
       "rows": [
        [
         "1949-01-31 00:00:00",
         "112",
         "112.0"
        ],
        [
         "1949-02-28 00:00:00",
         "118",
         "118.0"
        ],
        [
         "1949-03-31 00:00:00",
         "132",
         "132.0"
        ],
        [
         "1949-04-30 00:00:00",
         "129",
         "129.0"
        ],
        [
         "1949-05-31 00:00:00",
         "121",
         "281.705035971223"
        ],
        [
         "1949-06-30 00:00:00",
         "135",
         "135.0"
        ],
        [
         "1949-07-31 00:00:00",
         "148",
         "148.0"
        ],
        [
         "1949-08-31 00:00:00",
         "148",
         "148.0"
        ],
        [
         "1949-09-30 00:00:00",
         "136",
         "136.0"
        ],
        [
         "1949-10-31 00:00:00",
         "119",
         "281.705035971223"
        ],
        [
         "1949-11-30 00:00:00",
         "104",
         "104.0"
        ],
        [
         "1949-12-31 00:00:00",
         "118",
         "118.0"
        ],
        [
         "1950-01-31 00:00:00",
         "115",
         "115.0"
        ],
        [
         "1950-02-28 00:00:00",
         "126",
         "126.0"
        ],
        [
         "1950-03-31 00:00:00",
         "141",
         "141.0"
        ],
        [
         "1950-04-30 00:00:00",
         "135",
         "135.0"
        ],
        [
         "1950-05-31 00:00:00",
         "125",
         "125.0"
        ],
        [
         "1950-06-30 00:00:00",
         "149",
         "149.0"
        ],
        [
         "1950-07-31 00:00:00",
         "170",
         "170.0"
        ],
        [
         "1950-08-31 00:00:00",
         "170",
         "170.0"
        ],
        [
         "1950-09-30 00:00:00",
         "158",
         "158.0"
        ],
        [
         "1950-10-31 00:00:00",
         "133",
         "133.0"
        ],
        [
         "1950-11-30 00:00:00",
         "114",
         "114.0"
        ],
        [
         "1950-12-31 00:00:00",
         "140",
         "140.0"
        ],
        [
         "1951-01-31 00:00:00",
         "145",
         "145.0"
        ],
        [
         "1951-02-28 00:00:00",
         "150",
         "150.0"
        ],
        [
         "1951-03-31 00:00:00",
         "178",
         "178.0"
        ],
        [
         "1951-04-30 00:00:00",
         "163",
         "163.0"
        ],
        [
         "1951-05-31 00:00:00",
         "172",
         "172.0"
        ],
        [
         "1951-06-30 00:00:00",
         "178",
         "178.0"
        ],
        [
         "1951-07-31 00:00:00",
         "199",
         "199.0"
        ],
        [
         "1951-08-31 00:00:00",
         "199",
         "199.0"
        ],
        [
         "1951-09-30 00:00:00",
         "184",
         "184.0"
        ],
        [
         "1951-10-31 00:00:00",
         "162",
         "162.0"
        ],
        [
         "1951-11-30 00:00:00",
         "146",
         "146.0"
        ],
        [
         "1951-12-31 00:00:00",
         "166",
         "166.0"
        ],
        [
         "1952-01-31 00:00:00",
         "171",
         "171.0"
        ],
        [
         "1952-02-29 00:00:00",
         "180",
         "180.0"
        ],
        [
         "1952-03-31 00:00:00",
         "193",
         "193.0"
        ],
        [
         "1952-04-30 00:00:00",
         "181",
         "181.0"
        ],
        [
         "1952-05-31 00:00:00",
         "183",
         "183.0"
        ],
        [
         "1952-06-30 00:00:00",
         "218",
         "218.0"
        ],
        [
         "1952-07-31 00:00:00",
         "230",
         "230.0"
        ],
        [
         "1952-08-31 00:00:00",
         "242",
         "242.0"
        ],
        [
         "1952-09-30 00:00:00",
         "209",
         "209.0"
        ],
        [
         "1952-10-31 00:00:00",
         "191",
         "191.0"
        ],
        [
         "1952-11-30 00:00:00",
         "172",
         "172.0"
        ],
        [
         "1952-12-31 00:00:00",
         "194",
         "194.0"
        ],
        [
         "1953-01-31 00:00:00",
         "196",
         "196.0"
        ],
        [
         "1953-02-28 00:00:00",
         "196",
         "196.0"
        ]
       ],
       "shape": {
        "columns": 2,
        "rows": 144
       }
      },
      "text/html": [
       "<div>\n",
       "<style scoped>\n",
       "    .dataframe tbody tr th:only-of-type {\n",
       "        vertical-align: middle;\n",
       "    }\n",
       "\n",
       "    .dataframe tbody tr th {\n",
       "        vertical-align: top;\n",
       "    }\n",
       "\n",
       "    .dataframe thead th {\n",
       "        text-align: right;\n",
       "    }\n",
       "</style>\n",
       "<table border=\"1\" class=\"dataframe\">\n",
       "  <thead>\n",
       "    <tr style=\"text-align: right;\">\n",
       "      <th></th>\n",
       "      <th>Original</th>\n",
       "      <th>Imputed</th>\n",
       "    </tr>\n",
       "  </thead>\n",
       "  <tbody>\n",
       "    <tr>\n",
       "      <th>1949-01-31</th>\n",
       "      <td>112</td>\n",
       "      <td>112.000000</td>\n",
       "    </tr>\n",
       "    <tr>\n",
       "      <th>1949-02-28</th>\n",
       "      <td>118</td>\n",
       "      <td>118.000000</td>\n",
       "    </tr>\n",
       "    <tr>\n",
       "      <th>1949-03-31</th>\n",
       "      <td>132</td>\n",
       "      <td>132.000000</td>\n",
       "    </tr>\n",
       "    <tr>\n",
       "      <th>1949-04-30</th>\n",
       "      <td>129</td>\n",
       "      <td>129.000000</td>\n",
       "    </tr>\n",
       "    <tr>\n",
       "      <th>1949-05-31</th>\n",
       "      <td>121</td>\n",
       "      <td>281.705036</td>\n",
       "    </tr>\n",
       "    <tr>\n",
       "      <th>...</th>\n",
       "      <td>...</td>\n",
       "      <td>...</td>\n",
       "    </tr>\n",
       "    <tr>\n",
       "      <th>1960-08-31</th>\n",
       "      <td>606</td>\n",
       "      <td>606.000000</td>\n",
       "    </tr>\n",
       "    <tr>\n",
       "      <th>1960-09-30</th>\n",
       "      <td>508</td>\n",
       "      <td>508.000000</td>\n",
       "    </tr>\n",
       "    <tr>\n",
       "      <th>1960-10-31</th>\n",
       "      <td>461</td>\n",
       "      <td>461.000000</td>\n",
       "    </tr>\n",
       "    <tr>\n",
       "      <th>1960-11-30</th>\n",
       "      <td>390</td>\n",
       "      <td>390.000000</td>\n",
       "    </tr>\n",
       "    <tr>\n",
       "      <th>1960-12-31</th>\n",
       "      <td>432</td>\n",
       "      <td>432.000000</td>\n",
       "    </tr>\n",
       "  </tbody>\n",
       "</table>\n",
       "<p>144 rows × 2 columns</p>\n",
       "</div>"
      ],
      "text/plain": [
       "            Original     Imputed\n",
       "1949-01-31       112  112.000000\n",
       "1949-02-28       118  118.000000\n",
       "1949-03-31       132  132.000000\n",
       "1949-04-30       129  129.000000\n",
       "1949-05-31       121  281.705036\n",
       "...              ...         ...\n",
       "1960-08-31       606  606.000000\n",
       "1960-09-30       508  508.000000\n",
       "1960-10-31       461  461.000000\n",
       "1960-11-30       390  390.000000\n",
       "1960-12-31       432  432.000000\n",
       "\n",
       "[144 rows x 2 columns]"
      ]
     },
     "execution_count": 8,
     "metadata": {},
     "output_type": "execute_result"
    }
   ],
   "source": [
    "# Combinar ambas series en un DataFrame\n",
    "serie_combined = pd.DataFrame({'Original': air_passengers['value'], 'Imputed': serie_filled})\n",
    "serie_combined\n"
   ]
  },
  {
   "cell_type": "code",
   "execution_count": 9,
   "metadata": {},
   "outputs": [
    {
     "data": {
      "image/png": "[encoded data removed]",
      "text/plain": [
       "<Figure size 1000x500 with 1 Axes>"
      ]
     },
     "metadata": {},
     "output_type": "display_data"
    }
   ],
   "source": [
    "import matplotlib.pyplot as plt\n",
    "\n",
    "plt.figure(figsize=(10, 5))\n",
    "plt.plot(serie_combined['Original'], label='Original')\n",
    "plt.plot(serie_combined['Imputed'], label='Imputed', linestyle='--')\n",
    "plt.title('AirPassengers with Imputed Data')\n",
    "plt.xlabel('Time')\n",
    "plt.ylabel('Number of Passengers')\n",
    "plt.legend()\n",
    "plt.show()\n"
   ]
  },
  {
   "cell_type": "markdown",
   "metadata": {},
   "source": [
    "### Imputación de valores perdidos mediante médias móviles:"
   ]
  },
  {
   "cell_type": "code",
   "execution_count": 10,
   "metadata": {},
   "outputs": [
    {
     "data": {
      "text/plain": [
       "1949-01-31    112.00\n",
       "1949-02-28    118.00\n",
       "1949-03-31    132.00\n",
       "1949-04-30    129.00\n",
       "1949-05-31    126.25\n",
       "               ...  \n",
       "1960-08-31    606.00\n",
       "1960-09-30    508.00\n",
       "1960-10-31    461.00\n",
       "1960-11-30    390.00\n",
       "1960-12-31    432.00\n",
       "Freq: ME, Name: value, Length: 144, dtype: float64"
      ]
     },
     "execution_count": 10,
     "metadata": {},
     "output_type": "execute_result"
    }
   ],
   "source": [
    "from statsmodels.tsa.api import SimpleExpSmoothing\n",
    "\n",
    "# Imputación usando un promedio móvil exponencial con ventana de 3\n",
    "serie_filled_exp = serie.fillna(serie.ewm(span=3, adjust=False).mean())\n",
    "serie_filled_exp"
   ]
  },
  {
   "cell_type": "code",
   "execution_count": 12,
   "metadata": {},
   "outputs": [
    {
     "data": {
      "application/vnd.microsoft.datawrangler.viewer.v0+json": {
       "columns": [
        {
         "name": "index",
         "rawType": "datetime64[ns]",
         "type": "datetime"
        },
        {
         "name": "Original",
         "rawType": "int64",
         "type": "integer"
        },
        {
         "name": "Imputed_Exp",
         "rawType": "float64",
         "type": "float"
        }
       ],
       "conversionMethod": "pd.DataFrame",
       "ref": "41902327-1b45-4d53-a100-ba0805c51c99",
       "rows": [
        [
         "1949-01-31 00:00:00",
         "112",
         "112.0"
        ],
        [
         "1949-02-28 00:00:00",
         "118",
         "118.0"
        ],
        [
         "1949-03-31 00:00:00",
         "132",
         "132.0"
        ],
        [
         "1949-04-30 00:00:00",
         "129",
         "129.0"
        ],
        [
         "1949-05-31 00:00:00",
         "121",
         "126.25"
        ],
        [
         "1949-06-30 00:00:00",
         "135",
         "135.0"
        ],
        [
         "1949-07-31 00:00:00",
         "148",
         "148.0"
        ],
        [
         "1949-08-31 00:00:00",
         "148",
         "148.0"
        ],
        [
         "1949-09-30 00:00:00",
         "136",
         "136.0"
        ],
        [
         "1949-10-31 00:00:00",
         "119",
         "140.01041666666669"
        ],
        [
         "1949-11-30 00:00:00",
         "104",
         "104.0"
        ],
        [
         "1949-12-31 00:00:00",
         "118",
         "118.0"
        ],
        [
         "1950-01-31 00:00:00",
         "115",
         "115.0"
        ],
        [
         "1950-02-28 00:00:00",
         "126",
         "126.0"
        ],
        [
         "1950-03-31 00:00:00",
         "141",
         "141.0"
        ],
        [
         "1950-04-30 00:00:00",
         "135",
         "135.0"
        ],
        [
         "1950-05-31 00:00:00",
         "125",
         "125.0"
        ],
        [
         "1950-06-30 00:00:00",
         "149",
         "149.0"
        ],
        [
         "1950-07-31 00:00:00",
         "170",
         "170.0"
        ],
        [
         "1950-08-31 00:00:00",
         "170",
         "170.0"
        ],
        [
         "1950-09-30 00:00:00",
         "158",
         "158.0"
        ],
        [
         "1950-10-31 00:00:00",
         "133",
         "133.0"
        ],
        [
         "1950-11-30 00:00:00",
         "114",
         "114.0"
        ],
        [
         "1950-12-31 00:00:00",
         "140",
         "140.0"
        ],
        [
         "1951-01-31 00:00:00",
         "145",
         "145.0"
        ],
        [
         "1951-02-28 00:00:00",
         "150",
         "150.0"
        ],
        [
         "1951-03-31 00:00:00",
         "178",
         "178.0"
        ],
        [
         "1951-04-30 00:00:00",
         "163",
         "163.0"
        ],
        [
         "1951-05-31 00:00:00",
         "172",
         "172.0"
        ],
        [
         "1951-06-30 00:00:00",
         "178",
         "178.0"
        ],
        [
         "1951-07-31 00:00:00",
         "199",
         "199.0"
        ],
        [
         "1951-08-31 00:00:00",
         "199",
         "199.0"
        ],
        [
         "1951-09-30 00:00:00",
         "184",
         "184.0"
        ],
        [
         "1951-10-31 00:00:00",
         "162",
         "162.0"
        ],
        [
         "1951-11-30 00:00:00",
         "146",
         "146.0"
        ],
        [
         "1951-12-31 00:00:00",
         "166",
         "166.0"
        ],
        [
         "1952-01-31 00:00:00",
         "171",
         "171.0"
        ],
        [
         "1952-02-29 00:00:00",
         "180",
         "180.0"
        ],
        [
         "1952-03-31 00:00:00",
         "193",
         "193.0"
        ],
        [
         "1952-04-30 00:00:00",
         "181",
         "181.0"
        ],
        [
         "1952-05-31 00:00:00",
         "183",
         "183.0"
        ],
        [
         "1952-06-30 00:00:00",
         "218",
         "218.0"
        ],
        [
         "1952-07-31 00:00:00",
         "230",
         "230.0"
        ],
        [
         "1952-08-31 00:00:00",
         "242",
         "242.0"
        ],
        [
         "1952-09-30 00:00:00",
         "209",
         "209.0"
        ],
        [
         "1952-10-31 00:00:00",
         "191",
         "191.0"
        ],
        [
         "1952-11-30 00:00:00",
         "172",
         "172.0"
        ],
        [
         "1952-12-31 00:00:00",
         "194",
         "194.0"
        ],
        [
         "1953-01-31 00:00:00",
         "196",
         "196.0"
        ],
        [
         "1953-02-28 00:00:00",
         "196",
         "196.0"
        ]
       ],
       "shape": {
        "columns": 2,
        "rows": 144
       }
      },
      "text/html": [
       "<div>\n",
       "<style scoped>\n",
       "    .dataframe tbody tr th:only-of-type {\n",
       "        vertical-align: middle;\n",
       "    }\n",
       "\n",
       "    .dataframe tbody tr th {\n",
       "        vertical-align: top;\n",
       "    }\n",
       "\n",
       "    .dataframe thead th {\n",
       "        text-align: right;\n",
       "    }\n",
       "</style>\n",
       "<table border=\"1\" class=\"dataframe\">\n",
       "  <thead>\n",
       "    <tr style=\"text-align: right;\">\n",
       "      <th></th>\n",
       "      <th>Original</th>\n",
       "      <th>Imputed_Exp</th>\n",
       "    </tr>\n",
       "  </thead>\n",
       "  <tbody>\n",
       "    <tr>\n",
       "      <th>1949-01-31</th>\n",
       "      <td>112</td>\n",
       "      <td>112.00</td>\n",
       "    </tr>\n",
       "    <tr>\n",
       "      <th>1949-02-28</th>\n",
       "      <td>118</td>\n",
       "      <td>118.00</td>\n",
       "    </tr>\n",
       "    <tr>\n",
       "      <th>1949-03-31</th>\n",
       "      <td>132</td>\n",
       "      <td>132.00</td>\n",
       "    </tr>\n",
       "    <tr>\n",
       "      <th>1949-04-30</th>\n",
       "      <td>129</td>\n",
       "      <td>129.00</td>\n",
       "    </tr>\n",
       "    <tr>\n",
       "      <th>1949-05-31</th>\n",
       "      <td>121</td>\n",
       "      <td>126.25</td>\n",
       "    </tr>\n",
       "    <tr>\n",
       "      <th>...</th>\n",
       "      <td>...</td>\n",
       "      <td>...</td>\n",
       "    </tr>\n",
       "    <tr>\n",
       "      <th>1960-08-31</th>\n",
       "      <td>606</td>\n",
       "      <td>606.00</td>\n",
       "    </tr>\n",
       "    <tr>\n",
       "      <th>1960-09-30</th>\n",
       "      <td>508</td>\n",
       "      <td>508.00</td>\n",
       "    </tr>\n",
       "    <tr>\n",
       "      <th>1960-10-31</th>\n",
       "      <td>461</td>\n",
       "      <td>461.00</td>\n",
       "    </tr>\n",
       "    <tr>\n",
       "      <th>1960-11-30</th>\n",
       "      <td>390</td>\n",
       "      <td>390.00</td>\n",
       "    </tr>\n",
       "    <tr>\n",
       "      <th>1960-12-31</th>\n",
       "      <td>432</td>\n",
       "      <td>432.00</td>\n",
       "    </tr>\n",
       "  </tbody>\n",
       "</table>\n",
       "<p>144 rows × 2 columns</p>\n",
       "</div>"
      ],
      "text/plain": [
       "            Original  Imputed_Exp\n",
       "1949-01-31       112       112.00\n",
       "1949-02-28       118       118.00\n",
       "1949-03-31       132       132.00\n",
       "1949-04-30       129       129.00\n",
       "1949-05-31       121       126.25\n",
       "...              ...          ...\n",
       "1960-08-31       606       606.00\n",
       "1960-09-30       508       508.00\n",
       "1960-10-31       461       461.00\n",
       "1960-11-30       390       390.00\n",
       "1960-12-31       432       432.00\n",
       "\n",
       "[144 rows x 2 columns]"
      ]
     },
     "execution_count": 12,
     "metadata": {},
     "output_type": "execute_result"
    }
   ],
   "source": [
    "# Combinar ambas series en un DataFrame\n",
    "serie_combined_exp = pd.DataFrame({'Original': air_passengers['value'], 'Imputed_Exp': serie_filled_exp})\n",
    "serie_combined_exp\n"
   ]
  },
  {
   "cell_type": "code",
   "execution_count": 14,
   "metadata": {},
   "outputs": [
    {
     "name": "stderr",
     "output_type": "stream",
     "text": [
      "C:\\Users\\wsand\\AppData\\Local\\Temp\\ipykernel_12724\\1648809541.py:5: UserWarning: FigureCanvasAgg is non-interactive, and thus cannot be shown\n",
      "  fig.show()\n"
     ]
    },
    {
     "data": {
      "image/png": "[encoded data removed]",
      "text/plain": [
       "<Figure size 1000x500 with 1 Axes>"
      ]
     },
     "metadata": {},
     "output_type": "display_data"
    }
   ],
   "source": [
    "fig, ax=plt.subplots(figsize=(10, 5))\n",
    "plt.plot(serie_combined_exp['Original'], label='Original')\n",
    "plt.plot(serie_combined_exp['Imputed_Exp'], label='Imputed Exp', linestyle='--')\n",
    "ax.legend()\n",
    "fig.show()"
   ]
  },
  {
   "cell_type": "code",
   "execution_count": 15,
   "metadata": {},
   "outputs": [
    {
     "name": "stdout",
     "output_type": "stream",
     "text": [
      "1949-01-31    112.0\n",
      "1949-02-28    118.0\n",
      "1949-03-31    132.0\n",
      "1949-04-30    129.0\n",
      "1949-05-31    129.0\n",
      "              ...  \n",
      "1960-08-31    606.0\n",
      "1960-09-30    508.0\n",
      "1960-10-31    461.0\n",
      "1960-11-30    390.0\n",
      "1960-12-31    432.0\n",
      "Freq: ME, Name: value, Length: 144, dtype: float64\n"
     ]
    }
   ],
   "source": [
    "# Imputación utilizando el último valor observado (LOCF - Last Observation Carried Forward)\n",
    "serie_locf = serie.copy()\n",
    "serie_locf.ffill(inplace=True)  # Método para rellenar hacia adelante en pandas\n",
    "print(serie_locf)\n"
   ]
  },
  {
   "cell_type": "code",
   "execution_count": 16,
   "metadata": {},
   "outputs": [
    {
     "data": {
      "application/vnd.microsoft.datawrangler.viewer.v0+json": {
       "columns": [
        {
         "name": "index",
         "rawType": "datetime64[ns]",
         "type": "datetime"
        },
        {
         "name": "Original",
         "rawType": "int64",
         "type": "integer"
        },
        {
         "name": "Imputed_LOCF",
         "rawType": "float64",
         "type": "float"
        }
       ],
       "conversionMethod": "pd.DataFrame",
       "ref": "4217ad64-abf7-45fd-8950-b6cb359be0b5",
       "rows": [
        [
         "1949-01-31 00:00:00",
         "112",
         "112.0"
        ],
        [
         "1949-02-28 00:00:00",
         "118",
         "118.0"
        ],
        [
         "1949-03-31 00:00:00",
         "132",
         "132.0"
        ],
        [
         "1949-04-30 00:00:00",
         "129",
         "129.0"
        ],
        [
         "1949-05-31 00:00:00",
         "121",
         "129.0"
        ],
        [
         "1949-06-30 00:00:00",
         "135",
         "135.0"
        ],
        [
         "1949-07-31 00:00:00",
         "148",
         "148.0"
        ],
        [
         "1949-08-31 00:00:00",
         "148",
         "148.0"
        ],
        [
         "1949-09-30 00:00:00",
         "136",
         "136.0"
        ],
        [
         "1949-10-31 00:00:00",
         "119",
         "136.0"
        ],
        [
         "1949-11-30 00:00:00",
         "104",
         "104.0"
        ],
        [
         "1949-12-31 00:00:00",
         "118",
         "118.0"
        ],
        [
         "1950-01-31 00:00:00",
         "115",
         "115.0"
        ],
        [
         "1950-02-28 00:00:00",
         "126",
         "126.0"
        ],
        [
         "1950-03-31 00:00:00",
         "141",
         "141.0"
        ],
        [
         "1950-04-30 00:00:00",
         "135",
         "135.0"
        ],
        [
         "1950-05-31 00:00:00",
         "125",
         "125.0"
        ],
        [
         "1950-06-30 00:00:00",
         "149",
         "149.0"
        ],
        [
         "1950-07-31 00:00:00",
         "170",
         "170.0"
        ],
        [
         "1950-08-31 00:00:00",
         "170",
         "170.0"
        ],
        [
         "1950-09-30 00:00:00",
         "158",
         "158.0"
        ],
        [
         "1950-10-31 00:00:00",
         "133",
         "133.0"
        ],
        [
         "1950-11-30 00:00:00",
         "114",
         "114.0"
        ],
        [
         "1950-12-31 00:00:00",
         "140",
         "140.0"
        ],
        [
         "1951-01-31 00:00:00",
         "145",
         "145.0"
        ],
        [
         "1951-02-28 00:00:00",
         "150",
         "150.0"
        ],
        [
         "1951-03-31 00:00:00",
         "178",
         "178.0"
        ],
        [
         "1951-04-30 00:00:00",
         "163",
         "163.0"
        ],
        [
         "1951-05-31 00:00:00",
         "172",
         "172.0"
        ],
        [
         "1951-06-30 00:00:00",
         "178",
         "178.0"
        ],
        [
         "1951-07-31 00:00:00",
         "199",
         "199.0"
        ],
        [
         "1951-08-31 00:00:00",
         "199",
         "199.0"
        ],
        [
         "1951-09-30 00:00:00",
         "184",
         "184.0"
        ],
        [
         "1951-10-31 00:00:00",
         "162",
         "162.0"
        ],
        [
         "1951-11-30 00:00:00",
         "146",
         "146.0"
        ],
        [
         "1951-12-31 00:00:00",
         "166",
         "166.0"
        ],
        [
         "1952-01-31 00:00:00",
         "171",
         "171.0"
        ],
        [
         "1952-02-29 00:00:00",
         "180",
         "180.0"
        ],
        [
         "1952-03-31 00:00:00",
         "193",
         "193.0"
        ],
        [
         "1952-04-30 00:00:00",
         "181",
         "181.0"
        ],
        [
         "1952-05-31 00:00:00",
         "183",
         "183.0"
        ],
        [
         "1952-06-30 00:00:00",
         "218",
         "218.0"
        ],
        [
         "1952-07-31 00:00:00",
         "230",
         "230.0"
        ],
        [
         "1952-08-31 00:00:00",
         "242",
         "242.0"
        ],
        [
         "1952-09-30 00:00:00",
         "209",
         "209.0"
        ],
        [
         "1952-10-31 00:00:00",
         "191",
         "191.0"
        ],
        [
         "1952-11-30 00:00:00",
         "172",
         "172.0"
        ],
        [
         "1952-12-31 00:00:00",
         "194",
         "194.0"
        ],
        [
         "1953-01-31 00:00:00",
         "196",
         "196.0"
        ],
        [
         "1953-02-28 00:00:00",
         "196",
         "196.0"
        ]
       ],
       "shape": {
        "columns": 2,
        "rows": 144
       }
      },
      "text/html": [
       "<div>\n",
       "<style scoped>\n",
       "    .dataframe tbody tr th:only-of-type {\n",
       "        vertical-align: middle;\n",
       "    }\n",
       "\n",
       "    .dataframe tbody tr th {\n",
       "        vertical-align: top;\n",
       "    }\n",
       "\n",
       "    .dataframe thead th {\n",
       "        text-align: right;\n",
       "    }\n",
       "</style>\n",
       "<table border=\"1\" class=\"dataframe\">\n",
       "  <thead>\n",
       "    <tr style=\"text-align: right;\">\n",
       "      <th></th>\n",
       "      <th>Original</th>\n",
       "      <th>Imputed_LOCF</th>\n",
       "    </tr>\n",
       "  </thead>\n",
       "  <tbody>\n",
       "    <tr>\n",
       "      <th>1949-01-31</th>\n",
       "      <td>112</td>\n",
       "      <td>112.0</td>\n",
       "    </tr>\n",
       "    <tr>\n",
       "      <th>1949-02-28</th>\n",
       "      <td>118</td>\n",
       "      <td>118.0</td>\n",
       "    </tr>\n",
       "    <tr>\n",
       "      <th>1949-03-31</th>\n",
       "      <td>132</td>\n",
       "      <td>132.0</td>\n",
       "    </tr>\n",
       "    <tr>\n",
       "      <th>1949-04-30</th>\n",
       "      <td>129</td>\n",
       "      <td>129.0</td>\n",
       "    </tr>\n",
       "    <tr>\n",
       "      <th>1949-05-31</th>\n",
       "      <td>121</td>\n",
       "      <td>129.0</td>\n",
       "    </tr>\n",
       "    <tr>\n",
       "      <th>...</th>\n",
       "      <td>...</td>\n",
       "      <td>...</td>\n",
       "    </tr>\n",
       "    <tr>\n",
       "      <th>1960-08-31</th>\n",
       "      <td>606</td>\n",
       "      <td>606.0</td>\n",
       "    </tr>\n",
       "    <tr>\n",
       "      <th>1960-09-30</th>\n",
       "      <td>508</td>\n",
       "      <td>508.0</td>\n",
       "    </tr>\n",
       "    <tr>\n",
       "      <th>1960-10-31</th>\n",
       "      <td>461</td>\n",
       "      <td>461.0</td>\n",
       "    </tr>\n",
       "    <tr>\n",
       "      <th>1960-11-30</th>\n",
       "      <td>390</td>\n",
       "      <td>390.0</td>\n",
       "    </tr>\n",
       "    <tr>\n",
       "      <th>1960-12-31</th>\n",
       "      <td>432</td>\n",
       "      <td>432.0</td>\n",
       "    </tr>\n",
       "  </tbody>\n",
       "</table>\n",
       "<p>144 rows × 2 columns</p>\n",
       "</div>"
      ],
      "text/plain": [
       "            Original  Imputed_LOCF\n",
       "1949-01-31       112         112.0\n",
       "1949-02-28       118         118.0\n",
       "1949-03-31       132         132.0\n",
       "1949-04-30       129         129.0\n",
       "1949-05-31       121         129.0\n",
       "...              ...           ...\n",
       "1960-08-31       606         606.0\n",
       "1960-09-30       508         508.0\n",
       "1960-10-31       461         461.0\n",
       "1960-11-30       390         390.0\n",
       "1960-12-31       432         432.0\n",
       "\n",
       "[144 rows x 2 columns]"
      ]
     },
     "execution_count": 16,
     "metadata": {},
     "output_type": "execute_result"
    }
   ],
   "source": [
    "serie_combined_locf = pd.DataFrame({'Original': air_passengers['value'], 'Imputed_LOCF': serie_locf})\n",
    "serie_combined_locf"
   ]
  },
  {
   "cell_type": "code",
   "execution_count": 20,
   "metadata": {},
   "outputs": [
    {
     "data": {
      "text/plain": [
       "[<matplotlib.lines.Line2D at 0x12ddecae150>]"
      ]
     },
     "execution_count": 20,
     "metadata": {},
     "output_type": "execute_result"
    },
    {
     "data": {
      "image/png": "[encoded data removed]",
      "text/plain": [
       "<Figure size 1000x500 with 1 Axes>"
      ]
     },
     "metadata": {},
     "output_type": "display_data"
    }
   ],
   "source": [
    "fig, ax = plt.subplots(figsize=(10, 5))\n",
    "plt.plot(serie_combined_locf['Original'],  label='Original', marker='o')\n",
    "plt.plot(serie_combined_locf['Imputed_LOCF'], label='Imputed', linestyle='--')"
   ]
  },
  {
   "cell_type": "code",
   "execution_count": 21,
   "metadata": {},
   "outputs": [
    {
     "name": "stdout",
     "output_type": "stream",
     "text": [
      "1949-01-31    112.0\n",
      "1949-02-28    118.0\n",
      "1949-03-31    132.0\n",
      "1949-04-30    129.0\n",
      "1949-05-31    132.0\n",
      "              ...  \n",
      "1960-08-31    606.0\n",
      "1960-09-30    508.0\n",
      "1960-10-31    461.0\n",
      "1960-11-30    390.0\n",
      "1960-12-31    432.0\n",
      "Freq: ME, Name: value, Length: 144, dtype: float64\n"
     ]
    }
   ],
   "source": [
    "# Imputación utilizando interpolación lineal\n",
    "serie_interpolated = serie.interpolate(method='linear')\n",
    "print(serie_interpolated)\n"
   ]
  },
  {
   "cell_type": "code",
   "execution_count": 22,
   "metadata": {},
   "outputs": [
    {
     "data": {
      "image/png": "[encoded data removed]",
      "text/plain": [
       "<Figure size 1000x500 with 1 Axes>"
      ]
     },
     "metadata": {},
     "output_type": "display_data"
    }
   ],
   "source": [
    "# Combinar ambas series en un DataFrame\n",
    "serie_combined_interp = pd.DataFrame({'Original': air_passengers['value'], 'Interpolated': serie_interpolated})\n",
    "\n",
    "# Visualización de la serie interpolada\n",
    "plt.figure(figsize=(10, 5))\n",
    "plt.plot(serie_combined_interp['Original'], label='Original')\n",
    "plt.plot(serie_combined_interp['Interpolated'], label='Interpolated', linestyle='--')\n",
    "plt.title('AirPassengers with Linear Interpolation')\n",
    "plt.xlabel('Time')\n",
    "plt.ylabel('Number of Passengers')\n",
    "plt.legend()\n",
    "plt.show()\n"
   ]
  },
  {
   "cell_type": "code",
   "execution_count": null,
   "metadata": {},
   "outputs": [
    {
     "name": "stdout",
     "output_type": "stream",
     "text": [
      "Collecting pykalman\n",
      "  Downloading pykalman-0.10.1-py2.py3-none-any.whl.metadata (9.5 kB)\n",
      "Requirement already satisfied: numpy<3 in c:\\users\\wsand\\anaconda3\\lib\\site-packages (from pykalman) (1.26.4)\n",
      "Requirement already satisfied: packaging in c:\\users\\wsand\\appdata\\roaming\\python\\python312\\site-packages (from pykalman) (24.0)\n",
      "Collecting scikit-base<0.13.0 (from pykalman)\n",
      "  Downloading scikit_base-0.12.0-py3-none-any.whl.metadata (8.5 kB)\n",
      "Requirement already satisfied: scipy<2.0.0 in c:\\users\\wsand\\anaconda3\\lib\\site-packages (from pykalman) (1.13.1)\n",
      "Downloading pykalman-0.10.1-py2.py3-none-any.whl (248 kB)\n",
      "Downloading scikit_base-0.12.0-py3-none-any.whl (141 kB)\n",
      "Installing collected packages: scikit-base, pykalman\n",
      "Successfully installed pykalman-0.10.1 scikit-base-0.12.0\n",
      "Note: you may need to restart the kernel to use updated packages.\n"
     ]
    }
   ],
   "source": [
    "\n",
    "#%pip install pykalman"
   ]
  },
  {
   "cell_type": "code",
   "execution_count": 23,
   "metadata": {},
   "outputs": [],
   "source": [
    "from statsmodels.tsa.arima.model import ARIMA\n",
    "\n",
    "# Crear un modelo ARIMA para imputación\n",
    "modelo_arima = ARIMA(serie, order=(1, 1, 0)).fit()\n",
    "serie_arima = serie.copy()\n",
    "serie_arima = serie_arima.fillna(modelo_arima.predict(start=0, end=len(serie_arima) - 1))\n"
   ]
  },
  {
   "cell_type": "code",
   "execution_count": 24,
   "metadata": {},
   "outputs": [
    {
     "name": "stdout",
     "output_type": "stream",
     "text": [
      "1949-01-31    112.00000\n",
      "1949-02-28    118.00000\n",
      "1949-03-31    132.00000\n",
      "1949-04-30    129.00000\n",
      "1949-05-31    128.08754\n",
      "                ...    \n",
      "1960-08-31    606.00000\n",
      "1960-09-30    508.00000\n",
      "1960-10-31    461.00000\n",
      "1960-11-30    390.00000\n",
      "1960-12-31    432.00000\n",
      "Freq: ME, Name: value, Length: 144, dtype: float64\n"
     ]
    }
   ],
   "source": [
    "print(serie_arima)\n"
   ]
  },
  {
   "cell_type": "code",
   "execution_count": 25,
   "metadata": {},
   "outputs": [
    {
     "data": {
      "application/vnd.microsoft.datawrangler.viewer.v0+json": {
       "columns": [
        {
         "name": "index",
         "rawType": "datetime64[ns]",
         "type": "datetime"
        },
        {
         "name": "Original",
         "rawType": "int64",
         "type": "integer"
        },
        {
         "name": "ARIMA",
         "rawType": "float64",
         "type": "float"
        }
       ],
       "conversionMethod": "pd.DataFrame",
       "ref": "744637fe-9fc2-4f0f-b578-8c3f5d5eb1e6",
       "rows": [
        [
         "1949-01-31 00:00:00",
         "112",
         "112.0"
        ],
        [
         "1949-02-28 00:00:00",
         "118",
         "118.0"
        ],
        [
         "1949-03-31 00:00:00",
         "132",
         "132.0"
        ],
        [
         "1949-04-30 00:00:00",
         "129",
         "129.0"
        ],
        [
         "1949-05-31 00:00:00",
         "121",
         "128.08753969179028"
        ],
        [
         "1949-06-30 00:00:00",
         "135",
         "135.0"
        ],
        [
         "1949-07-31 00:00:00",
         "148",
         "148.0"
        ],
        [
         "1949-08-31 00:00:00",
         "148",
         "148.0"
        ],
        [
         "1949-09-30 00:00:00",
         "136",
         "136.0"
        ],
        [
         "1949-10-31 00:00:00",
         "119",
         "132.35015876716128"
        ],
        [
         "1949-11-30 00:00:00",
         "104",
         "104.0"
        ],
        [
         "1949-12-31 00:00:00",
         "118",
         "118.0"
        ],
        [
         "1950-01-31 00:00:00",
         "115",
         "115.0"
        ],
        [
         "1950-02-28 00:00:00",
         "126",
         "126.0"
        ],
        [
         "1950-03-31 00:00:00",
         "141",
         "141.0"
        ],
        [
         "1950-04-30 00:00:00",
         "135",
         "135.0"
        ],
        [
         "1950-05-31 00:00:00",
         "125",
         "125.0"
        ],
        [
         "1950-06-30 00:00:00",
         "149",
         "149.0"
        ],
        [
         "1950-07-31 00:00:00",
         "170",
         "170.0"
        ],
        [
         "1950-08-31 00:00:00",
         "170",
         "170.0"
        ],
        [
         "1950-09-30 00:00:00",
         "158",
         "158.0"
        ],
        [
         "1950-10-31 00:00:00",
         "133",
         "133.0"
        ],
        [
         "1950-11-30 00:00:00",
         "114",
         "114.0"
        ],
        [
         "1950-12-31 00:00:00",
         "140",
         "140.0"
        ],
        [
         "1951-01-31 00:00:00",
         "145",
         "145.0"
        ],
        [
         "1951-02-28 00:00:00",
         "150",
         "150.0"
        ],
        [
         "1951-03-31 00:00:00",
         "178",
         "178.0"
        ],
        [
         "1951-04-30 00:00:00",
         "163",
         "163.0"
        ],
        [
         "1951-05-31 00:00:00",
         "172",
         "172.0"
        ],
        [
         "1951-06-30 00:00:00",
         "178",
         "178.0"
        ],
        [
         "1951-07-31 00:00:00",
         "199",
         "199.0"
        ],
        [
         "1951-08-31 00:00:00",
         "199",
         "199.0"
        ],
        [
         "1951-09-30 00:00:00",
         "184",
         "184.0"
        ],
        [
         "1951-10-31 00:00:00",
         "162",
         "162.0"
        ],
        [
         "1951-11-30 00:00:00",
         "146",
         "146.0"
        ],
        [
         "1951-12-31 00:00:00",
         "166",
         "166.0"
        ],
        [
         "1952-01-31 00:00:00",
         "171",
         "171.0"
        ],
        [
         "1952-02-29 00:00:00",
         "180",
         "180.0"
        ],
        [
         "1952-03-31 00:00:00",
         "193",
         "193.0"
        ],
        [
         "1952-04-30 00:00:00",
         "181",
         "181.0"
        ],
        [
         "1952-05-31 00:00:00",
         "183",
         "183.0"
        ],
        [
         "1952-06-30 00:00:00",
         "218",
         "218.0"
        ],
        [
         "1952-07-31 00:00:00",
         "230",
         "230.0"
        ],
        [
         "1952-08-31 00:00:00",
         "242",
         "242.0"
        ],
        [
         "1952-09-30 00:00:00",
         "209",
         "209.0"
        ],
        [
         "1952-10-31 00:00:00",
         "191",
         "191.0"
        ],
        [
         "1952-11-30 00:00:00",
         "172",
         "172.0"
        ],
        [
         "1952-12-31 00:00:00",
         "194",
         "194.0"
        ],
        [
         "1953-01-31 00:00:00",
         "196",
         "196.0"
        ],
        [
         "1953-02-28 00:00:00",
         "196",
         "196.0"
        ]
       ],
       "shape": {
        "columns": 2,
        "rows": 144
       }
      },
      "text/html": [
       "<div>\n",
       "<style scoped>\n",
       "    .dataframe tbody tr th:only-of-type {\n",
       "        vertical-align: middle;\n",
       "    }\n",
       "\n",
       "    .dataframe tbody tr th {\n",
       "        vertical-align: top;\n",
       "    }\n",
       "\n",
       "    .dataframe thead th {\n",
       "        text-align: right;\n",
       "    }\n",
       "</style>\n",
       "<table border=\"1\" class=\"dataframe\">\n",
       "  <thead>\n",
       "    <tr style=\"text-align: right;\">\n",
       "      <th></th>\n",
       "      <th>Original</th>\n",
       "      <th>ARIMA</th>\n",
       "    </tr>\n",
       "  </thead>\n",
       "  <tbody>\n",
       "    <tr>\n",
       "      <th>1949-01-31</th>\n",
       "      <td>112</td>\n",
       "      <td>112.00000</td>\n",
       "    </tr>\n",
       "    <tr>\n",
       "      <th>1949-02-28</th>\n",
       "      <td>118</td>\n",
       "      <td>118.00000</td>\n",
       "    </tr>\n",
       "    <tr>\n",
       "      <th>1949-03-31</th>\n",
       "      <td>132</td>\n",
       "      <td>132.00000</td>\n",
       "    </tr>\n",
       "    <tr>\n",
       "      <th>1949-04-30</th>\n",
       "      <td>129</td>\n",
       "      <td>129.00000</td>\n",
       "    </tr>\n",
       "    <tr>\n",
       "      <th>1949-05-31</th>\n",
       "      <td>121</td>\n",
       "      <td>128.08754</td>\n",
       "    </tr>\n",
       "    <tr>\n",
       "      <th>...</th>\n",
       "      <td>...</td>\n",
       "      <td>...</td>\n",
       "    </tr>\n",
       "    <tr>\n",
       "      <th>1960-08-31</th>\n",
       "      <td>606</td>\n",
       "      <td>606.00000</td>\n",
       "    </tr>\n",
       "    <tr>\n",
       "      <th>1960-09-30</th>\n",
       "      <td>508</td>\n",
       "      <td>508.00000</td>\n",
       "    </tr>\n",
       "    <tr>\n",
       "      <th>1960-10-31</th>\n",
       "      <td>461</td>\n",
       "      <td>461.00000</td>\n",
       "    </tr>\n",
       "    <tr>\n",
       "      <th>1960-11-30</th>\n",
       "      <td>390</td>\n",
       "      <td>390.00000</td>\n",
       "    </tr>\n",
       "    <tr>\n",
       "      <th>1960-12-31</th>\n",
       "      <td>432</td>\n",
       "      <td>432.00000</td>\n",
       "    </tr>\n",
       "  </tbody>\n",
       "</table>\n",
       "<p>144 rows × 2 columns</p>\n",
       "</div>"
      ],
      "text/plain": [
       "            Original      ARIMA\n",
       "1949-01-31       112  112.00000\n",
       "1949-02-28       118  118.00000\n",
       "1949-03-31       132  132.00000\n",
       "1949-04-30       129  129.00000\n",
       "1949-05-31       121  128.08754\n",
       "...              ...        ...\n",
       "1960-08-31       606  606.00000\n",
       "1960-09-30       508  508.00000\n",
       "1960-10-31       461  461.00000\n",
       "1960-11-30       390  390.00000\n",
       "1960-12-31       432  432.00000\n",
       "\n",
       "[144 rows x 2 columns]"
      ]
     },
     "execution_count": 25,
     "metadata": {},
     "output_type": "execute_result"
    }
   ],
   "source": [
    "# Combinar ambas series en un DataFrame\n",
    "serie_combined_arima = pd.DataFrame({'Original': air_passengers['value'], 'ARIMA': serie_arima})\n",
    "serie_combined_arima"
   ]
  },
  {
   "cell_type": "code",
   "execution_count": 26,
   "metadata": {},
   "outputs": [
    {
     "data": {
      "text/plain": [
       "Text(0.5, 1.0, 'AirPassengers with ARIMA Imputation')"
      ]
     },
     "execution_count": 26,
     "metadata": {},
     "output_type": "execute_result"
    },
    {
     "data": {
      "image/png": "[encoded data removed]",
      "text/plain": [
       "<Figure size 1000x500 with 1 Axes>"
      ]
     },
     "metadata": {},
     "output_type": "display_data"
    }
   ],
   "source": [
    "fig, ax = plt.subplots(figsize=(10, 5))\n",
    "plt.plot(serie_combined_arima['Original'], label='Original')\n",
    "plt.plot(serie_combined_arima['ARIMA'], label='Imputed', linestyle='--')\n",
    "plt.title('AirPassengers with ARIMA Imputation')"
   ]
  }
 ],
 "metadata": {
  "kernelspec": {
   "display_name": "base",
   "language": "python",
   "name": "python3"
  },
  "language_info": {
   "codemirror_mode": {
    "name": "ipython",
    "version": 3
   },
   "file_extension": ".py",
   "mimetype": "text/x-python",
   "name": "python",
   "nbconvert_exporter": "python",
   "pygments_lexer": "ipython3",
   "version": "3.12.4"
  }
 },
 "nbformat": 4,
 "nbformat_minor": 2
}
